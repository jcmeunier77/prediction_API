{
 "cells": [
  {
   "cell_type": "markdown",
   "metadata": {},
   "source": [
    "## D. ML Regression models, houses"
   ]
  },
  {
   "cell_type": "code",
   "execution_count": 1,
   "metadata": {},
   "outputs": [],
   "source": [
    "import numpy as np\n",
    "import pandas as pd\n",
    "import matplotlib.pyplot as plt\n",
    "from mpl_toolkits.mplot3d import Axes3D\n",
    "from sklearn.model_selection import train_test_split\n",
    "from sklearn.linear_model import LinearRegression\n",
    "from sklearn.datasets import make_regression\n",
    "import seaborn as sns\n",
    "from sklearn.pipeline import Pipeline, make_pipeline\n",
    "from sklearn.preprocessing import PolynomialFeatures\n",
    "from sklearn.linear_model import LinearRegression\n",
    "import pickle\n",
    "import json\n"
   ]
  },
  {
   "cell_type": "code",
   "execution_count": 2,
   "metadata": {},
   "outputs": [],
   "source": [
    "Houses = pd.read_csv('DEF_house.csv', sep=',', na_values='None')\n",
    "Aparts = pd.read_csv('DEF_apart.csv', sep=',', na_values='None')"
   ]
  },
  {
   "cell_type": "code",
   "execution_count": 3,
   "metadata": {},
   "outputs": [],
   "source": [
    "Houses = Houses.drop('Unnamed: 0', axis=1)"
   ]
  },
  {
   "cell_type": "code",
   "execution_count": 4,
   "metadata": {},
   "outputs": [
    {
     "data": {
      "text/plain": [
       "Index(['price', 'Commune', 'rank_city_pr', 'house_area', 'surface_of_the_land',\n",
       "       'number_of_facades', 'number_of_rooms', 'garden', 'terrace',\n",
       "       'terrace_area', 'fully_equipped_kitchen', 'open_fire', 'swimming_pool',\n",
       "       'SB_as new', 'SB_just renovated', 'SB_good', 'SB_to be done up',\n",
       "       'SB_to renovate', 'SB_to restore'],\n",
       "      dtype='object')"
      ]
     },
     "execution_count": 4,
     "metadata": {},
     "output_type": "execute_result"
    }
   ],
   "source": [
    "Houses.columns"
   ]
  },
  {
   "cell_type": "code",
   "execution_count": 5,
   "metadata": {
    "scrolled": true
   },
   "outputs": [
    {
     "data": {
      "text/html": [
       "<div>\n",
       "<style scoped>\n",
       "    .dataframe tbody tr th:only-of-type {\n",
       "        vertical-align: middle;\n",
       "    }\n",
       "\n",
       "    .dataframe tbody tr th {\n",
       "        vertical-align: top;\n",
       "    }\n",
       "\n",
       "    .dataframe thead th {\n",
       "        text-align: right;\n",
       "    }\n",
       "</style>\n",
       "<table border=\"1\" class=\"dataframe\">\n",
       "  <thead>\n",
       "    <tr style=\"text-align: right;\">\n",
       "      <th></th>\n",
       "      <th>price</th>\n",
       "      <th>Commune</th>\n",
       "      <th>rank_city_pr</th>\n",
       "      <th>house_area</th>\n",
       "      <th>surface_of_the_land</th>\n",
       "      <th>number_of_facades</th>\n",
       "      <th>number_of_rooms</th>\n",
       "      <th>garden</th>\n",
       "      <th>terrace</th>\n",
       "      <th>terrace_area</th>\n",
       "      <th>fully_equipped_kitchen</th>\n",
       "      <th>open_fire</th>\n",
       "      <th>swimming_pool</th>\n",
       "      <th>SB_as new</th>\n",
       "      <th>SB_just renovated</th>\n",
       "      <th>SB_good</th>\n",
       "      <th>SB_to be done up</th>\n",
       "      <th>SB_to renovate</th>\n",
       "      <th>SB_to restore</th>\n",
       "    </tr>\n",
       "  </thead>\n",
       "  <tbody>\n",
       "    <tr>\n",
       "      <th>0</th>\n",
       "      <td>340000</td>\n",
       "      <td>IXELLES</td>\n",
       "      <td>564.0</td>\n",
       "      <td>203.0</td>\n",
       "      <td>95.0</td>\n",
       "      <td>2.0</td>\n",
       "      <td>6</td>\n",
       "      <td>0</td>\n",
       "      <td>1</td>\n",
       "      <td>NaN</td>\n",
       "      <td>1</td>\n",
       "      <td>0</td>\n",
       "      <td>0</td>\n",
       "      <td>0</td>\n",
       "      <td>0</td>\n",
       "      <td>0</td>\n",
       "      <td>1</td>\n",
       "      <td>0</td>\n",
       "      <td>0</td>\n",
       "    </tr>\n",
       "    <tr>\n",
       "      <th>1</th>\n",
       "      <td>525000</td>\n",
       "      <td>KAPELLE-OP-DEN-BOS</td>\n",
       "      <td>497.0</td>\n",
       "      <td>250.0</td>\n",
       "      <td>826.0</td>\n",
       "      <td>4.0</td>\n",
       "      <td>6</td>\n",
       "      <td>1</td>\n",
       "      <td>1</td>\n",
       "      <td>40.0</td>\n",
       "      <td>1</td>\n",
       "      <td>0</td>\n",
       "      <td>0</td>\n",
       "      <td>1</td>\n",
       "      <td>0</td>\n",
       "      <td>0</td>\n",
       "      <td>0</td>\n",
       "      <td>0</td>\n",
       "      <td>0</td>\n",
       "    </tr>\n",
       "    <tr>\n",
       "      <th>2</th>\n",
       "      <td>550000</td>\n",
       "      <td>SPA</td>\n",
       "      <td>522.0</td>\n",
       "      <td>475.0</td>\n",
       "      <td>1543.0</td>\n",
       "      <td>4.0</td>\n",
       "      <td>11</td>\n",
       "      <td>1</td>\n",
       "      <td>1</td>\n",
       "      <td>NaN</td>\n",
       "      <td>1</td>\n",
       "      <td>0</td>\n",
       "      <td>0</td>\n",
       "      <td>0</td>\n",
       "      <td>0</td>\n",
       "      <td>1</td>\n",
       "      <td>0</td>\n",
       "      <td>0</td>\n",
       "      <td>0</td>\n",
       "    </tr>\n",
       "    <tr>\n",
       "      <th>3</th>\n",
       "      <td>550000</td>\n",
       "      <td>FRASNES-LEZ-ANVAING</td>\n",
       "      <td>340.0</td>\n",
       "      <td>325.0</td>\n",
       "      <td>3570.0</td>\n",
       "      <td>4.0</td>\n",
       "      <td>4</td>\n",
       "      <td>1</td>\n",
       "      <td>1</td>\n",
       "      <td>NaN</td>\n",
       "      <td>1</td>\n",
       "      <td>0</td>\n",
       "      <td>0</td>\n",
       "      <td>0</td>\n",
       "      <td>0</td>\n",
       "      <td>1</td>\n",
       "      <td>0</td>\n",
       "      <td>0</td>\n",
       "      <td>0</td>\n",
       "    </tr>\n",
       "    <tr>\n",
       "      <th>4</th>\n",
       "      <td>550000</td>\n",
       "      <td>CHARLEROI</td>\n",
       "      <td>19.0</td>\n",
       "      <td>400.0</td>\n",
       "      <td>616.0</td>\n",
       "      <td>3.0</td>\n",
       "      <td>5</td>\n",
       "      <td>1</td>\n",
       "      <td>1</td>\n",
       "      <td>80.0</td>\n",
       "      <td>1</td>\n",
       "      <td>0</td>\n",
       "      <td>0</td>\n",
       "      <td>1</td>\n",
       "      <td>0</td>\n",
       "      <td>0</td>\n",
       "      <td>0</td>\n",
       "      <td>0</td>\n",
       "      <td>0</td>\n",
       "    </tr>\n",
       "    <tr>\n",
       "      <th>...</th>\n",
       "      <td>...</td>\n",
       "      <td>...</td>\n",
       "      <td>...</td>\n",
       "      <td>...</td>\n",
       "      <td>...</td>\n",
       "      <td>...</td>\n",
       "      <td>...</td>\n",
       "      <td>...</td>\n",
       "      <td>...</td>\n",
       "      <td>...</td>\n",
       "      <td>...</td>\n",
       "      <td>...</td>\n",
       "      <td>...</td>\n",
       "      <td>...</td>\n",
       "      <td>...</td>\n",
       "      <td>...</td>\n",
       "      <td>...</td>\n",
       "      <td>...</td>\n",
       "      <td>...</td>\n",
       "    </tr>\n",
       "    <tr>\n",
       "      <th>22482</th>\n",
       "      <td>468000</td>\n",
       "      <td>RIJKEVORSEL</td>\n",
       "      <td>533.0</td>\n",
       "      <td>180.0</td>\n",
       "      <td>0.0</td>\n",
       "      <td>4.0</td>\n",
       "      <td>3</td>\n",
       "      <td>0</td>\n",
       "      <td>0</td>\n",
       "      <td>0.0</td>\n",
       "      <td>1</td>\n",
       "      <td>0</td>\n",
       "      <td>0</td>\n",
       "      <td>0</td>\n",
       "      <td>0</td>\n",
       "      <td>0</td>\n",
       "      <td>0</td>\n",
       "      <td>0</td>\n",
       "      <td>0</td>\n",
       "    </tr>\n",
       "    <tr>\n",
       "      <th>22483</th>\n",
       "      <td>454993</td>\n",
       "      <td>VILVOORDE</td>\n",
       "      <td>309.0</td>\n",
       "      <td>169.0</td>\n",
       "      <td>389.0</td>\n",
       "      <td>3.0</td>\n",
       "      <td>3</td>\n",
       "      <td>0</td>\n",
       "      <td>0</td>\n",
       "      <td>0.0</td>\n",
       "      <td>0</td>\n",
       "      <td>0</td>\n",
       "      <td>0</td>\n",
       "      <td>0</td>\n",
       "      <td>0</td>\n",
       "      <td>0</td>\n",
       "      <td>0</td>\n",
       "      <td>0</td>\n",
       "      <td>0</td>\n",
       "    </tr>\n",
       "    <tr>\n",
       "      <th>22484</th>\n",
       "      <td>475000</td>\n",
       "      <td>HOUTHALEN-HELCHTEREN</td>\n",
       "      <td>204.0</td>\n",
       "      <td>222.0</td>\n",
       "      <td>1124.0</td>\n",
       "      <td>4.0</td>\n",
       "      <td>3</td>\n",
       "      <td>0</td>\n",
       "      <td>0</td>\n",
       "      <td>0.0</td>\n",
       "      <td>0</td>\n",
       "      <td>0</td>\n",
       "      <td>0</td>\n",
       "      <td>0</td>\n",
       "      <td>0</td>\n",
       "      <td>0</td>\n",
       "      <td>0</td>\n",
       "      <td>0</td>\n",
       "      <td>0</td>\n",
       "    </tr>\n",
       "    <tr>\n",
       "      <th>22485</th>\n",
       "      <td>475000</td>\n",
       "      <td>ARLON</td>\n",
       "      <td>311.0</td>\n",
       "      <td>240.0</td>\n",
       "      <td>200.0</td>\n",
       "      <td>2.0</td>\n",
       "      <td>9</td>\n",
       "      <td>0</td>\n",
       "      <td>0</td>\n",
       "      <td>0.0</td>\n",
       "      <td>0</td>\n",
       "      <td>0</td>\n",
       "      <td>0</td>\n",
       "      <td>0</td>\n",
       "      <td>0</td>\n",
       "      <td>0</td>\n",
       "      <td>0</td>\n",
       "      <td>0</td>\n",
       "      <td>0</td>\n",
       "    </tr>\n",
       "    <tr>\n",
       "      <th>22486</th>\n",
       "      <td>488000</td>\n",
       "      <td>ANTWERPEN</td>\n",
       "      <td>335.0</td>\n",
       "      <td>145.0</td>\n",
       "      <td>0.0</td>\n",
       "      <td>3.0</td>\n",
       "      <td>3</td>\n",
       "      <td>1</td>\n",
       "      <td>0</td>\n",
       "      <td>0.0</td>\n",
       "      <td>0</td>\n",
       "      <td>0</td>\n",
       "      <td>0</td>\n",
       "      <td>0</td>\n",
       "      <td>0</td>\n",
       "      <td>0</td>\n",
       "      <td>0</td>\n",
       "      <td>0</td>\n",
       "      <td>0</td>\n",
       "    </tr>\n",
       "  </tbody>\n",
       "</table>\n",
       "<p>22487 rows × 19 columns</p>\n",
       "</div>"
      ],
      "text/plain": [
       "        price               Commune  rank_city_pr  house_area  \\\n",
       "0      340000               IXELLES         564.0       203.0   \n",
       "1      525000    KAPELLE-OP-DEN-BOS         497.0       250.0   \n",
       "2      550000                   SPA         522.0       475.0   \n",
       "3      550000   FRASNES-LEZ-ANVAING         340.0       325.0   \n",
       "4      550000             CHARLEROI          19.0       400.0   \n",
       "...       ...                   ...           ...         ...   \n",
       "22482  468000           RIJKEVORSEL         533.0       180.0   \n",
       "22483  454993             VILVOORDE         309.0       169.0   \n",
       "22484  475000  HOUTHALEN-HELCHTEREN         204.0       222.0   \n",
       "22485  475000                 ARLON         311.0       240.0   \n",
       "22486  488000             ANTWERPEN         335.0       145.0   \n",
       "\n",
       "       surface_of_the_land  number_of_facades  number_of_rooms  garden  \\\n",
       "0                     95.0                2.0                6       0   \n",
       "1                    826.0                4.0                6       1   \n",
       "2                   1543.0                4.0               11       1   \n",
       "3                   3570.0                4.0                4       1   \n",
       "4                    616.0                3.0                5       1   \n",
       "...                    ...                ...              ...     ...   \n",
       "22482                  0.0                4.0                3       0   \n",
       "22483                389.0                3.0                3       0   \n",
       "22484               1124.0                4.0                3       0   \n",
       "22485                200.0                2.0                9       0   \n",
       "22486                  0.0                3.0                3       1   \n",
       "\n",
       "       terrace  terrace_area  fully_equipped_kitchen  open_fire  \\\n",
       "0            1           NaN                       1          0   \n",
       "1            1          40.0                       1          0   \n",
       "2            1           NaN                       1          0   \n",
       "3            1           NaN                       1          0   \n",
       "4            1          80.0                       1          0   \n",
       "...        ...           ...                     ...        ...   \n",
       "22482        0           0.0                       1          0   \n",
       "22483        0           0.0                       0          0   \n",
       "22484        0           0.0                       0          0   \n",
       "22485        0           0.0                       0          0   \n",
       "22486        0           0.0                       0          0   \n",
       "\n",
       "       swimming_pool  SB_as new  SB_just renovated  SB_good  SB_to be done up  \\\n",
       "0                  0          0                  0        0                 1   \n",
       "1                  0          1                  0        0                 0   \n",
       "2                  0          0                  0        1                 0   \n",
       "3                  0          0                  0        1                 0   \n",
       "4                  0          1                  0        0                 0   \n",
       "...              ...        ...                ...      ...               ...   \n",
       "22482              0          0                  0        0                 0   \n",
       "22483              0          0                  0        0                 0   \n",
       "22484              0          0                  0        0                 0   \n",
       "22485              0          0                  0        0                 0   \n",
       "22486              0          0                  0        0                 0   \n",
       "\n",
       "       SB_to renovate  SB_to restore  \n",
       "0                   0              0  \n",
       "1                   0              0  \n",
       "2                   0              0  \n",
       "3                   0              0  \n",
       "4                   0              0  \n",
       "...               ...            ...  \n",
       "22482               0              0  \n",
       "22483               0              0  \n",
       "22484               0              0  \n",
       "22485               0              0  \n",
       "22486               0              0  \n",
       "\n",
       "[22487 rows x 19 columns]"
      ]
     },
     "execution_count": 5,
     "metadata": {},
     "output_type": "execute_result"
    }
   ],
   "source": [
    "Houses"
   ]
  },
  {
   "cell_type": "code",
   "execution_count": 6,
   "metadata": {},
   "outputs": [],
   "source": [
    "forImputation_h=Houses.drop('Commune',axis=1)"
   ]
  },
  {
   "cell_type": "code",
   "execution_count": 7,
   "metadata": {},
   "outputs": [
    {
     "data": {
      "text/plain": [
       "price                        0\n",
       "rank_city_pr                 0\n",
       "house_area                 118\n",
       "surface_of_the_land        135\n",
       "number_of_facades         2871\n",
       "number_of_rooms              0\n",
       "garden                       0\n",
       "terrace                      0\n",
       "terrace_area              6126\n",
       "fully_equipped_kitchen       0\n",
       "open_fire                    0\n",
       "swimming_pool                0\n",
       "SB_as new                    0\n",
       "SB_just renovated            0\n",
       "SB_good                      0\n",
       "SB_to be done up             0\n",
       "SB_to renovate               0\n",
       "SB_to restore                0\n",
       "dtype: int64"
      ]
     },
     "execution_count": 7,
     "metadata": {},
     "output_type": "execute_result"
    }
   ],
   "source": [
    "forImputation_h.isna().sum()"
   ]
  },
  {
   "cell_type": "code",
   "execution_count": 8,
   "metadata": {},
   "outputs": [],
   "source": [
    "from sklearn.experimental import enable_iterative_imputer  # noqa\n",
    "from sklearn.impute import IterativeImputer\n",
    "imputer = IterativeImputer()\n",
    "imputed_data_h = imputer.fit_transform(forImputation_h)"
   ]
  },
  {
   "cell_type": "code",
   "execution_count": 9,
   "metadata": {},
   "outputs": [
    {
     "data": {
      "text/plain": [
       "(22487, 18)"
      ]
     },
     "execution_count": 9,
     "metadata": {},
     "output_type": "execute_result"
    }
   ],
   "source": [
    "imputed_data_h.shape"
   ]
  },
  {
   "cell_type": "code",
   "execution_count": 10,
   "metadata": {},
   "outputs": [],
   "source": [
    "Houses_I = pd.DataFrame(data=imputed_data_h)"
   ]
  },
  {
   "cell_type": "code",
   "execution_count": 11,
   "metadata": {},
   "outputs": [],
   "source": [
    "Houses_I.columns = ['price', 'rank_city_pr', 'house_area', 'surface_of_the_land',\n",
    "       'number_of_facades', 'number_of_rooms', 'garden', 'terrace',\n",
    "       'terrace_area', 'fully_equipped_kitchen', 'open_fire', 'swimming_pool',\n",
    "       'SB_as new', 'SB_just renovated', 'SB_good', 'SB_to be done up',\n",
    "       'SB_to renovate', 'SB_to restore']"
   ]
  },
  {
   "cell_type": "code",
   "execution_count": 12,
   "metadata": {},
   "outputs": [
    {
     "data": {
      "text/plain": [
       "price                     0\n",
       "rank_city_pr              0\n",
       "house_area                0\n",
       "surface_of_the_land       0\n",
       "number_of_facades         0\n",
       "number_of_rooms           0\n",
       "garden                    0\n",
       "terrace                   0\n",
       "terrace_area              0\n",
       "fully_equipped_kitchen    0\n",
       "open_fire                 0\n",
       "swimming_pool             0\n",
       "SB_as new                 0\n",
       "SB_just renovated         0\n",
       "SB_good                   0\n",
       "SB_to be done up          0\n",
       "SB_to renovate            0\n",
       "SB_to restore             0\n",
       "dtype: int64"
      ]
     },
     "execution_count": 12,
     "metadata": {},
     "output_type": "execute_result"
    }
   ],
   "source": [
    "Houses_I.isna().sum()"
   ]
  },
  {
   "cell_type": "code",
   "execution_count": 13,
   "metadata": {},
   "outputs": [],
   "source": [
    "X_h=Houses_I.drop('price',axis=1) \n",
    "y_h=Houses_I['price'] "
   ]
  },
  {
   "cell_type": "code",
   "execution_count": 14,
   "metadata": {},
   "outputs": [
    {
     "data": {
      "text/plain": [
       "Index(['rank_city_pr', 'house_area', 'surface_of_the_land',\n",
       "       'number_of_facades', 'number_of_rooms', 'garden', 'terrace',\n",
       "       'terrace_area', 'fully_equipped_kitchen', 'open_fire', 'swimming_pool',\n",
       "       'SB_as new', 'SB_just renovated', 'SB_good', 'SB_to be done up',\n",
       "       'SB_to renovate', 'SB_to restore', 'rank_city_pr2', 'rank_city_pr3'],\n",
       "      dtype='object')"
      ]
     },
     "execution_count": 14,
     "metadata": {},
     "output_type": "execute_result"
    }
   ],
   "source": [
    "X_h_poly = X_h\n",
    "X_h_poly['rank_city_pr2'] = X_h_poly['rank_city_pr']**2\n",
    "X_h_poly['rank_city_pr3'] = X_h_poly['rank_city_pr']**3\n",
    "X_h_poly.columns"
   ]
  },
  {
   "cell_type": "code",
   "execution_count": 15,
   "metadata": {},
   "outputs": [
    {
     "data": {
      "text/html": [
       "<div>\n",
       "<style scoped>\n",
       "    .dataframe tbody tr th:only-of-type {\n",
       "        vertical-align: middle;\n",
       "    }\n",
       "\n",
       "    .dataframe tbody tr th {\n",
       "        vertical-align: top;\n",
       "    }\n",
       "\n",
       "    .dataframe thead th {\n",
       "        text-align: right;\n",
       "    }\n",
       "</style>\n",
       "<table border=\"1\" class=\"dataframe\">\n",
       "  <thead>\n",
       "    <tr style=\"text-align: right;\">\n",
       "      <th></th>\n",
       "      <th>rank_city_pr</th>\n",
       "      <th>rank_city_pr2</th>\n",
       "      <th>rank_city_pr3</th>\n",
       "      <th>house_area</th>\n",
       "      <th>surface_of_the_land</th>\n",
       "      <th>number_of_facades</th>\n",
       "      <th>number_of_rooms</th>\n",
       "      <th>garden</th>\n",
       "      <th>terrace</th>\n",
       "      <th>terrace_area</th>\n",
       "      <th>fully_equipped_kitchen</th>\n",
       "      <th>open_fire</th>\n",
       "      <th>swimming_pool</th>\n",
       "      <th>SB_as new</th>\n",
       "      <th>SB_just renovated</th>\n",
       "      <th>SB_good</th>\n",
       "      <th>SB_to be done up</th>\n",
       "      <th>SB_to renovate</th>\n",
       "      <th>SB_to restore</th>\n",
       "    </tr>\n",
       "  </thead>\n",
       "  <tbody>\n",
       "    <tr>\n",
       "      <th>0</th>\n",
       "      <td>564.0</td>\n",
       "      <td>318096.0</td>\n",
       "      <td>179406144.0</td>\n",
       "      <td>203.0</td>\n",
       "      <td>95.0</td>\n",
       "      <td>2.0</td>\n",
       "      <td>6.0</td>\n",
       "      <td>0.0</td>\n",
       "      <td>1.0</td>\n",
       "      <td>25.473960</td>\n",
       "      <td>1.0</td>\n",
       "      <td>0.0</td>\n",
       "      <td>0.0</td>\n",
       "      <td>0.0</td>\n",
       "      <td>0.0</td>\n",
       "      <td>0.0</td>\n",
       "      <td>1.0</td>\n",
       "      <td>0.0</td>\n",
       "      <td>0.0</td>\n",
       "    </tr>\n",
       "    <tr>\n",
       "      <th>1</th>\n",
       "      <td>497.0</td>\n",
       "      <td>247009.0</td>\n",
       "      <td>122763473.0</td>\n",
       "      <td>250.0</td>\n",
       "      <td>826.0</td>\n",
       "      <td>4.0</td>\n",
       "      <td>6.0</td>\n",
       "      <td>1.0</td>\n",
       "      <td>1.0</td>\n",
       "      <td>40.000000</td>\n",
       "      <td>1.0</td>\n",
       "      <td>0.0</td>\n",
       "      <td>0.0</td>\n",
       "      <td>1.0</td>\n",
       "      <td>0.0</td>\n",
       "      <td>0.0</td>\n",
       "      <td>0.0</td>\n",
       "      <td>0.0</td>\n",
       "      <td>0.0</td>\n",
       "    </tr>\n",
       "    <tr>\n",
       "      <th>2</th>\n",
       "      <td>522.0</td>\n",
       "      <td>272484.0</td>\n",
       "      <td>142236648.0</td>\n",
       "      <td>475.0</td>\n",
       "      <td>1543.0</td>\n",
       "      <td>4.0</td>\n",
       "      <td>11.0</td>\n",
       "      <td>1.0</td>\n",
       "      <td>1.0</td>\n",
       "      <td>35.219062</td>\n",
       "      <td>1.0</td>\n",
       "      <td>0.0</td>\n",
       "      <td>0.0</td>\n",
       "      <td>0.0</td>\n",
       "      <td>0.0</td>\n",
       "      <td>1.0</td>\n",
       "      <td>0.0</td>\n",
       "      <td>0.0</td>\n",
       "      <td>0.0</td>\n",
       "    </tr>\n",
       "    <tr>\n",
       "      <th>3</th>\n",
       "      <td>340.0</td>\n",
       "      <td>115600.0</td>\n",
       "      <td>39304000.0</td>\n",
       "      <td>325.0</td>\n",
       "      <td>3570.0</td>\n",
       "      <td>4.0</td>\n",
       "      <td>4.0</td>\n",
       "      <td>1.0</td>\n",
       "      <td>1.0</td>\n",
       "      <td>34.216015</td>\n",
       "      <td>1.0</td>\n",
       "      <td>0.0</td>\n",
       "      <td>0.0</td>\n",
       "      <td>0.0</td>\n",
       "      <td>0.0</td>\n",
       "      <td>1.0</td>\n",
       "      <td>0.0</td>\n",
       "      <td>0.0</td>\n",
       "      <td>0.0</td>\n",
       "    </tr>\n",
       "    <tr>\n",
       "      <th>4</th>\n",
       "      <td>19.0</td>\n",
       "      <td>361.0</td>\n",
       "      <td>6859.0</td>\n",
       "      <td>400.0</td>\n",
       "      <td>616.0</td>\n",
       "      <td>3.0</td>\n",
       "      <td>5.0</td>\n",
       "      <td>1.0</td>\n",
       "      <td>1.0</td>\n",
       "      <td>80.000000</td>\n",
       "      <td>1.0</td>\n",
       "      <td>0.0</td>\n",
       "      <td>0.0</td>\n",
       "      <td>1.0</td>\n",
       "      <td>0.0</td>\n",
       "      <td>0.0</td>\n",
       "      <td>0.0</td>\n",
       "      <td>0.0</td>\n",
       "      <td>0.0</td>\n",
       "    </tr>\n",
       "    <tr>\n",
       "      <th>...</th>\n",
       "      <td>...</td>\n",
       "      <td>...</td>\n",
       "      <td>...</td>\n",
       "      <td>...</td>\n",
       "      <td>...</td>\n",
       "      <td>...</td>\n",
       "      <td>...</td>\n",
       "      <td>...</td>\n",
       "      <td>...</td>\n",
       "      <td>...</td>\n",
       "      <td>...</td>\n",
       "      <td>...</td>\n",
       "      <td>...</td>\n",
       "      <td>...</td>\n",
       "      <td>...</td>\n",
       "      <td>...</td>\n",
       "      <td>...</td>\n",
       "      <td>...</td>\n",
       "      <td>...</td>\n",
       "    </tr>\n",
       "    <tr>\n",
       "      <th>22482</th>\n",
       "      <td>533.0</td>\n",
       "      <td>284089.0</td>\n",
       "      <td>151419437.0</td>\n",
       "      <td>180.0</td>\n",
       "      <td>0.0</td>\n",
       "      <td>4.0</td>\n",
       "      <td>3.0</td>\n",
       "      <td>0.0</td>\n",
       "      <td>0.0</td>\n",
       "      <td>0.000000</td>\n",
       "      <td>1.0</td>\n",
       "      <td>0.0</td>\n",
       "      <td>0.0</td>\n",
       "      <td>0.0</td>\n",
       "      <td>0.0</td>\n",
       "      <td>0.0</td>\n",
       "      <td>0.0</td>\n",
       "      <td>0.0</td>\n",
       "      <td>0.0</td>\n",
       "    </tr>\n",
       "    <tr>\n",
       "      <th>22483</th>\n",
       "      <td>309.0</td>\n",
       "      <td>95481.0</td>\n",
       "      <td>29503629.0</td>\n",
       "      <td>169.0</td>\n",
       "      <td>389.0</td>\n",
       "      <td>3.0</td>\n",
       "      <td>3.0</td>\n",
       "      <td>0.0</td>\n",
       "      <td>0.0</td>\n",
       "      <td>0.000000</td>\n",
       "      <td>0.0</td>\n",
       "      <td>0.0</td>\n",
       "      <td>0.0</td>\n",
       "      <td>0.0</td>\n",
       "      <td>0.0</td>\n",
       "      <td>0.0</td>\n",
       "      <td>0.0</td>\n",
       "      <td>0.0</td>\n",
       "      <td>0.0</td>\n",
       "    </tr>\n",
       "    <tr>\n",
       "      <th>22484</th>\n",
       "      <td>204.0</td>\n",
       "      <td>41616.0</td>\n",
       "      <td>8489664.0</td>\n",
       "      <td>222.0</td>\n",
       "      <td>1124.0</td>\n",
       "      <td>4.0</td>\n",
       "      <td>3.0</td>\n",
       "      <td>0.0</td>\n",
       "      <td>0.0</td>\n",
       "      <td>0.000000</td>\n",
       "      <td>0.0</td>\n",
       "      <td>0.0</td>\n",
       "      <td>0.0</td>\n",
       "      <td>0.0</td>\n",
       "      <td>0.0</td>\n",
       "      <td>0.0</td>\n",
       "      <td>0.0</td>\n",
       "      <td>0.0</td>\n",
       "      <td>0.0</td>\n",
       "    </tr>\n",
       "    <tr>\n",
       "      <th>22485</th>\n",
       "      <td>311.0</td>\n",
       "      <td>96721.0</td>\n",
       "      <td>30080231.0</td>\n",
       "      <td>240.0</td>\n",
       "      <td>200.0</td>\n",
       "      <td>2.0</td>\n",
       "      <td>9.0</td>\n",
       "      <td>0.0</td>\n",
       "      <td>0.0</td>\n",
       "      <td>0.000000</td>\n",
       "      <td>0.0</td>\n",
       "      <td>0.0</td>\n",
       "      <td>0.0</td>\n",
       "      <td>0.0</td>\n",
       "      <td>0.0</td>\n",
       "      <td>0.0</td>\n",
       "      <td>0.0</td>\n",
       "      <td>0.0</td>\n",
       "      <td>0.0</td>\n",
       "    </tr>\n",
       "    <tr>\n",
       "      <th>22486</th>\n",
       "      <td>335.0</td>\n",
       "      <td>112225.0</td>\n",
       "      <td>37595375.0</td>\n",
       "      <td>145.0</td>\n",
       "      <td>0.0</td>\n",
       "      <td>3.0</td>\n",
       "      <td>3.0</td>\n",
       "      <td>1.0</td>\n",
       "      <td>0.0</td>\n",
       "      <td>0.000000</td>\n",
       "      <td>0.0</td>\n",
       "      <td>0.0</td>\n",
       "      <td>0.0</td>\n",
       "      <td>0.0</td>\n",
       "      <td>0.0</td>\n",
       "      <td>0.0</td>\n",
       "      <td>0.0</td>\n",
       "      <td>0.0</td>\n",
       "      <td>0.0</td>\n",
       "    </tr>\n",
       "  </tbody>\n",
       "</table>\n",
       "<p>22487 rows × 19 columns</p>\n",
       "</div>"
      ],
      "text/plain": [
       "       rank_city_pr  rank_city_pr2  rank_city_pr3  house_area  \\\n",
       "0             564.0       318096.0    179406144.0       203.0   \n",
       "1             497.0       247009.0    122763473.0       250.0   \n",
       "2             522.0       272484.0    142236648.0       475.0   \n",
       "3             340.0       115600.0     39304000.0       325.0   \n",
       "4              19.0          361.0         6859.0       400.0   \n",
       "...             ...            ...            ...         ...   \n",
       "22482         533.0       284089.0    151419437.0       180.0   \n",
       "22483         309.0        95481.0     29503629.0       169.0   \n",
       "22484         204.0        41616.0      8489664.0       222.0   \n",
       "22485         311.0        96721.0     30080231.0       240.0   \n",
       "22486         335.0       112225.0     37595375.0       145.0   \n",
       "\n",
       "       surface_of_the_land  number_of_facades  number_of_rooms  garden  \\\n",
       "0                     95.0                2.0              6.0     0.0   \n",
       "1                    826.0                4.0              6.0     1.0   \n",
       "2                   1543.0                4.0             11.0     1.0   \n",
       "3                   3570.0                4.0              4.0     1.0   \n",
       "4                    616.0                3.0              5.0     1.0   \n",
       "...                    ...                ...              ...     ...   \n",
       "22482                  0.0                4.0              3.0     0.0   \n",
       "22483                389.0                3.0              3.0     0.0   \n",
       "22484               1124.0                4.0              3.0     0.0   \n",
       "22485                200.0                2.0              9.0     0.0   \n",
       "22486                  0.0                3.0              3.0     1.0   \n",
       "\n",
       "       terrace  terrace_area  fully_equipped_kitchen  open_fire  \\\n",
       "0          1.0     25.473960                     1.0        0.0   \n",
       "1          1.0     40.000000                     1.0        0.0   \n",
       "2          1.0     35.219062                     1.0        0.0   \n",
       "3          1.0     34.216015                     1.0        0.0   \n",
       "4          1.0     80.000000                     1.0        0.0   \n",
       "...        ...           ...                     ...        ...   \n",
       "22482      0.0      0.000000                     1.0        0.0   \n",
       "22483      0.0      0.000000                     0.0        0.0   \n",
       "22484      0.0      0.000000                     0.0        0.0   \n",
       "22485      0.0      0.000000                     0.0        0.0   \n",
       "22486      0.0      0.000000                     0.0        0.0   \n",
       "\n",
       "       swimming_pool  SB_as new  SB_just renovated  SB_good  SB_to be done up  \\\n",
       "0                0.0        0.0                0.0      0.0               1.0   \n",
       "1                0.0        1.0                0.0      0.0               0.0   \n",
       "2                0.0        0.0                0.0      1.0               0.0   \n",
       "3                0.0        0.0                0.0      1.0               0.0   \n",
       "4                0.0        1.0                0.0      0.0               0.0   \n",
       "...              ...        ...                ...      ...               ...   \n",
       "22482            0.0        0.0                0.0      0.0               0.0   \n",
       "22483            0.0        0.0                0.0      0.0               0.0   \n",
       "22484            0.0        0.0                0.0      0.0               0.0   \n",
       "22485            0.0        0.0                0.0      0.0               0.0   \n",
       "22486            0.0        0.0                0.0      0.0               0.0   \n",
       "\n",
       "       SB_to renovate  SB_to restore  \n",
       "0                 0.0            0.0  \n",
       "1                 0.0            0.0  \n",
       "2                 0.0            0.0  \n",
       "3                 0.0            0.0  \n",
       "4                 0.0            0.0  \n",
       "...               ...            ...  \n",
       "22482             0.0            0.0  \n",
       "22483             0.0            0.0  \n",
       "22484             0.0            0.0  \n",
       "22485             0.0            0.0  \n",
       "22486             0.0            0.0  \n",
       "\n",
       "[22487 rows x 19 columns]"
      ]
     },
     "execution_count": 15,
     "metadata": {},
     "output_type": "execute_result"
    }
   ],
   "source": [
    "X_h_poly = X_h_poly[['rank_city_pr', 'rank_city_pr2', 'rank_city_pr3', 'house_area', 'surface_of_the_land',\n",
    "       'number_of_facades', 'number_of_rooms', 'garden', 'terrace',\n",
    "       'terrace_area', 'fully_equipped_kitchen', 'open_fire', 'swimming_pool',\n",
    "       'SB_as new', 'SB_just renovated', 'SB_good', 'SB_to be done up',\n",
    "       'SB_to renovate', 'SB_to restore']]\n",
    "X_h_poly"
   ]
  },
  {
   "cell_type": "code",
   "execution_count": 16,
   "metadata": {},
   "outputs": [],
   "source": [
    "# X_h"
   ]
  },
  {
   "cell_type": "code",
   "execution_count": 17,
   "metadata": {},
   "outputs": [],
   "source": [
    "# y_h"
   ]
  },
  {
   "cell_type": "code",
   "execution_count": 18,
   "metadata": {},
   "outputs": [],
   "source": [
    "X_train,X_test,y_train,y_test = train_test_split(X_h_poly,y_h, test_size =0.2)"
   ]
  },
  {
   "cell_type": "markdown",
   "metadata": {},
   "source": [
    "1. Standard Linear regression "
   ]
  },
  {
   "cell_type": "code",
   "execution_count": 19,
   "metadata": {},
   "outputs": [
    {
     "data": {
      "text/plain": [
       "LinearRegression(normalize=True)"
      ]
     },
     "execution_count": 19,
     "metadata": {},
     "output_type": "execute_result"
    }
   ],
   "source": [
    "Mregressor = LinearRegression(normalize=True)\n",
    "Mregressor.fit(X_train, y_train)"
   ]
  },
  {
   "cell_type": "code",
   "execution_count": 20,
   "metadata": {},
   "outputs": [
    {
     "data": {
      "text/plain": [
       "0.6602477340839661"
      ]
     },
     "execution_count": 20,
     "metadata": {},
     "output_type": "execute_result"
    }
   ],
   "source": [
    "Mregressor.score(X_train, y_train)"
   ]
  },
  {
   "cell_type": "code",
   "execution_count": 21,
   "metadata": {},
   "outputs": [
    {
     "data": {
      "text/plain": [
       "0.6710145534431391"
      ]
     },
     "execution_count": 21,
     "metadata": {},
     "output_type": "execute_result"
    }
   ],
   "source": [
    "Mregressor.score(X_test, y_test)"
   ]
  },
  {
   "cell_type": "code",
   "execution_count": 22,
   "metadata": {},
   "outputs": [
    {
     "data": {
      "text/plain": [
       "<bound method LinearRegression.__init__ of LinearRegression(normalize=True)>"
      ]
     },
     "execution_count": 22,
     "metadata": {},
     "output_type": "execute_result"
    }
   ],
   "source": [
    "Mregressor.__init__"
   ]
  },
  {
   "cell_type": "code",
   "execution_count": 23,
   "metadata": {},
   "outputs": [
    {
     "data": {
      "text/plain": [
       "{'copy_X': True, 'fit_intercept': True, 'n_jobs': None, 'normalize': True}"
      ]
     },
     "execution_count": 23,
     "metadata": {},
     "output_type": "execute_result"
    }
   ],
   "source": [
    "Mregressor.get_params()"
   ]
  },
  {
   "cell_type": "code",
   "execution_count": 24,
   "metadata": {},
   "outputs": [
    {
     "data": {
      "text/plain": [
       "array([ 1.01375591e+03, -3.17059104e+00,  4.22671238e-03,  7.89292204e+02,\n",
       "        1.54111108e+01,  1.23607352e+04,  1.21486742e+04,  7.38832642e+03,\n",
       "        2.92156367e+03,  3.07590391e+02,  6.71753036e+03,  2.14368820e+04,\n",
       "        6.94786281e+04,  4.04892296e+04,  1.77075255e+04, -5.29180571e+03,\n",
       "       -4.14606464e+04, -7.01454466e+04, -8.28602587e+04])"
      ]
     },
     "execution_count": 24,
     "metadata": {},
     "output_type": "execute_result"
    }
   ],
   "source": [
    "Mregressor.coef_"
   ]
  },
  {
   "cell_type": "markdown",
   "metadata": {},
   "source": [
    "2. Ridge regression "
   ]
  },
  {
   "attachments": {
    "image-2.png": {
     "image/png": "[encoded data removed]"
    },
    "image.png": {
     "image/png": "[encoded data removed]"
    }
   },
   "cell_type": "markdown",
   "metadata": {},
   "source": [
    "Linear least squares with l2 regularization.\n",
    "\n",
    "Minimizes the objective function:\n",
    "\n",
    "![image.png](attachment:image.png)\n",
    "\n",
    "The complexity parameter alpha>= 0 controls the amount of shrinkage: the larger the value of alpha, the greater the amount of shrinkage and thus the coefficients become more robust to collinearity.\n",
    "\n",
    "![image-2.png](attachment:image-2.png)"
   ]
  },
  {
   "cell_type": "code",
   "execution_count": 25,
   "metadata": {},
   "outputs": [],
   "source": [
    "from sklearn.linear_model import Ridge"
   ]
  },
  {
   "cell_type": "code",
   "execution_count": 26,
   "metadata": {},
   "outputs": [
    {
     "data": {
      "text/plain": [
       "Ridge(alpha=0.0001, normalize=True)"
      ]
     },
     "execution_count": 26,
     "metadata": {},
     "output_type": "execute_result"
    }
   ],
   "source": [
    "Mridge = Ridge(alpha=0.0001, normalize = True)\n",
    "Mridge.fit(X_train, y_train)"
   ]
  },
  {
   "cell_type": "code",
   "execution_count": 27,
   "metadata": {},
   "outputs": [
    {
     "data": {
      "text/plain": [
       "0.6602077452544314"
      ]
     },
     "execution_count": 27,
     "metadata": {},
     "output_type": "execute_result"
    }
   ],
   "source": [
    "Mridge.score(X_train, y_train)"
   ]
  },
  {
   "cell_type": "code",
   "execution_count": 28,
   "metadata": {},
   "outputs": [
    {
     "data": {
      "text/plain": [
       "0.6706347425708836"
      ]
     },
     "execution_count": 28,
     "metadata": {},
     "output_type": "execute_result"
    }
   ],
   "source": [
    "Mridge.score(X_test, y_test)"
   ]
  },
  {
   "cell_type": "code",
   "execution_count": 29,
   "metadata": {},
   "outputs": [
    {
     "data": {
      "text/plain": [
       "array([ 9.49681197e+02, -2.89695132e+00,  3.91543714e-03,  7.89125555e+02,\n",
       "        1.54064671e+01,  1.24393364e+04,  1.22077612e+04,  7.43198865e+03,\n",
       "        2.91553174e+03,  3.06909733e+02,  6.66219388e+03,  2.14737030e+04,\n",
       "        6.95987552e+04,  4.06088113e+04,  1.78291910e+04, -5.17781322e+03,\n",
       "       -4.13861136e+04, -7.01053738e+04, -8.29561501e+04])"
      ]
     },
     "execution_count": 29,
     "metadata": {},
     "output_type": "execute_result"
    }
   ],
   "source": [
    "Mridge.coef_"
   ]
  },
  {
   "cell_type": "markdown",
   "metadata": {},
   "source": [
    "3. Lasso regression "
   ]
  },
  {
   "attachments": {
    "image.png": {
     "image/png": "[encoded data removed]"
    }
   },
   "cell_type": "markdown",
   "metadata": {},
   "source": [
    "The Lasso is a linear model that estimates sparse coefficients. It is useful in some contexts due to its tendency to prefer solutions with fewer non-zero coefficients, effectively reducing the number of features upon which the given solution is dependent. For this reason Lasso and its variants are fundamental to the field of compressed sensing. Under certain conditions, it can recover the exact set of non-zero coefficients (see Compressive sensing: tomography reconstruction with L1 prior (Lasso)).\n",
    "\n",
    "Mathematically, it consists of a linear model with an added regularization term. The objective function to minimize is:\n",
    "\n",
    " ![image.png](attachment:image.png)\n",
    " \n",
    "The lasso estimate thus solves the minimization of the least-squares penalty with \n",
    " added, where  is a constant and \n",
    " is the \n",
    "-norm of the coefficient vector."
   ]
  },
  {
   "cell_type": "code",
   "execution_count": 30,
   "metadata": {},
   "outputs": [],
   "source": [
    "from sklearn.linear_model import Lasso, lasso_path"
   ]
  },
  {
   "cell_type": "code",
   "execution_count": 31,
   "metadata": {},
   "outputs": [
    {
     "name": "stderr",
     "output_type": "stream",
     "text": [
      "C:\\Users\\jcmeu\\Anaconda3\\lib\\site-packages\\sklearn\\linear_model\\_coordinate_descent.py:529: ConvergenceWarning: Objective did not converge. You might want to increase the number of iterations. Duality gap: 101796096399211.89, tolerance: 59910612339.27653\n",
      "  model = cd_fast.enet_coordinate_descent(\n"
     ]
    },
    {
     "data": {
      "text/plain": [
       "Lasso(alpha=0.5)"
      ]
     },
     "execution_count": 31,
     "metadata": {},
     "output_type": "execute_result"
    }
   ],
   "source": [
    "Mlasso = Lasso(alpha=0.5) #, normalize = True)\n",
    "Mlasso.fit(X_train, y_train)"
   ]
  },
  {
   "cell_type": "code",
   "execution_count": 32,
   "metadata": {},
   "outputs": [
    {
     "data": {
      "text/plain": [
       "0.6601851318822151"
      ]
     },
     "execution_count": 32,
     "metadata": {},
     "output_type": "execute_result"
    }
   ],
   "source": [
    "Mlasso.score(X_train, y_train)"
   ]
  },
  {
   "cell_type": "code",
   "execution_count": 33,
   "metadata": {},
   "outputs": [
    {
     "data": {
      "text/plain": [
       "0.6705300608635165"
      ]
     },
     "execution_count": 33,
     "metadata": {},
     "output_type": "execute_result"
    }
   ],
   "source": [
    "Mlasso.score(X_test, y_test)"
   ]
  },
  {
   "cell_type": "code",
   "execution_count": 34,
   "metadata": {},
   "outputs": [
    {
     "data": {
      "text/plain": [
       "array([ 9.32400124e+02, -2.82865457e+00,  3.84188699e-03,  7.89295439e+02,\n",
       "        1.54045661e+01,  1.24569784e+04,  1.22160438e+04,  7.45032238e+03,\n",
       "        2.89713285e+03,  3.06805108e+02,  6.64094407e+03,  2.14697829e+04,\n",
       "        6.95982076e+04,  4.06533415e+04,  1.78627939e+04, -5.14309802e+03,\n",
       "       -4.13674603e+04, -7.01036169e+04, -8.29493700e+04])"
      ]
     },
     "execution_count": 34,
     "metadata": {},
     "output_type": "execute_result"
    }
   ],
   "source": [
    "Mlasso.coef_"
   ]
  },
  {
   "cell_type": "code",
   "execution_count": 35,
   "metadata": {},
   "outputs": [
    {
     "name": "stderr",
     "output_type": "stream",
     "text": [
      "C:\\Users\\jcmeu\\Anaconda3\\lib\\site-packages\\sklearn\\linear_model\\_coordinate_descent.py:525: ConvergenceWarning: Objective did not converge. You might want to increase the number of iterations. Duality gap: 26077517532035.938, tolerance: 66214559129.2825\n",
      "  model = cd_fast.enet_coordinate_descent_gram(\n",
      "C:\\Users\\jcmeu\\Anaconda3\\lib\\site-packages\\sklearn\\linear_model\\_coordinate_descent.py:525: ConvergenceWarning: Objective did not converge. You might want to increase the number of iterations. Duality gap: 24936232378627.285, tolerance: 66214559129.2825\n",
      "  model = cd_fast.enet_coordinate_descent_gram(\n",
      "C:\\Users\\jcmeu\\Anaconda3\\lib\\site-packages\\sklearn\\linear_model\\_coordinate_descent.py:525: ConvergenceWarning: Objective did not converge. You might want to increase the number of iterations. Duality gap: 24769844609362.7, tolerance: 66214559129.2825\n",
      "  model = cd_fast.enet_coordinate_descent_gram(\n",
      "C:\\Users\\jcmeu\\Anaconda3\\lib\\site-packages\\sklearn\\linear_model\\_coordinate_descent.py:525: ConvergenceWarning: Objective did not converge. You might want to increase the number of iterations. Duality gap: 24760150815825.418, tolerance: 66214559129.2825\n",
      "  model = cd_fast.enet_coordinate_descent_gram(\n",
      "C:\\Users\\jcmeu\\Anaconda3\\lib\\site-packages\\sklearn\\linear_model\\_coordinate_descent.py:525: ConvergenceWarning: Objective did not converge. You might want to increase the number of iterations. Duality gap: 24752623721036.48, tolerance: 66214559129.2825\n",
      "  model = cd_fast.enet_coordinate_descent_gram(\n",
      "C:\\Users\\jcmeu\\Anaconda3\\lib\\site-packages\\sklearn\\linear_model\\_coordinate_descent.py:525: ConvergenceWarning: Objective did not converge. You might want to increase the number of iterations. Duality gap: 24751673441195.152, tolerance: 66214559129.2825\n",
      "  model = cd_fast.enet_coordinate_descent_gram(\n",
      "C:\\Users\\jcmeu\\Anaconda3\\lib\\site-packages\\sklearn\\linear_model\\_coordinate_descent.py:525: ConvergenceWarning: Objective did not converge. You might want to increase the number of iterations. Duality gap: 24750927613295.836, tolerance: 66214559129.2825\n",
      "  model = cd_fast.enet_coordinate_descent_gram(\n"
     ]
    }
   ],
   "source": [
    " _, coef_path, _ = lasso_path(X_test, y_test, alphas=[1000., 100., 10., 5., 1., .5, .1])"
   ]
  },
  {
   "cell_type": "code",
   "execution_count": 36,
   "metadata": {},
   "outputs": [
    {
     "name": "stdout",
     "output_type": "stream",
     "text": [
      "[[ 7.32325435e+02  9.05653274e+02  9.56887218e+02  9.71622419e+02\n",
      "   9.75923168e+02  9.77161414e+02  9.77524519e+02]\n",
      " [-2.25109232e+00 -3.00185076e+00 -3.22480561e+00 -3.28872002e+00\n",
      "  -3.30740006e+00 -3.31277179e+00 -3.31434953e+00]\n",
      " [ 3.34058721e-03  4.18874208e-03  4.44272018e-03  4.51572419e-03\n",
      "   4.53703687e-03  4.54317179e-03  4.54497130e-03]\n",
      " [ 8.24601206e+02  8.12529372e+02  8.11532862e+02  8.11353698e+02\n",
      "   8.11288335e+02  8.11272869e+02  8.11267030e+02]\n",
      " [ 2.23471684e+01  2.14756368e+01  2.14312115e+01  2.14475338e+01\n",
      "   2.14487578e+01  2.14500181e+01  2.14500347e+01]\n",
      " [ 2.39306153e+03  2.79592139e+03  2.59717540e+03  2.48225243e+03\n",
      "   2.45573690e+03  2.44630036e+03  2.44423397e+03]\n",
      " [ 9.20605872e+03  9.74380935e+03  9.71067752e+03  9.67740033e+03\n",
      "   9.67057678e+03  9.66787118e+03  9.66736590e+03]\n",
      " [ 0.00000000e+00  1.13078257e+03  1.31852575e+03  1.30466231e+03\n",
      "   1.30887128e+03  1.30796569e+03  1.30852343e+03]\n",
      " [-1.32974616e+03 -1.09219191e+04 -1.21098867e+04 -1.22748823e+04\n",
      "  -1.23445319e+04 -1.23590723e+04 -1.23654796e+04]\n",
      " [ 5.25987415e+02  6.49096956e+02  6.66720902e+02  6.69945036e+02\n",
      "   6.71110464e+02  6.71388449e+02  6.71492346e+02]\n",
      " [-0.00000000e+00 -8.49552905e+01 -7.41297121e+02 -8.16242587e+02\n",
      "  -8.51963620e+02 -8.58696629e+02 -8.62051963e+02]\n",
      " [ 1.58479560e+04  2.52882970e+04  2.62905801e+04  2.63611892e+04\n",
      "   2.64082759e+04  2.64150414e+04  2.64196660e+04]\n",
      " [ 2.84792968e+04  5.96447186e+04  6.27834539e+04  6.29935310e+04\n",
      "   6.31391076e+04  6.31594088e+04  6.31737653e+04]\n",
      " [ 3.10796675e+04  2.93773903e+04  2.91555250e+04  2.91023388e+04\n",
      "   2.90855230e+04  2.90810130e+04  2.90795616e+04]\n",
      " [ 0.00000000e+00  5.36006177e+03  6.17752794e+03  6.16505314e+03\n",
      "   6.19153119e+03  6.19142931e+03  6.19440321e+03]\n",
      " [-8.08931995e+03 -1.76241714e+04 -1.85879329e+04 -1.86806382e+04\n",
      "  -1.87301383e+04 -1.87386338e+04 -1.87433632e+04]\n",
      " [-3.45470526e+04 -4.86801230e+04 -5.02192687e+04 -5.03712575e+04\n",
      "  -5.04509801e+04 -5.04648634e+04 -5.04724611e+04]\n",
      " [-6.29614498e+04 -7.87426709e+04 -8.04721904e+04 -8.06356798e+04\n",
      "  -8.07240208e+04 -8.07390358e+04 -8.07474902e+04]\n",
      " [-0.00000000e+00 -9.58200266e+04 -1.12124615e+05 -1.13093906e+05\n",
      "  -1.13829360e+05 -1.13925033e+05 -1.13998221e+05]]\n"
     ]
    }
   ],
   "source": [
    "print(coef_path)"
   ]
  },
  {
   "cell_type": "markdown",
   "metadata": {},
   "source": [
    "4. Elastic net"
   ]
  },
  {
   "attachments": {
    "image-2.png": {
     "image/png": "[encoded data removed]"
    },
    "image.png": {
     "image/png": "[encoded data removed]"
    }
   },
   "cell_type": "markdown",
   "metadata": {},
   "source": [
    "ElasticNet is a linear regression model trained with both \n",
    " and \n",
    "-norm regularization of the coefficients. This combination allows for learning a sparse model where few of the weights are non-zero like Lasso, while still maintaining the regularization properties of Ridge. We control the convex combination of \n",
    " and \n",
    " using the l1_ratio parameter.\n",
    "\n",
    "Elastic-net is useful when there are multiple features which are correlated with one another. Lasso is likely to pick one of these at random, while elastic-net is likely to pick both.\n",
    "\n",
    "A practical advantage of trading-off between Lasso and Ridge is that it allows Elastic-Net to inherit some of Ridge’s stability under rotation.\n",
    "\n",
    "The objective function to minimize is in this case\n",
    "\n",
    "![image.png](attachment:image.png)\n",
    "\n",
    "![image-2.png](attachment:image-2.png)\n",
    "\n",
    "The class ElasticNetCV can be used to set the parameters alpha () and l1_ratio () by cross-validation."
   ]
  },
  {
   "cell_type": "code",
   "execution_count": 37,
   "metadata": {},
   "outputs": [],
   "source": [
    "from sklearn.linear_model import Lasso, lasso_path, ElasticNet"
   ]
  },
  {
   "cell_type": "code",
   "execution_count": 38,
   "metadata": {},
   "outputs": [
    {
     "data": {
      "text/plain": [
       "ElasticNet(l1_ratio=1, max_iter=10000)"
      ]
     },
     "execution_count": 38,
     "metadata": {},
     "output_type": "execute_result"
    }
   ],
   "source": [
    "MElasticNet = ElasticNet(l1_ratio=1, max_iter=10000) #, normalize = True)\n",
    "MElasticNet.fit(X_train, y_train)"
   ]
  },
  {
   "cell_type": "code",
   "execution_count": 39,
   "metadata": {},
   "outputs": [
    {
     "data": {
      "text/plain": [
       "0.6602477250705246"
      ]
     },
     "execution_count": 39,
     "metadata": {},
     "output_type": "execute_result"
    }
   ],
   "source": [
    "MElasticNet.score(X_train, y_train)"
   ]
  },
  {
   "cell_type": "code",
   "execution_count": 40,
   "metadata": {},
   "outputs": [
    {
     "data": {
      "text/plain": [
       "0.6710154142753064"
      ]
     },
     "execution_count": 40,
     "metadata": {},
     "output_type": "execute_result"
    }
   ],
   "source": [
    "MElasticNet.score(X_test, y_test)"
   ]
  },
  {
   "cell_type": "code",
   "execution_count": 41,
   "metadata": {},
   "outputs": [
    {
     "data": {
      "text/plain": [
       "array([ 1.01378213e+03, -3.17065894e+00,  4.22678021e-03,  7.89300678e+02,\n",
       "        1.54116389e+01,  1.23591813e+04,  1.21479598e+04,  7.38620165e+03,\n",
       "        2.90803454e+03,  3.08041983e+02,  6.71446647e+03,  2.14260488e+04,\n",
       "        6.94312718e+04,  4.04939349e+04,  1.76995081e+04, -5.27863590e+03,\n",
       "       -4.14413359e+04, -7.01275457e+04, -8.26924570e+04])"
      ]
     },
     "execution_count": 41,
     "metadata": {},
     "output_type": "execute_result"
    }
   ],
   "source": [
    "MElasticNet.coef_"
   ]
  },
  {
   "cell_type": "code",
   "execution_count": 42,
   "metadata": {},
   "outputs": [
    {
     "name": "stderr",
     "output_type": "stream",
     "text": [
      "C:\\Users\\jcmeu\\Anaconda3\\lib\\site-packages\\sklearn\\linear_model\\_coordinate_descent.py:525: ConvergenceWarning: Objective did not converge. You might want to increase the number of iterations. Duality gap: 26077517532035.938, tolerance: 66214559129.2825\n",
      "  model = cd_fast.enet_coordinate_descent_gram(\n",
      "C:\\Users\\jcmeu\\Anaconda3\\lib\\site-packages\\sklearn\\linear_model\\_coordinate_descent.py:525: ConvergenceWarning: Objective did not converge. You might want to increase the number of iterations. Duality gap: 24936232378627.285, tolerance: 66214559129.2825\n",
      "  model = cd_fast.enet_coordinate_descent_gram(\n",
      "C:\\Users\\jcmeu\\Anaconda3\\lib\\site-packages\\sklearn\\linear_model\\_coordinate_descent.py:525: ConvergenceWarning: Objective did not converge. You might want to increase the number of iterations. Duality gap: 24769844609362.7, tolerance: 66214559129.2825\n",
      "  model = cd_fast.enet_coordinate_descent_gram(\n",
      "C:\\Users\\jcmeu\\Anaconda3\\lib\\site-packages\\sklearn\\linear_model\\_coordinate_descent.py:525: ConvergenceWarning: Objective did not converge. You might want to increase the number of iterations. Duality gap: 24760150815825.418, tolerance: 66214559129.2825\n",
      "  model = cd_fast.enet_coordinate_descent_gram(\n",
      "C:\\Users\\jcmeu\\Anaconda3\\lib\\site-packages\\sklearn\\linear_model\\_coordinate_descent.py:525: ConvergenceWarning: Objective did not converge. You might want to increase the number of iterations. Duality gap: 24752623721036.48, tolerance: 66214559129.2825\n",
      "  model = cd_fast.enet_coordinate_descent_gram(\n",
      "C:\\Users\\jcmeu\\Anaconda3\\lib\\site-packages\\sklearn\\linear_model\\_coordinate_descent.py:525: ConvergenceWarning: Objective did not converge. You might want to increase the number of iterations. Duality gap: 24751673441195.152, tolerance: 66214559129.2825\n",
      "  model = cd_fast.enet_coordinate_descent_gram(\n",
      "C:\\Users\\jcmeu\\Anaconda3\\lib\\site-packages\\sklearn\\linear_model\\_coordinate_descent.py:525: ConvergenceWarning: Objective did not converge. You might want to increase the number of iterations. Duality gap: 24750927613295.836, tolerance: 66214559129.2825\n",
      "  model = cd_fast.enet_coordinate_descent_gram(\n"
     ]
    }
   ],
   "source": [
    " _, coef_path, _ = lasso_path(X_test, y_test, alphas=[1000., 100., 10., 5., 1., .5, .1])"
   ]
  },
  {
   "cell_type": "markdown",
   "metadata": {},
   "source": [
    "4. Least angle regression "
   ]
  },
  {
   "cell_type": "code",
   "execution_count": 48,
   "metadata": {},
   "outputs": [],
   "source": [
    "from sklearn.linear_model import Lars"
   ]
  },
  {
   "cell_type": "code",
   "execution_count": 49,
   "metadata": {},
   "outputs": [
    {
     "data": {
      "text/plain": [
       "Lars()"
      ]
     },
     "execution_count": 49,
     "metadata": {},
     "output_type": "execute_result"
    }
   ],
   "source": [
    "MLars = Lars() #, normalize = True)\n",
    "MLars.fit(X_train, y_train)"
   ]
  },
  {
   "cell_type": "code",
   "execution_count": 50,
   "metadata": {},
   "outputs": [
    {
     "data": {
      "text/plain": [
       "-57.09124103957068"
      ]
     },
     "execution_count": 50,
     "metadata": {},
     "output_type": "execute_result"
    }
   ],
   "source": [
    "MLars.score(X_train, y_train)"
   ]
  },
  {
   "cell_type": "code",
   "execution_count": 47,
   "metadata": {},
   "outputs": [
    {
     "data": {
      "text/plain": [
       "-57.24741015421327"
      ]
     },
     "execution_count": 47,
     "metadata": {},
     "output_type": "execute_result"
    }
   ],
   "source": [
    "MLars.score(X_test, y_test)"
   ]
  },
  {
   "cell_type": "code",
   "execution_count": 51,
   "metadata": {},
   "outputs": [
    {
     "data": {
      "text/plain": [
       "array([ 7.81803884e+04, -3.32087478e+02,  3.77494949e-01,  8.78077789e+02,\n",
       "        2.09906950e+01, -7.89982669e+04, -5.49345775e+04, -4.47088412e+04,\n",
       "        1.36348444e+04,  1.17328972e+03,  7.01968633e+04, -1.70585323e+04,\n",
       "       -7.11917051e+04, -1.01745832e+05, -1.28712669e+05, -1.39053252e+05,\n",
       "       -1.25866493e+05, -1.06991518e+05,  4.35189828e+04])"
      ]
     },
     "execution_count": 51,
     "metadata": {},
     "output_type": "execute_result"
    }
   ],
   "source": [
    "MLars.coef_"
   ]
  },
  {
   "cell_type": "markdown",
   "metadata": {},
   "source": [
    "5. Orthogonal matching pursuit "
   ]
  },
  {
   "cell_type": "code",
   "execution_count": 53,
   "metadata": {},
   "outputs": [],
   "source": [
    "from sklearn.linear_model import OrthogonalMatchingPursuit"
   ]
  },
  {
   "cell_type": "code",
   "execution_count": 75,
   "metadata": {},
   "outputs": [
    {
     "data": {
      "text/plain": [
       "OrthogonalMatchingPursuit(n_nonzero_coefs=16)"
      ]
     },
     "execution_count": 75,
     "metadata": {},
     "output_type": "execute_result"
    }
   ],
   "source": [
    "Momp = OrthogonalMatchingPursuit(n_nonzero_coefs=16) #, normalize = True)\n",
    "Momp.fit(X_train, y_train)"
   ]
  },
  {
   "cell_type": "code",
   "execution_count": 76,
   "metadata": {},
   "outputs": [
    {
     "data": {
      "text/plain": [
       "0.6529635353542238"
      ]
     },
     "execution_count": 76,
     "metadata": {},
     "output_type": "execute_result"
    }
   ],
   "source": [
    "Momp.score(X_train, y_train)"
   ]
  },
  {
   "cell_type": "code",
   "execution_count": 77,
   "metadata": {},
   "outputs": [
    {
     "data": {
      "text/plain": [
       "0.658936567485023"
      ]
     },
     "execution_count": 77,
     "metadata": {},
     "output_type": "execute_result"
    }
   ],
   "source": [
    "Momp.score(X_test, y_test)"
   ]
  },
  {
   "cell_type": "code",
   "execution_count": 78,
   "metadata": {},
   "outputs": [
    {
     "data": {
      "text/plain": [
       "array([ 1.95795506e+02,  4.55444164e-01,  0.00000000e+00,  7.85629482e+02,\n",
       "        1.53128985e+01,  1.32986843e+04,  1.29607118e+04,  7.97639928e+03,\n",
       "        0.00000000e+00,  3.66908066e+02,  5.66641878e+03,  2.18456049e+04,\n",
       "        7.08685408e+04,  4.40187926e+04,  2.13854260e+04,  0.00000000e+00,\n",
       "       -3.82848745e+04, -6.75592508e+04, -8.15072505e+04])"
      ]
     },
     "execution_count": 78,
     "metadata": {},
     "output_type": "execute_result"
    }
   ],
   "source": [
    "Momp.coef_"
   ]
  },
  {
   "cell_type": "markdown",
   "metadata": {},
   "source": [
    "20. XGBoost"
   ]
  },
  {
   "cell_type": "code",
   "execution_count": 43,
   "metadata": {},
   "outputs": [
    {
     "ename": "ModuleNotFoundError",
     "evalue": "No module named 'xgboost'",
     "output_type": "error",
     "traceback": [
      "\u001b[1;31m---------------------------------------------------------------------------\u001b[0m",
      "\u001b[1;31mModuleNotFoundError\u001b[0m                       Traceback (most recent call last)",
      "\u001b[1;32m<ipython-input-43-8e96b8af0f51>\u001b[0m in \u001b[0;36m<module>\u001b[1;34m\u001b[0m\n\u001b[0;32m      1\u001b[0m \u001b[1;32mimport\u001b[0m \u001b[0mnumpy\u001b[0m \u001b[1;32mas\u001b[0m \u001b[0mnp\u001b[0m \u001b[1;31m# linear algebra\u001b[0m\u001b[1;33m\u001b[0m\u001b[1;33m\u001b[0m\u001b[0m\n\u001b[0;32m      2\u001b[0m \u001b[1;32mimport\u001b[0m \u001b[0mpandas\u001b[0m \u001b[1;32mas\u001b[0m \u001b[0mpd\u001b[0m \u001b[1;31m# data processing, CSV file I/O (e.g. pd.read_csv)\u001b[0m\u001b[1;33m\u001b[0m\u001b[1;33m\u001b[0m\u001b[0m\n\u001b[1;32m----> 3\u001b[1;33m \u001b[1;32mimport\u001b[0m \u001b[0mxgboost\u001b[0m\u001b[1;33m\u001b[0m\u001b[1;33m\u001b[0m\u001b[0m\n\u001b[0m\u001b[0;32m      4\u001b[0m \u001b[1;32mimport\u001b[0m \u001b[0mcsv\u001b[0m \u001b[1;32mas\u001b[0m \u001b[0mcsv\u001b[0m\u001b[1;33m\u001b[0m\u001b[1;33m\u001b[0m\u001b[0m\n\u001b[0;32m      5\u001b[0m \u001b[1;32mfrom\u001b[0m \u001b[0mxgboost\u001b[0m \u001b[1;32mimport\u001b[0m \u001b[0mplot_importance\u001b[0m\u001b[1;33m\u001b[0m\u001b[1;33m\u001b[0m\u001b[0m\n",
      "\u001b[1;31mModuleNotFoundError\u001b[0m: No module named 'xgboost'"
     ]
    }
   ],
   "source": [
    "import numpy as np # linear algebra\n",
    "import pandas as pd # data processing, CSV file I/O (e.g. pd.read_csv)\n",
    "import xgboost\n",
    "import csv as csv\n",
    "from xgboost import plot_importance\n",
    "from matplotlib import pyplot\n",
    "from sklearn.model_selection import cross_val_score,KFold\n",
    "from sklearn.cross_validation import  train_test_split\n",
    "from sklearn.metrics import mean_absolute_error\n",
    "import matplotlib.pyplot as plt\n",
    "from sklearn.grid_search import GridSearchCV   #Perforing grid search\n",
    "from scipy.stats import skew\n",
    "from collections import OrderedDict"
   ]
  },
  {
   "cell_type": "code",
   "execution_count": null,
   "metadata": {},
   "outputs": [],
   "source": [
    "xgboost = xgboost.XGBRegressor(colsample_bytree=0.4,\n",
    "                 gamma=0,                 \n",
    "                 learning_rate=0.07,\n",
    "                 max_depth=3,\n",
    "                 min_child_weight=1.5,\n",
    "                 n_estimators=10000,                                                                    \n",
    "                 reg_alpha=0.75,\n",
    "                 reg_lambda=0.45,\n",
    "                 subsample=0.6,\n",
    "                 seed=42) "
   ]
  },
  {
   "cell_type": "code",
   "execution_count": null,
   "metadata": {},
   "outputs": [],
   "source": [
    "xgboost.fit(X_train, y_train)\n"
   ]
  },
  {
   "cell_type": "code",
   "execution_count": null,
   "metadata": {},
   "outputs": [],
   "source": [
    "OrderedDict(sorted(xgboost.booster().get_fscore().items(), key=lambda t: t[1], reverse=True))"
   ]
  },
  {
   "cell_type": "code",
   "execution_count": null,
   "metadata": {},
   "outputs": [],
   "source": [
    "most_relevant_features= list( dict((k, v) for k, v in xgboost.booster().get_fscore().items() if v >= 10).keys())\n",
    "print(most_relevant_features)"
   ]
  },
  {
   "cell_type": "code",
   "execution_count": null,
   "metadata": {},
   "outputs": [],
   "source": [
    "plt.scatter(train_dataset.GrLivArea, train_dataset.SalePrice, c = \"blue\", marker = \"s\")\n",
    "plt.title(\"GrLivArea vs SalePrice\")\n",
    "plt.xlabel(\"GrLivArea\")\n",
    "plt.ylabel(\"SalePrice\")\n",
    "plt.show()"
   ]
  },
  {
   "cell_type": "code",
   "execution_count": null,
   "metadata": {},
   "outputs": [],
   "source": []
  },
  {
   "cell_type": "code",
   "execution_count": null,
   "metadata": {},
   "outputs": [],
   "source": []
  },
  {
   "cell_type": "code",
   "execution_count": null,
   "metadata": {},
   "outputs": [],
   "source": []
  },
  {
   "cell_type": "code",
   "execution_count": null,
   "metadata": {},
   "outputs": [],
   "source": []
  },
  {
   "cell_type": "code",
   "execution_count": null,
   "metadata": {},
   "outputs": [],
   "source": []
  },
  {
   "cell_type": "markdown",
   "metadata": {},
   "source": [
    "y. saving models in pickel file "
   ]
  },
  {
   "cell_type": "code",
   "execution_count": 33,
   "metadata": {},
   "outputs": [
    {
     "data": {
      "text/plain": [
       "rank_city_pr                  154.0\n",
       "rank_city_pr2               23716.0\n",
       "rank_city_pr3             3652264.0\n",
       "house_area                    185.0\n",
       "surface_of_the_land           206.0\n",
       "number_of_facades               2.0\n",
       "number_of_rooms                 4.0\n",
       "garden                          1.0\n",
       "terrace                         0.0\n",
       "terrace_area                    0.0\n",
       "fully_equipped_kitchen          0.0\n",
       "open_fire                       0.0\n",
       "swimming_pool                   0.0\n",
       "SB_as new                       0.0\n",
       "SB_just renovated               0.0\n",
       "SB_good                         1.0\n",
       "SB_to be done up                0.0\n",
       "SB_to renovate                  0.0\n",
       "SB_to restore                   0.0\n",
       "Name: 14207, dtype: float64"
      ]
     },
     "execution_count": 33,
     "metadata": {},
     "output_type": "execute_result"
    }
   ],
   "source": [
    "X_train.iloc[0,:]"
   ]
  },
  {
   "cell_type": "code",
   "execution_count": 26,
   "metadata": {},
   "outputs": [
    {
     "data": {
      "text/plain": [
       "array([[1.540000e+02, 2.371600e+04, 3.652264e+06, 1.850000e+02,\n",
       "        2.060000e+02, 2.000000e+00, 4.000000e+00, 1.000000e+00,\n",
       "        0.000000e+00, 0.000000e+00, 0.000000e+00, 0.000000e+00,\n",
       "        0.000000e+00, 0.000000e+00, 0.000000e+00, 1.000000e+00,\n",
       "        0.000000e+00, 0.000000e+00, 0.000000e+00]])"
      ]
     },
     "execution_count": 26,
     "metadata": {},
     "output_type": "execute_result"
    }
   ],
   "source": [
    "X_train.iloc[0,:].values.reshape(1,X_train.shape[1])"
   ]
  },
  {
   "cell_type": "code",
   "execution_count": 27,
   "metadata": {},
   "outputs": [
    {
     "data": {
      "text/plain": [
       "(19,)"
      ]
     },
     "execution_count": 27,
     "metadata": {},
     "output_type": "execute_result"
    }
   ],
   "source": [
    "X_train.iloc[0,:].shape"
   ]
  },
  {
   "cell_type": "code",
   "execution_count": 28,
   "metadata": {},
   "outputs": [
    {
     "data": {
      "text/plain": [
       "array([204163.34455349])"
      ]
     },
     "execution_count": 28,
     "metadata": {},
     "output_type": "execute_result"
    }
   ],
   "source": [
    "Mregressor.predict(X_train.iloc[0,:].values.reshape(1,X_train.shape[1]))"
   ]
  },
  {
   "cell_type": "code",
   "execution_count": 29,
   "metadata": {},
   "outputs": [
    {
     "data": {
      "text/plain": [
       "275000.0"
      ]
     },
     "execution_count": 29,
     "metadata": {},
     "output_type": "execute_result"
    }
   ],
   "source": [
    "y_train.iloc[0]"
   ]
  },
  {
   "cell_type": "code",
   "execution_count": 30,
   "metadata": {},
   "outputs": [],
   "source": [
    "pickle.dump(Mregressor, open('House_regression', 'wb'))\n"
   ]
  },
  {
   "cell_type": "code",
   "execution_count": 31,
   "metadata": {},
   "outputs": [],
   "source": [
    "essai = pickle.load(open('House_regression', 'rb'))\n"
   ]
  },
  {
   "cell_type": "code",
   "execution_count": 32,
   "metadata": {},
   "outputs": [
    {
     "data": {
      "text/plain": [
       "array([385755.57167565])"
      ]
     },
     "execution_count": 32,
     "metadata": {},
     "output_type": "execute_result"
    }
   ],
   "source": [
    "essai.predict(X_train.iloc[66,:].values.reshape(1,X_train.shape[1]))"
   ]
  },
  {
   "cell_type": "code",
   "execution_count": 33,
   "metadata": {},
   "outputs": [
    {
     "data": {
      "text/plain": [
       "279000.0"
      ]
     },
     "execution_count": 33,
     "metadata": {},
     "output_type": "execute_result"
    }
   ],
   "source": [
    "y_train.iloc[66]"
   ]
  },
  {
   "cell_type": "code",
   "execution_count": 34,
   "metadata": {},
   "outputs": [
    {
     "data": {
      "text/plain": [
       "Index(['rank_city_pr', 'rank_city_pr2', 'rank_city_pr3', 'house_area',\n",
       "       'surface_of_the_land', 'number_of_facades', 'number_of_rooms', 'garden',\n",
       "       'terrace', 'terrace_area', 'fully_equipped_kitchen', 'open_fire',\n",
       "       'swimming_pool', 'SB_as new', 'SB_just renovated', 'SB_good',\n",
       "       'SB_to be done up', 'SB_to renovate', 'SB_to restore'],\n",
       "      dtype='object')"
      ]
     },
     "execution_count": 34,
     "metadata": {},
     "output_type": "execute_result"
    }
   ],
   "source": [
    "X_train.columns"
   ]
  },
  {
   "cell_type": "code",
   "execution_count": 35,
   "metadata": {},
   "outputs": [
    {
     "data": {
      "text/html": [
       "<div>\n",
       "<style scoped>\n",
       "    .dataframe tbody tr th:only-of-type {\n",
       "        vertical-align: middle;\n",
       "    }\n",
       "\n",
       "    .dataframe tbody tr th {\n",
       "        vertical-align: top;\n",
       "    }\n",
       "\n",
       "    .dataframe thead th {\n",
       "        text-align: right;\n",
       "    }\n",
       "</style>\n",
       "<table border=\"1\" class=\"dataframe\">\n",
       "  <thead>\n",
       "    <tr style=\"text-align: right;\">\n",
       "      <th></th>\n",
       "      <th>count</th>\n",
       "      <th>mean</th>\n",
       "      <th>std</th>\n",
       "      <th>min</th>\n",
       "      <th>25%</th>\n",
       "      <th>50%</th>\n",
       "      <th>75%</th>\n",
       "      <th>max</th>\n",
       "    </tr>\n",
       "  </thead>\n",
       "  <tbody>\n",
       "    <tr>\n",
       "      <th>price</th>\n",
       "      <td>22487.0</td>\n",
       "      <td>335571.037044</td>\n",
       "      <td>182531.720413</td>\n",
       "      <td>2500.0</td>\n",
       "      <td>210000.00</td>\n",
       "      <td>297029.0</td>\n",
       "      <td>415000.0</td>\n",
       "      <td>950000.0</td>\n",
       "    </tr>\n",
       "    <tr>\n",
       "      <th>rank_city_pr</th>\n",
       "      <td>22487.0</td>\n",
       "      <td>273.986837</td>\n",
       "      <td>171.136013</td>\n",
       "      <td>1.0</td>\n",
       "      <td>117.00</td>\n",
       "      <td>268.0</td>\n",
       "      <td>423.0</td>\n",
       "      <td>580.0</td>\n",
       "    </tr>\n",
       "    <tr>\n",
       "      <th>house_area</th>\n",
       "      <td>22369.0</td>\n",
       "      <td>196.864545</td>\n",
       "      <td>94.187597</td>\n",
       "      <td>13.0</td>\n",
       "      <td>136.00</td>\n",
       "      <td>174.0</td>\n",
       "      <td>231.0</td>\n",
       "      <td>710.0</td>\n",
       "    </tr>\n",
       "    <tr>\n",
       "      <th>surface_of_the_land</th>\n",
       "      <td>22352.0</td>\n",
       "      <td>753.100841</td>\n",
       "      <td>1310.201713</td>\n",
       "      <td>0.0</td>\n",
       "      <td>152.75</td>\n",
       "      <td>360.0</td>\n",
       "      <td>830.0</td>\n",
       "      <td>15444.0</td>\n",
       "    </tr>\n",
       "    <tr>\n",
       "      <th>number_of_facades</th>\n",
       "      <td>19616.0</td>\n",
       "      <td>2.950805</td>\n",
       "      <td>0.855014</td>\n",
       "      <td>1.0</td>\n",
       "      <td>2.00</td>\n",
       "      <td>3.0</td>\n",
       "      <td>4.0</td>\n",
       "      <td>4.0</td>\n",
       "    </tr>\n",
       "    <tr>\n",
       "      <th>number_of_rooms</th>\n",
       "      <td>22487.0</td>\n",
       "      <td>3.470183</td>\n",
       "      <td>1.366356</td>\n",
       "      <td>0.0</td>\n",
       "      <td>3.00</td>\n",
       "      <td>3.0</td>\n",
       "      <td>4.0</td>\n",
       "      <td>16.0</td>\n",
       "    </tr>\n",
       "    <tr>\n",
       "      <th>garden</th>\n",
       "      <td>22487.0</td>\n",
       "      <td>0.465958</td>\n",
       "      <td>0.498851</td>\n",
       "      <td>0.0</td>\n",
       "      <td>0.00</td>\n",
       "      <td>0.0</td>\n",
       "      <td>1.0</td>\n",
       "      <td>1.0</td>\n",
       "    </tr>\n",
       "    <tr>\n",
       "      <th>terrace</th>\n",
       "      <td>22487.0</td>\n",
       "      <td>0.551385</td>\n",
       "      <td>0.497364</td>\n",
       "      <td>0.0</td>\n",
       "      <td>0.00</td>\n",
       "      <td>1.0</td>\n",
       "      <td>1.0</td>\n",
       "      <td>1.0</td>\n",
       "    </tr>\n",
       "    <tr>\n",
       "      <th>terrace_area</th>\n",
       "      <td>16361.0</td>\n",
       "      <td>11.141923</td>\n",
       "      <td>18.718626</td>\n",
       "      <td>0.0</td>\n",
       "      <td>0.00</td>\n",
       "      <td>0.0</td>\n",
       "      <td>20.0</td>\n",
       "      <td>115.0</td>\n",
       "    </tr>\n",
       "    <tr>\n",
       "      <th>fully_equipped_kitchen</th>\n",
       "      <td>22487.0</td>\n",
       "      <td>0.697914</td>\n",
       "      <td>0.459172</td>\n",
       "      <td>0.0</td>\n",
       "      <td>0.00</td>\n",
       "      <td>1.0</td>\n",
       "      <td>1.0</td>\n",
       "      <td>1.0</td>\n",
       "    </tr>\n",
       "    <tr>\n",
       "      <th>open_fire</th>\n",
       "      <td>22487.0</td>\n",
       "      <td>0.084138</td>\n",
       "      <td>0.277600</td>\n",
       "      <td>0.0</td>\n",
       "      <td>0.00</td>\n",
       "      <td>0.0</td>\n",
       "      <td>0.0</td>\n",
       "      <td>1.0</td>\n",
       "    </tr>\n",
       "    <tr>\n",
       "      <th>swimming_pool</th>\n",
       "      <td>22487.0</td>\n",
       "      <td>0.023391</td>\n",
       "      <td>0.151146</td>\n",
       "      <td>0.0</td>\n",
       "      <td>0.00</td>\n",
       "      <td>0.0</td>\n",
       "      <td>0.0</td>\n",
       "      <td>1.0</td>\n",
       "    </tr>\n",
       "    <tr>\n",
       "      <th>SB_as new</th>\n",
       "      <td>22487.0</td>\n",
       "      <td>0.207587</td>\n",
       "      <td>0.405588</td>\n",
       "      <td>0.0</td>\n",
       "      <td>0.00</td>\n",
       "      <td>0.0</td>\n",
       "      <td>0.0</td>\n",
       "      <td>1.0</td>\n",
       "    </tr>\n",
       "    <tr>\n",
       "      <th>SB_just renovated</th>\n",
       "      <td>22487.0</td>\n",
       "      <td>0.056299</td>\n",
       "      <td>0.230504</td>\n",
       "      <td>0.0</td>\n",
       "      <td>0.00</td>\n",
       "      <td>0.0</td>\n",
       "      <td>0.0</td>\n",
       "      <td>1.0</td>\n",
       "    </tr>\n",
       "    <tr>\n",
       "      <th>SB_good</th>\n",
       "      <td>22487.0</td>\n",
       "      <td>0.293325</td>\n",
       "      <td>0.455296</td>\n",
       "      <td>0.0</td>\n",
       "      <td>0.00</td>\n",
       "      <td>0.0</td>\n",
       "      <td>1.0</td>\n",
       "      <td>1.0</td>\n",
       "    </tr>\n",
       "    <tr>\n",
       "      <th>SB_to be done up</th>\n",
       "      <td>22487.0</td>\n",
       "      <td>0.100102</td>\n",
       "      <td>0.300143</td>\n",
       "      <td>0.0</td>\n",
       "      <td>0.00</td>\n",
       "      <td>0.0</td>\n",
       "      <td>0.0</td>\n",
       "      <td>1.0</td>\n",
       "    </tr>\n",
       "    <tr>\n",
       "      <th>SB_to renovate</th>\n",
       "      <td>22487.0</td>\n",
       "      <td>0.099079</td>\n",
       "      <td>0.298775</td>\n",
       "      <td>0.0</td>\n",
       "      <td>0.00</td>\n",
       "      <td>0.0</td>\n",
       "      <td>0.0</td>\n",
       "      <td>1.0</td>\n",
       "    </tr>\n",
       "    <tr>\n",
       "      <th>SB_to restore</th>\n",
       "      <td>22487.0</td>\n",
       "      <td>0.006181</td>\n",
       "      <td>0.078380</td>\n",
       "      <td>0.0</td>\n",
       "      <td>0.00</td>\n",
       "      <td>0.0</td>\n",
       "      <td>0.0</td>\n",
       "      <td>1.0</td>\n",
       "    </tr>\n",
       "  </tbody>\n",
       "</table>\n",
       "</div>"
      ],
      "text/plain": [
       "                          count           mean            std     min  \\\n",
       "price                   22487.0  335571.037044  182531.720413  2500.0   \n",
       "rank_city_pr            22487.0     273.986837     171.136013     1.0   \n",
       "house_area              22369.0     196.864545      94.187597    13.0   \n",
       "surface_of_the_land     22352.0     753.100841    1310.201713     0.0   \n",
       "number_of_facades       19616.0       2.950805       0.855014     1.0   \n",
       "number_of_rooms         22487.0       3.470183       1.366356     0.0   \n",
       "garden                  22487.0       0.465958       0.498851     0.0   \n",
       "terrace                 22487.0       0.551385       0.497364     0.0   \n",
       "terrace_area            16361.0      11.141923      18.718626     0.0   \n",
       "fully_equipped_kitchen  22487.0       0.697914       0.459172     0.0   \n",
       "open_fire               22487.0       0.084138       0.277600     0.0   \n",
       "swimming_pool           22487.0       0.023391       0.151146     0.0   \n",
       "SB_as new               22487.0       0.207587       0.405588     0.0   \n",
       "SB_just renovated       22487.0       0.056299       0.230504     0.0   \n",
       "SB_good                 22487.0       0.293325       0.455296     0.0   \n",
       "SB_to be done up        22487.0       0.100102       0.300143     0.0   \n",
       "SB_to renovate          22487.0       0.099079       0.298775     0.0   \n",
       "SB_to restore           22487.0       0.006181       0.078380     0.0   \n",
       "\n",
       "                              25%       50%       75%       max  \n",
       "price                   210000.00  297029.0  415000.0  950000.0  \n",
       "rank_city_pr               117.00     268.0     423.0     580.0  \n",
       "house_area                 136.00     174.0     231.0     710.0  \n",
       "surface_of_the_land        152.75     360.0     830.0   15444.0  \n",
       "number_of_facades            2.00       3.0       4.0       4.0  \n",
       "number_of_rooms              3.00       3.0       4.0      16.0  \n",
       "garden                       0.00       0.0       1.0       1.0  \n",
       "terrace                      0.00       1.0       1.0       1.0  \n",
       "terrace_area                 0.00       0.0      20.0     115.0  \n",
       "fully_equipped_kitchen       0.00       1.0       1.0       1.0  \n",
       "open_fire                    0.00       0.0       0.0       1.0  \n",
       "swimming_pool                0.00       0.0       0.0       1.0  \n",
       "SB_as new                    0.00       0.0       0.0       1.0  \n",
       "SB_just renovated            0.00       0.0       0.0       1.0  \n",
       "SB_good                      0.00       0.0       1.0       1.0  \n",
       "SB_to be done up             0.00       0.0       0.0       1.0  \n",
       "SB_to renovate               0.00       0.0       0.0       1.0  \n",
       "SB_to restore                0.00       0.0       0.0       1.0  "
      ]
     },
     "execution_count": 35,
     "metadata": {},
     "output_type": "execute_result"
    }
   ],
   "source": [
    "Houses.describe().T"
   ]
  },
  {
   "cell_type": "markdown",
   "metadata": {},
   "source": [
    "z. Function for running house models"
   ]
  },
  {
   "cell_type": "code",
   "execution_count": 36,
   "metadata": {},
   "outputs": [],
   "source": [
    "def make_house_R (cp, house_area=196, surf_land=753, numb_facades=3, numb_rooms=3, garden=1, \n",
    "                  terrace=0, terrace_area=0, equip_kitch=1, fire=0, pool=0, Sas_new=0, Sjust_renov=0, \n",
    "                  Sgood=1, Sto_refresh=0, Sto_renov=0, Sto_restor=0):\n",
    "    with open('CP_to_city.json', 'r') as fcp:\n",
    "        cp_to_city = json.load(fcp)\n",
    "        city = cp_to_city['Commune principale'][str(cp)]\n",
    "    with open('City_to_rank.json', 'r') as fci:\n",
    "        city_to_rank = json.load(fci)\n",
    "        rank = city_to_rank[str(city)]\n",
    "    features = np.array([[rank, rank**2, rank**3,house_area,surf_land,numb_facades, \n",
    "                          numb_rooms,  garden,terrace, terrace_area,equip_kitch, fire,pool, \n",
    "                          Sas_new, Sjust_renov, Sgood,Sto_refresh, Sto_renov, Sto_restor]])\n",
    "    House_model = pickle.load(open('House_regression', 'rb'))\n",
    "    return House_model.predict(features)"
   ]
  },
  {
   "cell_type": "code",
   "execution_count": 37,
   "metadata": {},
   "outputs": [
    {
     "data": {
      "text/plain": [
       "array([300509.47821768])"
      ]
     },
     "execution_count": 37,
     "metadata": {},
     "output_type": "execute_result"
    }
   ],
   "source": [
    "make_house_R (7850, 20, 500, 4, 4, 1, 1, 50, 1, 1, 1, 0,0,0,0,0,1)"
   ]
  },
  {
   "cell_type": "markdown",
   "metadata": {},
   "source": [
    "### Houses models"
   ]
  },
  {
   "cell_type": "code",
   "execution_count": null,
   "metadata": {},
   "outputs": [],
   "source": []
  }
 ],
 "metadata": {
  "kernelspec": {
   "display_name": "Python 3",
   "language": "python",
   "name": "python3"
  },
  "language_info": {
   "codemirror_mode": {
    "name": "ipython",
    "version": 3
   },
   "file_extension": ".py",
   "mimetype": "text/x-python",
   "name": "python",
   "nbconvert_exporter": "python",
   "pygments_lexer": "ipython3",
   "version": "3.8.3"
  }
 },
 "nbformat": 4,
 "nbformat_minor": 4
}

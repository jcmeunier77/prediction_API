{
 "cells": [
  {
   "cell_type": "markdown",
   "metadata": {},
   "source": [
    "## E. ML Regression models, apartments"
   ]
  },
  {
   "cell_type": "code",
   "execution_count": 113,
   "metadata": {},
   "outputs": [],
   "source": [
    "import numpy as np\n",
    "import pandas as pd\n",
    "import matplotlib.pyplot as plt\n",
    "from mpl_toolkits.mplot3d import Axes3D\n",
    "from sklearn.model_selection import train_test_split\n",
    "from sklearn.linear_model import LinearRegression\n",
    "from sklearn.datasets import make_regression\n",
    "import seaborn as sns\n",
    "from sklearn.pipeline import Pipeline, make_pipeline\n",
    "from sklearn.preprocessing import PolynomialFeatures\n",
    "from sklearn.linear_model import LinearRegression\n",
    "import pickle\n",
    "import json\n"
   ]
  },
  {
   "cell_type": "code",
   "execution_count": 114,
   "metadata": {},
   "outputs": [],
   "source": [
    "Houses = pd.read_csv('DEF_house.csv', sep=',', na_values='None')\n",
    "Aparts = pd.read_csv('DEF_apart.csv', sep=',', na_values='None')"
   ]
  },
  {
   "cell_type": "code",
   "execution_count": 115,
   "metadata": {},
   "outputs": [],
   "source": [
    "Aparts = Aparts.drop('Unnamed: 0', axis=1)"
   ]
  },
  {
   "cell_type": "code",
   "execution_count": 116,
   "metadata": {},
   "outputs": [
    {
     "data": {
      "text/plain": [
       "Index(['price', 'Commune', 'rank_city_pr', 'house_area', 'number_of_rooms',\n",
       "       'terrace', 'terrace_area', 'fully_equipped_kitchen', 'open_fire',\n",
       "       'SB_as new', 'SB_just renovated', 'SB_good', 'SB_to be done up',\n",
       "       'SB_to renovate', 'SB_to restore'],\n",
       "      dtype='object')"
      ]
     },
     "execution_count": 116,
     "metadata": {},
     "output_type": "execute_result"
    }
   ],
   "source": [
    "Aparts.columns"
   ]
  },
  {
   "cell_type": "code",
   "execution_count": 117,
   "metadata": {
    "scrolled": true
   },
   "outputs": [
    {
     "data": {
      "text/html": [
       "<div>\n",
       "<style scoped>\n",
       "    .dataframe tbody tr th:only-of-type {\n",
       "        vertical-align: middle;\n",
       "    }\n",
       "\n",
       "    .dataframe tbody tr th {\n",
       "        vertical-align: top;\n",
       "    }\n",
       "\n",
       "    .dataframe thead th {\n",
       "        text-align: right;\n",
       "    }\n",
       "</style>\n",
       "<table border=\"1\" class=\"dataframe\">\n",
       "  <thead>\n",
       "    <tr style=\"text-align: right;\">\n",
       "      <th></th>\n",
       "      <th>price</th>\n",
       "      <th>Commune</th>\n",
       "      <th>rank_city_pr</th>\n",
       "      <th>house_area</th>\n",
       "      <th>number_of_rooms</th>\n",
       "      <th>terrace</th>\n",
       "      <th>terrace_area</th>\n",
       "      <th>fully_equipped_kitchen</th>\n",
       "      <th>open_fire</th>\n",
       "      <th>SB_as new</th>\n",
       "      <th>SB_just renovated</th>\n",
       "      <th>SB_good</th>\n",
       "      <th>SB_to be done up</th>\n",
       "      <th>SB_to renovate</th>\n",
       "      <th>SB_to restore</th>\n",
       "    </tr>\n",
       "  </thead>\n",
       "  <tbody>\n",
       "    <tr>\n",
       "      <th>0</th>\n",
       "      <td>45000</td>\n",
       "      <td>LIÈGE</td>\n",
       "      <td>84.0</td>\n",
       "      <td>47.0</td>\n",
       "      <td>1</td>\n",
       "      <td>1</td>\n",
       "      <td>2.0</td>\n",
       "      <td>0</td>\n",
       "      <td>0</td>\n",
       "      <td>0</td>\n",
       "      <td>0</td>\n",
       "      <td>1</td>\n",
       "      <td>0</td>\n",
       "      <td>0</td>\n",
       "      <td>0</td>\n",
       "    </tr>\n",
       "    <tr>\n",
       "      <th>1</th>\n",
       "      <td>25000</td>\n",
       "      <td>LIÈGE</td>\n",
       "      <td>84.0</td>\n",
       "      <td>125.0</td>\n",
       "      <td>1</td>\n",
       "      <td>1</td>\n",
       "      <td>8.0</td>\n",
       "      <td>1</td>\n",
       "      <td>1</td>\n",
       "      <td>1</td>\n",
       "      <td>0</td>\n",
       "      <td>0</td>\n",
       "      <td>0</td>\n",
       "      <td>0</td>\n",
       "      <td>0</td>\n",
       "    </tr>\n",
       "    <tr>\n",
       "      <th>2</th>\n",
       "      <td>25000</td>\n",
       "      <td>LIÈGE</td>\n",
       "      <td>84.0</td>\n",
       "      <td>142.0</td>\n",
       "      <td>3</td>\n",
       "      <td>1</td>\n",
       "      <td>4.0</td>\n",
       "      <td>1</td>\n",
       "      <td>0</td>\n",
       "      <td>1</td>\n",
       "      <td>0</td>\n",
       "      <td>0</td>\n",
       "      <td>0</td>\n",
       "      <td>0</td>\n",
       "      <td>0</td>\n",
       "    </tr>\n",
       "    <tr>\n",
       "      <th>3</th>\n",
       "      <td>20000</td>\n",
       "      <td>COURCELLES</td>\n",
       "      <td>41.0</td>\n",
       "      <td>115.0</td>\n",
       "      <td>1</td>\n",
       "      <td>0</td>\n",
       "      <td>0.0</td>\n",
       "      <td>1</td>\n",
       "      <td>0</td>\n",
       "      <td>0</td>\n",
       "      <td>0</td>\n",
       "      <td>1</td>\n",
       "      <td>0</td>\n",
       "      <td>0</td>\n",
       "      <td>0</td>\n",
       "    </tr>\n",
       "    <tr>\n",
       "      <th>4</th>\n",
       "      <td>50000</td>\n",
       "      <td>SCHAERBEEK</td>\n",
       "      <td>404.0</td>\n",
       "      <td>96.0</td>\n",
       "      <td>2</td>\n",
       "      <td>0</td>\n",
       "      <td>0.0</td>\n",
       "      <td>1</td>\n",
       "      <td>0</td>\n",
       "      <td>0</td>\n",
       "      <td>0</td>\n",
       "      <td>1</td>\n",
       "      <td>0</td>\n",
       "      <td>0</td>\n",
       "      <td>0</td>\n",
       "    </tr>\n",
       "    <tr>\n",
       "      <th>...</th>\n",
       "      <td>...</td>\n",
       "      <td>...</td>\n",
       "      <td>...</td>\n",
       "      <td>...</td>\n",
       "      <td>...</td>\n",
       "      <td>...</td>\n",
       "      <td>...</td>\n",
       "      <td>...</td>\n",
       "      <td>...</td>\n",
       "      <td>...</td>\n",
       "      <td>...</td>\n",
       "      <td>...</td>\n",
       "      <td>...</td>\n",
       "      <td>...</td>\n",
       "      <td>...</td>\n",
       "    </tr>\n",
       "    <tr>\n",
       "      <th>19844</th>\n",
       "      <td>950000</td>\n",
       "      <td>KNOKKE-HEIST</td>\n",
       "      <td>570.0</td>\n",
       "      <td>157.0</td>\n",
       "      <td>2</td>\n",
       "      <td>0</td>\n",
       "      <td>0.0</td>\n",
       "      <td>1</td>\n",
       "      <td>0</td>\n",
       "      <td>0</td>\n",
       "      <td>0</td>\n",
       "      <td>1</td>\n",
       "      <td>0</td>\n",
       "      <td>0</td>\n",
       "      <td>0</td>\n",
       "    </tr>\n",
       "    <tr>\n",
       "      <th>19845</th>\n",
       "      <td>945000</td>\n",
       "      <td>TONGEREN</td>\n",
       "      <td>201.0</td>\n",
       "      <td>164.0</td>\n",
       "      <td>3</td>\n",
       "      <td>0</td>\n",
       "      <td>0.0</td>\n",
       "      <td>1</td>\n",
       "      <td>0</td>\n",
       "      <td>1</td>\n",
       "      <td>0</td>\n",
       "      <td>0</td>\n",
       "      <td>0</td>\n",
       "      <td>0</td>\n",
       "      <td>0</td>\n",
       "    </tr>\n",
       "    <tr>\n",
       "      <th>19846</th>\n",
       "      <td>950000</td>\n",
       "      <td>DURBUY</td>\n",
       "      <td>194.0</td>\n",
       "      <td>111.0</td>\n",
       "      <td>2</td>\n",
       "      <td>1</td>\n",
       "      <td>115.0</td>\n",
       "      <td>0</td>\n",
       "      <td>0</td>\n",
       "      <td>0</td>\n",
       "      <td>0</td>\n",
       "      <td>0</td>\n",
       "      <td>0</td>\n",
       "      <td>0</td>\n",
       "      <td>0</td>\n",
       "    </tr>\n",
       "    <tr>\n",
       "      <th>19847</th>\n",
       "      <td>950000</td>\n",
       "      <td>BRUGGE</td>\n",
       "      <td>468.0</td>\n",
       "      <td>182.0</td>\n",
       "      <td>2</td>\n",
       "      <td>0</td>\n",
       "      <td>0.0</td>\n",
       "      <td>1</td>\n",
       "      <td>0</td>\n",
       "      <td>0</td>\n",
       "      <td>1</td>\n",
       "      <td>0</td>\n",
       "      <td>0</td>\n",
       "      <td>0</td>\n",
       "      <td>0</td>\n",
       "    </tr>\n",
       "    <tr>\n",
       "      <th>19848</th>\n",
       "      <td>295000</td>\n",
       "      <td>GENT</td>\n",
       "      <td>496.0</td>\n",
       "      <td>79.0</td>\n",
       "      <td>2</td>\n",
       "      <td>1</td>\n",
       "      <td>NaN</td>\n",
       "      <td>0</td>\n",
       "      <td>0</td>\n",
       "      <td>0</td>\n",
       "      <td>0</td>\n",
       "      <td>1</td>\n",
       "      <td>0</td>\n",
       "      <td>0</td>\n",
       "      <td>0</td>\n",
       "    </tr>\n",
       "  </tbody>\n",
       "</table>\n",
       "<p>19849 rows × 15 columns</p>\n",
       "</div>"
      ],
      "text/plain": [
       "        price       Commune  rank_city_pr  house_area  number_of_rooms  \\\n",
       "0       45000         LIÈGE          84.0        47.0                1   \n",
       "1       25000         LIÈGE          84.0       125.0                1   \n",
       "2       25000         LIÈGE          84.0       142.0                3   \n",
       "3       20000    COURCELLES          41.0       115.0                1   \n",
       "4       50000    SCHAERBEEK         404.0        96.0                2   \n",
       "...       ...           ...           ...         ...              ...   \n",
       "19844  950000  KNOKKE-HEIST         570.0       157.0                2   \n",
       "19845  945000      TONGEREN         201.0       164.0                3   \n",
       "19846  950000        DURBUY         194.0       111.0                2   \n",
       "19847  950000        BRUGGE         468.0       182.0                2   \n",
       "19848  295000          GENT         496.0        79.0                2   \n",
       "\n",
       "       terrace  terrace_area  fully_equipped_kitchen  open_fire  SB_as new  \\\n",
       "0            1           2.0                       0          0          0   \n",
       "1            1           8.0                       1          1          1   \n",
       "2            1           4.0                       1          0          1   \n",
       "3            0           0.0                       1          0          0   \n",
       "4            0           0.0                       1          0          0   \n",
       "...        ...           ...                     ...        ...        ...   \n",
       "19844        0           0.0                       1          0          0   \n",
       "19845        0           0.0                       1          0          1   \n",
       "19846        1         115.0                       0          0          0   \n",
       "19847        0           0.0                       1          0          0   \n",
       "19848        1           NaN                       0          0          0   \n",
       "\n",
       "       SB_just renovated  SB_good  SB_to be done up  SB_to renovate  \\\n",
       "0                      0        1                 0               0   \n",
       "1                      0        0                 0               0   \n",
       "2                      0        0                 0               0   \n",
       "3                      0        1                 0               0   \n",
       "4                      0        1                 0               0   \n",
       "...                  ...      ...               ...             ...   \n",
       "19844                  0        1                 0               0   \n",
       "19845                  0        0                 0               0   \n",
       "19846                  0        0                 0               0   \n",
       "19847                  1        0                 0               0   \n",
       "19848                  0        1                 0               0   \n",
       "\n",
       "       SB_to restore  \n",
       "0                  0  \n",
       "1                  0  \n",
       "2                  0  \n",
       "3                  0  \n",
       "4                  0  \n",
       "...              ...  \n",
       "19844              0  \n",
       "19845              0  \n",
       "19846              0  \n",
       "19847              0  \n",
       "19848              0  \n",
       "\n",
       "[19849 rows x 15 columns]"
      ]
     },
     "execution_count": 117,
     "metadata": {},
     "output_type": "execute_result"
    }
   ],
   "source": [
    "Aparts"
   ]
  },
  {
   "cell_type": "code",
   "execution_count": 118,
   "metadata": {},
   "outputs": [],
   "source": [
    "forImputation_a=Aparts.drop('Commune',axis=1)"
   ]
  },
  {
   "cell_type": "code",
   "execution_count": 119,
   "metadata": {},
   "outputs": [
    {
     "data": {
      "text/plain": [
       "price                        0\n",
       "rank_city_pr                 0\n",
       "house_area                   0\n",
       "number_of_rooms              0\n",
       "terrace                      0\n",
       "terrace_area              3429\n",
       "fully_equipped_kitchen       0\n",
       "open_fire                    0\n",
       "SB_as new                    0\n",
       "SB_just renovated            0\n",
       "SB_good                      0\n",
       "SB_to be done up             0\n",
       "SB_to renovate               0\n",
       "SB_to restore                0\n",
       "dtype: int64"
      ]
     },
     "execution_count": 119,
     "metadata": {},
     "output_type": "execute_result"
    }
   ],
   "source": [
    "forImputation_a.isna().sum()"
   ]
  },
  {
   "cell_type": "code",
   "execution_count": 120,
   "metadata": {},
   "outputs": [],
   "source": [
    "from sklearn.experimental import enable_iterative_imputer  # noqa\n",
    "from sklearn.impute import IterativeImputer\n",
    "imputer = IterativeImputer()\n",
    "imputed_data_a = imputer.fit_transform(forImputation_a)"
   ]
  },
  {
   "cell_type": "code",
   "execution_count": 121,
   "metadata": {},
   "outputs": [
    {
     "data": {
      "text/plain": [
       "(19849, 14)"
      ]
     },
     "execution_count": 121,
     "metadata": {},
     "output_type": "execute_result"
    }
   ],
   "source": [
    "imputed_data_a.shape"
   ]
  },
  {
   "cell_type": "code",
   "execution_count": 122,
   "metadata": {},
   "outputs": [],
   "source": [
    "Aparts_I = pd.DataFrame(data=imputed_data_a)"
   ]
  },
  {
   "cell_type": "code",
   "execution_count": 123,
   "metadata": {},
   "outputs": [],
   "source": [
    "Aparts_I.columns = ['price', 'rank_city_pr', 'house_area', 'number_of_rooms',\n",
    "       'terrace', 'terrace_area', 'fully_equipped_kitchen', 'open_fire',\n",
    "       'SB_as new', 'SB_just renovated', 'SB_good', 'SB_to be done up',\n",
    "       'SB_to renovate', 'SB_to restore']"
   ]
  },
  {
   "cell_type": "code",
   "execution_count": 124,
   "metadata": {},
   "outputs": [
    {
     "data": {
      "text/plain": [
       "price                     0\n",
       "rank_city_pr              0\n",
       "house_area                0\n",
       "number_of_rooms           0\n",
       "terrace                   0\n",
       "terrace_area              0\n",
       "fully_equipped_kitchen    0\n",
       "open_fire                 0\n",
       "SB_as new                 0\n",
       "SB_just renovated         0\n",
       "SB_good                   0\n",
       "SB_to be done up          0\n",
       "SB_to renovate            0\n",
       "SB_to restore             0\n",
       "dtype: int64"
      ]
     },
     "execution_count": 124,
     "metadata": {},
     "output_type": "execute_result"
    }
   ],
   "source": [
    "Aparts_I.isna().sum()"
   ]
  },
  {
   "cell_type": "code",
   "execution_count": 125,
   "metadata": {},
   "outputs": [],
   "source": [
    "X_a=Aparts_I.drop('price',axis=1) \n",
    "y_a=Aparts_I['price'] "
   ]
  },
  {
   "cell_type": "code",
   "execution_count": 126,
   "metadata": {},
   "outputs": [
    {
     "data": {
      "text/plain": [
       "Index(['rank_city_pr', 'house_area', 'number_of_rooms', 'terrace',\n",
       "       'terrace_area', 'fully_equipped_kitchen', 'open_fire', 'SB_as new',\n",
       "       'SB_just renovated', 'SB_good', 'SB_to be done up', 'SB_to renovate',\n",
       "       'SB_to restore', 'rank_city_pr2', 'rank_city_pr3'],\n",
       "      dtype='object')"
      ]
     },
     "execution_count": 126,
     "metadata": {},
     "output_type": "execute_result"
    }
   ],
   "source": [
    "X_a_poly = X_a\n",
    "X_a_poly['rank_city_pr2'] = X_a_poly['rank_city_pr']**2\n",
    "X_a_poly['rank_city_pr3'] = X_a_poly['rank_city_pr']**3\n",
    "X_a_poly.columns"
   ]
  },
  {
   "cell_type": "code",
   "execution_count": 127,
   "metadata": {},
   "outputs": [
    {
     "data": {
      "text/html": [
       "<div>\n",
       "<style scoped>\n",
       "    .dataframe tbody tr th:only-of-type {\n",
       "        vertical-align: middle;\n",
       "    }\n",
       "\n",
       "    .dataframe tbody tr th {\n",
       "        vertical-align: top;\n",
       "    }\n",
       "\n",
       "    .dataframe thead th {\n",
       "        text-align: right;\n",
       "    }\n",
       "</style>\n",
       "<table border=\"1\" class=\"dataframe\">\n",
       "  <thead>\n",
       "    <tr style=\"text-align: right;\">\n",
       "      <th></th>\n",
       "      <th>rank_city_pr</th>\n",
       "      <th>rank_city_pr2</th>\n",
       "      <th>rank_city_pr3</th>\n",
       "      <th>house_area</th>\n",
       "      <th>number_of_rooms</th>\n",
       "      <th>terrace</th>\n",
       "      <th>terrace_area</th>\n",
       "      <th>fully_equipped_kitchen</th>\n",
       "      <th>open_fire</th>\n",
       "      <th>SB_as new</th>\n",
       "      <th>SB_just renovated</th>\n",
       "      <th>SB_good</th>\n",
       "      <th>SB_to be done up</th>\n",
       "      <th>SB_to renovate</th>\n",
       "      <th>SB_to restore</th>\n",
       "    </tr>\n",
       "  </thead>\n",
       "  <tbody>\n",
       "    <tr>\n",
       "      <th>0</th>\n",
       "      <td>84.0</td>\n",
       "      <td>7056.0</td>\n",
       "      <td>592704.0</td>\n",
       "      <td>47.0</td>\n",
       "      <td>1.0</td>\n",
       "      <td>1.0</td>\n",
       "      <td>2.000000</td>\n",
       "      <td>0.0</td>\n",
       "      <td>0.0</td>\n",
       "      <td>0.0</td>\n",
       "      <td>0.0</td>\n",
       "      <td>1.0</td>\n",
       "      <td>0.0</td>\n",
       "      <td>0.0</td>\n",
       "      <td>0.0</td>\n",
       "    </tr>\n",
       "    <tr>\n",
       "      <th>1</th>\n",
       "      <td>84.0</td>\n",
       "      <td>7056.0</td>\n",
       "      <td>592704.0</td>\n",
       "      <td>125.0</td>\n",
       "      <td>1.0</td>\n",
       "      <td>1.0</td>\n",
       "      <td>8.000000</td>\n",
       "      <td>1.0</td>\n",
       "      <td>1.0</td>\n",
       "      <td>1.0</td>\n",
       "      <td>0.0</td>\n",
       "      <td>0.0</td>\n",
       "      <td>0.0</td>\n",
       "      <td>0.0</td>\n",
       "      <td>0.0</td>\n",
       "    </tr>\n",
       "    <tr>\n",
       "      <th>2</th>\n",
       "      <td>84.0</td>\n",
       "      <td>7056.0</td>\n",
       "      <td>592704.0</td>\n",
       "      <td>142.0</td>\n",
       "      <td>3.0</td>\n",
       "      <td>1.0</td>\n",
       "      <td>4.000000</td>\n",
       "      <td>1.0</td>\n",
       "      <td>0.0</td>\n",
       "      <td>1.0</td>\n",
       "      <td>0.0</td>\n",
       "      <td>0.0</td>\n",
       "      <td>0.0</td>\n",
       "      <td>0.0</td>\n",
       "      <td>0.0</td>\n",
       "    </tr>\n",
       "    <tr>\n",
       "      <th>3</th>\n",
       "      <td>41.0</td>\n",
       "      <td>1681.0</td>\n",
       "      <td>68921.0</td>\n",
       "      <td>115.0</td>\n",
       "      <td>1.0</td>\n",
       "      <td>0.0</td>\n",
       "      <td>0.000000</td>\n",
       "      <td>1.0</td>\n",
       "      <td>0.0</td>\n",
       "      <td>0.0</td>\n",
       "      <td>0.0</td>\n",
       "      <td>1.0</td>\n",
       "      <td>0.0</td>\n",
       "      <td>0.0</td>\n",
       "      <td>0.0</td>\n",
       "    </tr>\n",
       "    <tr>\n",
       "      <th>4</th>\n",
       "      <td>404.0</td>\n",
       "      <td>163216.0</td>\n",
       "      <td>65939264.0</td>\n",
       "      <td>96.0</td>\n",
       "      <td>2.0</td>\n",
       "      <td>0.0</td>\n",
       "      <td>0.000000</td>\n",
       "      <td>1.0</td>\n",
       "      <td>0.0</td>\n",
       "      <td>0.0</td>\n",
       "      <td>0.0</td>\n",
       "      <td>1.0</td>\n",
       "      <td>0.0</td>\n",
       "      <td>0.0</td>\n",
       "      <td>0.0</td>\n",
       "    </tr>\n",
       "    <tr>\n",
       "      <th>...</th>\n",
       "      <td>...</td>\n",
       "      <td>...</td>\n",
       "      <td>...</td>\n",
       "      <td>...</td>\n",
       "      <td>...</td>\n",
       "      <td>...</td>\n",
       "      <td>...</td>\n",
       "      <td>...</td>\n",
       "      <td>...</td>\n",
       "      <td>...</td>\n",
       "      <td>...</td>\n",
       "      <td>...</td>\n",
       "      <td>...</td>\n",
       "      <td>...</td>\n",
       "      <td>...</td>\n",
       "    </tr>\n",
       "    <tr>\n",
       "      <th>19844</th>\n",
       "      <td>570.0</td>\n",
       "      <td>324900.0</td>\n",
       "      <td>185193000.0</td>\n",
       "      <td>157.0</td>\n",
       "      <td>2.0</td>\n",
       "      <td>0.0</td>\n",
       "      <td>0.000000</td>\n",
       "      <td>1.0</td>\n",
       "      <td>0.0</td>\n",
       "      <td>0.0</td>\n",
       "      <td>0.0</td>\n",
       "      <td>1.0</td>\n",
       "      <td>0.0</td>\n",
       "      <td>0.0</td>\n",
       "      <td>0.0</td>\n",
       "    </tr>\n",
       "    <tr>\n",
       "      <th>19845</th>\n",
       "      <td>201.0</td>\n",
       "      <td>40401.0</td>\n",
       "      <td>8120601.0</td>\n",
       "      <td>164.0</td>\n",
       "      <td>3.0</td>\n",
       "      <td>0.0</td>\n",
       "      <td>0.000000</td>\n",
       "      <td>1.0</td>\n",
       "      <td>0.0</td>\n",
       "      <td>1.0</td>\n",
       "      <td>0.0</td>\n",
       "      <td>0.0</td>\n",
       "      <td>0.0</td>\n",
       "      <td>0.0</td>\n",
       "      <td>0.0</td>\n",
       "    </tr>\n",
       "    <tr>\n",
       "      <th>19846</th>\n",
       "      <td>194.0</td>\n",
       "      <td>37636.0</td>\n",
       "      <td>7301384.0</td>\n",
       "      <td>111.0</td>\n",
       "      <td>2.0</td>\n",
       "      <td>1.0</td>\n",
       "      <td>115.000000</td>\n",
       "      <td>0.0</td>\n",
       "      <td>0.0</td>\n",
       "      <td>0.0</td>\n",
       "      <td>0.0</td>\n",
       "      <td>0.0</td>\n",
       "      <td>0.0</td>\n",
       "      <td>0.0</td>\n",
       "      <td>0.0</td>\n",
       "    </tr>\n",
       "    <tr>\n",
       "      <th>19847</th>\n",
       "      <td>468.0</td>\n",
       "      <td>219024.0</td>\n",
       "      <td>102503232.0</td>\n",
       "      <td>182.0</td>\n",
       "      <td>2.0</td>\n",
       "      <td>0.0</td>\n",
       "      <td>0.000000</td>\n",
       "      <td>1.0</td>\n",
       "      <td>0.0</td>\n",
       "      <td>0.0</td>\n",
       "      <td>1.0</td>\n",
       "      <td>0.0</td>\n",
       "      <td>0.0</td>\n",
       "      <td>0.0</td>\n",
       "      <td>0.0</td>\n",
       "    </tr>\n",
       "    <tr>\n",
       "      <th>19848</th>\n",
       "      <td>496.0</td>\n",
       "      <td>246016.0</td>\n",
       "      <td>122023936.0</td>\n",
       "      <td>79.0</td>\n",
       "      <td>2.0</td>\n",
       "      <td>1.0</td>\n",
       "      <td>14.574344</td>\n",
       "      <td>0.0</td>\n",
       "      <td>0.0</td>\n",
       "      <td>0.0</td>\n",
       "      <td>0.0</td>\n",
       "      <td>1.0</td>\n",
       "      <td>0.0</td>\n",
       "      <td>0.0</td>\n",
       "      <td>0.0</td>\n",
       "    </tr>\n",
       "  </tbody>\n",
       "</table>\n",
       "<p>19849 rows × 15 columns</p>\n",
       "</div>"
      ],
      "text/plain": [
       "       rank_city_pr  rank_city_pr2  rank_city_pr3  house_area  \\\n",
       "0              84.0         7056.0       592704.0        47.0   \n",
       "1              84.0         7056.0       592704.0       125.0   \n",
       "2              84.0         7056.0       592704.0       142.0   \n",
       "3              41.0         1681.0        68921.0       115.0   \n",
       "4             404.0       163216.0     65939264.0        96.0   \n",
       "...             ...            ...            ...         ...   \n",
       "19844         570.0       324900.0    185193000.0       157.0   \n",
       "19845         201.0        40401.0      8120601.0       164.0   \n",
       "19846         194.0        37636.0      7301384.0       111.0   \n",
       "19847         468.0       219024.0    102503232.0       182.0   \n",
       "19848         496.0       246016.0    122023936.0        79.0   \n",
       "\n",
       "       number_of_rooms  terrace  terrace_area  fully_equipped_kitchen  \\\n",
       "0                  1.0      1.0      2.000000                     0.0   \n",
       "1                  1.0      1.0      8.000000                     1.0   \n",
       "2                  3.0      1.0      4.000000                     1.0   \n",
       "3                  1.0      0.0      0.000000                     1.0   \n",
       "4                  2.0      0.0      0.000000                     1.0   \n",
       "...                ...      ...           ...                     ...   \n",
       "19844              2.0      0.0      0.000000                     1.0   \n",
       "19845              3.0      0.0      0.000000                     1.0   \n",
       "19846              2.0      1.0    115.000000                     0.0   \n",
       "19847              2.0      0.0      0.000000                     1.0   \n",
       "19848              2.0      1.0     14.574344                     0.0   \n",
       "\n",
       "       open_fire  SB_as new  SB_just renovated  SB_good  SB_to be done up  \\\n",
       "0            0.0        0.0                0.0      1.0               0.0   \n",
       "1            1.0        1.0                0.0      0.0               0.0   \n",
       "2            0.0        1.0                0.0      0.0               0.0   \n",
       "3            0.0        0.0                0.0      1.0               0.0   \n",
       "4            0.0        0.0                0.0      1.0               0.0   \n",
       "...          ...        ...                ...      ...               ...   \n",
       "19844        0.0        0.0                0.0      1.0               0.0   \n",
       "19845        0.0        1.0                0.0      0.0               0.0   \n",
       "19846        0.0        0.0                0.0      0.0               0.0   \n",
       "19847        0.0        0.0                1.0      0.0               0.0   \n",
       "19848        0.0        0.0                0.0      1.0               0.0   \n",
       "\n",
       "       SB_to renovate  SB_to restore  \n",
       "0                 0.0            0.0  \n",
       "1                 0.0            0.0  \n",
       "2                 0.0            0.0  \n",
       "3                 0.0            0.0  \n",
       "4                 0.0            0.0  \n",
       "...               ...            ...  \n",
       "19844             0.0            0.0  \n",
       "19845             0.0            0.0  \n",
       "19846             0.0            0.0  \n",
       "19847             0.0            0.0  \n",
       "19848             0.0            0.0  \n",
       "\n",
       "[19849 rows x 15 columns]"
      ]
     },
     "execution_count": 127,
     "metadata": {},
     "output_type": "execute_result"
    }
   ],
   "source": [
    "X_a_poly = X_a_poly[['rank_city_pr', 'rank_city_pr2', 'rank_city_pr3', 'house_area', 'number_of_rooms', 'terrace',\n",
    "       'terrace_area', 'fully_equipped_kitchen', 'open_fire', 'SB_as new',\n",
    "       'SB_just renovated', 'SB_good', 'SB_to be done up', 'SB_to renovate',\n",
    "       'SB_to restore']]\n",
    "X_a_poly"
   ]
  },
  {
   "cell_type": "code",
   "execution_count": 128,
   "metadata": {},
   "outputs": [],
   "source": [
    "# X_h"
   ]
  },
  {
   "cell_type": "code",
   "execution_count": 129,
   "metadata": {},
   "outputs": [],
   "source": [
    "# y_h"
   ]
  },
  {
   "cell_type": "code",
   "execution_count": 130,
   "metadata": {},
   "outputs": [],
   "source": [
    "X_train,X_test,y_train,y_test = train_test_split(X_a_poly,y_a, test_size =0.2)"
   ]
  },
  {
   "cell_type": "code",
   "execution_count": 131,
   "metadata": {},
   "outputs": [
    {
     "data": {
      "text/plain": [
       "LinearRegression(normalize=True)"
      ]
     },
     "execution_count": 131,
     "metadata": {},
     "output_type": "execute_result"
    }
   ],
   "source": [
    "Mregressor = LinearRegression(normalize=True)\n",
    "Mregressor.fit(X_train, y_train)"
   ]
  },
  {
   "cell_type": "code",
   "execution_count": 132,
   "metadata": {},
   "outputs": [
    {
     "data": {
      "text/plain": [
       "0.6072859997570188"
      ]
     },
     "execution_count": 132,
     "metadata": {},
     "output_type": "execute_result"
    }
   ],
   "source": [
    "Mregressor.score(X_train, y_train)"
   ]
  },
  {
   "cell_type": "code",
   "execution_count": 133,
   "metadata": {},
   "outputs": [
    {
     "data": {
      "text/plain": [
       "0.6084272595169331"
      ]
     },
     "execution_count": 133,
     "metadata": {},
     "output_type": "execute_result"
    }
   ],
   "source": [
    "Mregressor.score(X_test, y_test)"
   ]
  },
  {
   "cell_type": "code",
   "execution_count": 134,
   "metadata": {},
   "outputs": [
    {
     "data": {
      "text/plain": [
       "{'copy_X': True, 'fit_intercept': True, 'n_jobs': None, 'normalize': True}"
      ]
     },
     "execution_count": 134,
     "metadata": {},
     "output_type": "execute_result"
    }
   ],
   "source": [
    "Mregressor.get_params()"
   ]
  },
  {
   "cell_type": "code",
   "execution_count": 135,
   "metadata": {},
   "outputs": [
    {
     "data": {
      "text/plain": [
       "array([ 1.49787943e+03, -5.85426551e+00,  7.39598881e-03,  1.51039157e+03,\n",
       "        1.39287159e+04, -7.08895979e+03,  1.62547495e+03, -3.42057199e+03,\n",
       "        1.98404485e+04,  1.83131021e+04,  1.47951726e+04, -2.07410641e+04,\n",
       "       -4.99081778e+04, -9.06109751e+04, -1.24843124e+05])"
      ]
     },
     "execution_count": 135,
     "metadata": {},
     "output_type": "execute_result"
    }
   ],
   "source": [
    "Mregressor.coef_"
   ]
  },
  {
   "cell_type": "code",
   "execution_count": 136,
   "metadata": {},
   "outputs": [
    {
     "data": {
      "text/plain": [
       "pandas.core.frame.DataFrame"
      ]
     },
     "execution_count": 136,
     "metadata": {},
     "output_type": "execute_result"
    }
   ],
   "source": [
    "type(X_train)"
   ]
  },
  {
   "cell_type": "code",
   "execution_count": 137,
   "metadata": {},
   "outputs": [
    {
     "data": {
      "text/plain": [
       "rank_city_pr                    537.0\n",
       "rank_city_pr2                288369.0\n",
       "rank_city_pr3             154854153.0\n",
       "house_area                       65.0\n",
       "number_of_rooms                   2.0\n",
       "terrace                           0.0\n",
       "terrace_area                      0.0\n",
       "fully_equipped_kitchen            0.0\n",
       "open_fire                         0.0\n",
       "SB_as new                         0.0\n",
       "SB_just renovated                 0.0\n",
       "SB_good                           1.0\n",
       "SB_to be done up                  0.0\n",
       "SB_to renovate                    0.0\n",
       "SB_to restore                     0.0\n",
       "Name: 9414, dtype: float64"
      ]
     },
     "execution_count": 137,
     "metadata": {},
     "output_type": "execute_result"
    }
   ],
   "source": [
    "X_train.iloc[0,:]"
   ]
  },
  {
   "cell_type": "code",
   "execution_count": 138,
   "metadata": {},
   "outputs": [
    {
     "data": {
      "text/plain": [
       "array([[5.37000000e+02, 2.88369000e+05, 1.54854153e+08, 6.50000000e+01,\n",
       "        2.00000000e+00, 0.00000000e+00, 0.00000000e+00, 0.00000000e+00,\n",
       "        0.00000000e+00, 0.00000000e+00, 0.00000000e+00, 1.00000000e+00,\n",
       "        0.00000000e+00, 0.00000000e+00, 0.00000000e+00]])"
      ]
     },
     "execution_count": 138,
     "metadata": {},
     "output_type": "execute_result"
    }
   ],
   "source": [
    "X_train.iloc[0,:].values.reshape(1,X_train.shape[1])"
   ]
  },
  {
   "cell_type": "code",
   "execution_count": 139,
   "metadata": {},
   "outputs": [
    {
     "data": {
      "text/plain": [
       "(15,)"
      ]
     },
     "execution_count": 139,
     "metadata": {},
     "output_type": "execute_result"
    }
   ],
   "source": [
    "X_train.iloc[0,:].shape"
   ]
  },
  {
   "cell_type": "code",
   "execution_count": 140,
   "metadata": {},
   "outputs": [
    {
     "data": {
      "text/plain": [
       "array([310603.82969328])"
      ]
     },
     "execution_count": 140,
     "metadata": {},
     "output_type": "execute_result"
    }
   ],
   "source": [
    "Mregressor.predict(X_train.iloc[0,:].values.reshape(1,X_train.shape[1]))"
   ]
  },
  {
   "cell_type": "code",
   "execution_count": 141,
   "metadata": {},
   "outputs": [
    {
     "data": {
      "text/plain": [
       "225000.0"
      ]
     },
     "execution_count": 141,
     "metadata": {},
     "output_type": "execute_result"
    }
   ],
   "source": [
    "y_train.iloc[0]"
   ]
  },
  {
   "cell_type": "code",
   "execution_count": 142,
   "metadata": {},
   "outputs": [],
   "source": [
    "pickle.dump(Mregressor, open('Apart_regression', 'wb'))\n"
   ]
  },
  {
   "cell_type": "code",
   "execution_count": 143,
   "metadata": {},
   "outputs": [],
   "source": [
    "essai = pickle.load(open('Apart_regression', 'rb'))\n"
   ]
  },
  {
   "cell_type": "code",
   "execution_count": 144,
   "metadata": {},
   "outputs": [
    {
     "data": {
      "text/plain": [
       "array([273322.63448156])"
      ]
     },
     "execution_count": 144,
     "metadata": {},
     "output_type": "execute_result"
    }
   ],
   "source": [
    "essai.predict(X_train.iloc[66,:].values.reshape(1,X_train.shape[1]))"
   ]
  },
  {
   "cell_type": "code",
   "execution_count": 145,
   "metadata": {},
   "outputs": [
    {
     "data": {
      "text/plain": [
       "numpy.ndarray"
      ]
     },
     "execution_count": 145,
     "metadata": {},
     "output_type": "execute_result"
    }
   ],
   "source": [
    "type(X_train.iloc[66,:].values.reshape(1,X_train.shape[1]))"
   ]
  },
  {
   "cell_type": "code",
   "execution_count": 146,
   "metadata": {},
   "outputs": [
    {
     "data": {
      "text/plain": [
       "322500.0"
      ]
     },
     "execution_count": 146,
     "metadata": {},
     "output_type": "execute_result"
    }
   ],
   "source": [
    "y_train.iloc[66]"
   ]
  },
  {
   "cell_type": "code",
   "execution_count": 147,
   "metadata": {},
   "outputs": [
    {
     "data": {
      "text/plain": [
       "Index(['rank_city_pr', 'rank_city_pr2', 'rank_city_pr3', 'house_area',\n",
       "       'number_of_rooms', 'terrace', 'terrace_area', 'fully_equipped_kitchen',\n",
       "       'open_fire', 'SB_as new', 'SB_just renovated', 'SB_good',\n",
       "       'SB_to be done up', 'SB_to renovate', 'SB_to restore'],\n",
       "      dtype='object')"
      ]
     },
     "execution_count": 147,
     "metadata": {},
     "output_type": "execute_result"
    }
   ],
   "source": [
    "X_train.columns"
   ]
  },
  {
   "cell_type": "code",
   "execution_count": 148,
   "metadata": {},
   "outputs": [
    {
     "data": {
      "text/html": [
       "<div>\n",
       "<style scoped>\n",
       "    .dataframe tbody tr th:only-of-type {\n",
       "        vertical-align: middle;\n",
       "    }\n",
       "\n",
       "    .dataframe tbody tr th {\n",
       "        vertical-align: top;\n",
       "    }\n",
       "\n",
       "    .dataframe thead th {\n",
       "        text-align: right;\n",
       "    }\n",
       "</style>\n",
       "<table border=\"1\" class=\"dataframe\">\n",
       "  <thead>\n",
       "    <tr style=\"text-align: right;\">\n",
       "      <th></th>\n",
       "      <th>count</th>\n",
       "      <th>mean</th>\n",
       "      <th>std</th>\n",
       "      <th>min</th>\n",
       "      <th>25%</th>\n",
       "      <th>50%</th>\n",
       "      <th>75%</th>\n",
       "      <th>max</th>\n",
       "    </tr>\n",
       "  </thead>\n",
       "  <tbody>\n",
       "    <tr>\n",
       "      <th>price</th>\n",
       "      <td>19849.0</td>\n",
       "      <td>288219.931483</td>\n",
       "      <td>150442.318666</td>\n",
       "      <td>2500.0</td>\n",
       "      <td>193000.0</td>\n",
       "      <td>249000.0</td>\n",
       "      <td>335000.0</td>\n",
       "      <td>950000.0</td>\n",
       "    </tr>\n",
       "    <tr>\n",
       "      <th>rank_city_pr</th>\n",
       "      <td>19849.0</td>\n",
       "      <td>324.819386</td>\n",
       "      <td>159.199740</td>\n",
       "      <td>1.0</td>\n",
       "      <td>193.0</td>\n",
       "      <td>329.0</td>\n",
       "      <td>473.0</td>\n",
       "      <td>580.0</td>\n",
       "    </tr>\n",
       "    <tr>\n",
       "      <th>house_area</th>\n",
       "      <td>19849.0</td>\n",
       "      <td>99.861252</td>\n",
       "      <td>44.352131</td>\n",
       "      <td>11.0</td>\n",
       "      <td>75.0</td>\n",
       "      <td>92.0</td>\n",
       "      <td>115.0</td>\n",
       "      <td>700.0</td>\n",
       "    </tr>\n",
       "    <tr>\n",
       "      <th>number_of_rooms</th>\n",
       "      <td>19849.0</td>\n",
       "      <td>2.013250</td>\n",
       "      <td>0.842299</td>\n",
       "      <td>0.0</td>\n",
       "      <td>2.0</td>\n",
       "      <td>2.0</td>\n",
       "      <td>2.0</td>\n",
       "      <td>13.0</td>\n",
       "    </tr>\n",
       "    <tr>\n",
       "      <th>terrace</th>\n",
       "      <td>19849.0</td>\n",
       "      <td>0.677566</td>\n",
       "      <td>0.467420</td>\n",
       "      <td>0.0</td>\n",
       "      <td>0.0</td>\n",
       "      <td>1.0</td>\n",
       "      <td>1.0</td>\n",
       "      <td>1.0</td>\n",
       "    </tr>\n",
       "    <tr>\n",
       "      <th>terrace_area</th>\n",
       "      <td>16420.0</td>\n",
       "      <td>10.358465</td>\n",
       "      <td>15.050800</td>\n",
       "      <td>0.0</td>\n",
       "      <td>0.0</td>\n",
       "      <td>6.0</td>\n",
       "      <td>14.0</td>\n",
       "      <td>115.0</td>\n",
       "    </tr>\n",
       "    <tr>\n",
       "      <th>fully_equipped_kitchen</th>\n",
       "      <td>19849.0</td>\n",
       "      <td>0.690463</td>\n",
       "      <td>0.462314</td>\n",
       "      <td>0.0</td>\n",
       "      <td>0.0</td>\n",
       "      <td>1.0</td>\n",
       "      <td>1.0</td>\n",
       "      <td>1.0</td>\n",
       "    </tr>\n",
       "    <tr>\n",
       "      <th>open_fire</th>\n",
       "      <td>19849.0</td>\n",
       "      <td>0.015416</td>\n",
       "      <td>0.123205</td>\n",
       "      <td>0.0</td>\n",
       "      <td>0.0</td>\n",
       "      <td>0.0</td>\n",
       "      <td>0.0</td>\n",
       "      <td>1.0</td>\n",
       "    </tr>\n",
       "    <tr>\n",
       "      <th>SB_as new</th>\n",
       "      <td>19849.0</td>\n",
       "      <td>0.393874</td>\n",
       "      <td>0.488620</td>\n",
       "      <td>0.0</td>\n",
       "      <td>0.0</td>\n",
       "      <td>0.0</td>\n",
       "      <td>1.0</td>\n",
       "      <td>1.0</td>\n",
       "    </tr>\n",
       "    <tr>\n",
       "      <th>SB_just renovated</th>\n",
       "      <td>19849.0</td>\n",
       "      <td>0.050632</td>\n",
       "      <td>0.219251</td>\n",
       "      <td>0.0</td>\n",
       "      <td>0.0</td>\n",
       "      <td>0.0</td>\n",
       "      <td>0.0</td>\n",
       "      <td>1.0</td>\n",
       "    </tr>\n",
       "    <tr>\n",
       "      <th>SB_good</th>\n",
       "      <td>19849.0</td>\n",
       "      <td>0.252053</td>\n",
       "      <td>0.434202</td>\n",
       "      <td>0.0</td>\n",
       "      <td>0.0</td>\n",
       "      <td>0.0</td>\n",
       "      <td>1.0</td>\n",
       "      <td>1.0</td>\n",
       "    </tr>\n",
       "    <tr>\n",
       "      <th>SB_to be done up</th>\n",
       "      <td>19849.0</td>\n",
       "      <td>0.037080</td>\n",
       "      <td>0.188963</td>\n",
       "      <td>0.0</td>\n",
       "      <td>0.0</td>\n",
       "      <td>0.0</td>\n",
       "      <td>0.0</td>\n",
       "      <td>1.0</td>\n",
       "    </tr>\n",
       "    <tr>\n",
       "      <th>SB_to renovate</th>\n",
       "      <td>19849.0</td>\n",
       "      <td>0.018036</td>\n",
       "      <td>0.133086</td>\n",
       "      <td>0.0</td>\n",
       "      <td>0.0</td>\n",
       "      <td>0.0</td>\n",
       "      <td>0.0</td>\n",
       "      <td>1.0</td>\n",
       "    </tr>\n",
       "    <tr>\n",
       "      <th>SB_to restore</th>\n",
       "      <td>19849.0</td>\n",
       "      <td>0.000806</td>\n",
       "      <td>0.028381</td>\n",
       "      <td>0.0</td>\n",
       "      <td>0.0</td>\n",
       "      <td>0.0</td>\n",
       "      <td>0.0</td>\n",
       "      <td>1.0</td>\n",
       "    </tr>\n",
       "  </tbody>\n",
       "</table>\n",
       "</div>"
      ],
      "text/plain": [
       "                          count           mean            std     min  \\\n",
       "price                   19849.0  288219.931483  150442.318666  2500.0   \n",
       "rank_city_pr            19849.0     324.819386     159.199740     1.0   \n",
       "house_area              19849.0      99.861252      44.352131    11.0   \n",
       "number_of_rooms         19849.0       2.013250       0.842299     0.0   \n",
       "terrace                 19849.0       0.677566       0.467420     0.0   \n",
       "terrace_area            16420.0      10.358465      15.050800     0.0   \n",
       "fully_equipped_kitchen  19849.0       0.690463       0.462314     0.0   \n",
       "open_fire               19849.0       0.015416       0.123205     0.0   \n",
       "SB_as new               19849.0       0.393874       0.488620     0.0   \n",
       "SB_just renovated       19849.0       0.050632       0.219251     0.0   \n",
       "SB_good                 19849.0       0.252053       0.434202     0.0   \n",
       "SB_to be done up        19849.0       0.037080       0.188963     0.0   \n",
       "SB_to renovate          19849.0       0.018036       0.133086     0.0   \n",
       "SB_to restore           19849.0       0.000806       0.028381     0.0   \n",
       "\n",
       "                             25%       50%       75%       max  \n",
       "price                   193000.0  249000.0  335000.0  950000.0  \n",
       "rank_city_pr               193.0     329.0     473.0     580.0  \n",
       "house_area                  75.0      92.0     115.0     700.0  \n",
       "number_of_rooms              2.0       2.0       2.0      13.0  \n",
       "terrace                      0.0       1.0       1.0       1.0  \n",
       "terrace_area                 0.0       6.0      14.0     115.0  \n",
       "fully_equipped_kitchen       0.0       1.0       1.0       1.0  \n",
       "open_fire                    0.0       0.0       0.0       1.0  \n",
       "SB_as new                    0.0       0.0       1.0       1.0  \n",
       "SB_just renovated            0.0       0.0       0.0       1.0  \n",
       "SB_good                      0.0       0.0       1.0       1.0  \n",
       "SB_to be done up             0.0       0.0       0.0       1.0  \n",
       "SB_to renovate               0.0       0.0       0.0       1.0  \n",
       "SB_to restore                0.0       0.0       0.0       1.0  "
      ]
     },
     "execution_count": 148,
     "metadata": {},
     "output_type": "execute_result"
    }
   ],
   "source": [
    "Aparts.describe().T"
   ]
  },
  {
   "cell_type": "code",
   "execution_count": 205,
   "metadata": {},
   "outputs": [],
   "source": [
    "def make_apart_R (cp, house_area=100, numb_rooms=2, terrace=1, terrace_area=10, equip_kitch=1, fire=0, Sas_new=1, \n",
    "                  Sjust_renov=0, Sgood=0, Sto_refresh=0, Sto_renov=0, Sto_restor=0):\n",
    "    with open('CP_to_city.json', 'r') as fcp:\n",
    "        cp_to_city = json.load(fcp)\n",
    "        city = cp_to_city['Commune principale'][str(cp)]\n",
    "    with open('City_to_rank.json', 'r') as fci:\n",
    "        city_to_rank = json.load(fci)\n",
    "        rank = city_to_rank[str(city)]\n",
    "    features = np.array([[rank, rank**2, rank**3,house_area, numb_rooms, terrace, terrace_area, equip_kitch, fire, \n",
    "                          Sas_new, Sjust_renov, Sgood, Sto_refresh, Sto_renov, Sto_restor]])\n",
    "    Apart_model = pickle.load(open('Apart_regression', 'rb'))\n",
    "    return Apart_model.predict(features)[0]"
   ]
  },
  {
   "cell_type": "code",
   "execution_count": 206,
   "metadata": {},
   "outputs": [
    {
     "data": {
      "text/plain": [
       "302349.75025980524"
      ]
     },
     "execution_count": 206,
     "metadata": {},
     "output_type": "execute_result"
    }
   ],
   "source": [
    "make_apart_R (7850, 99, 2, 0, 0, 1, 0, 1,0,0,0,0,0)"
   ]
  },
  {
   "cell_type": "markdown",
   "metadata": {},
   "source": [
    "### House and apartment variables"
   ]
  },
  {
   "cell_type": "code",
   "execution_count": 151,
   "metadata": {},
   "outputs": [],
   "source": [
    "# apartment_variables = (cp, house_area=100, numb_rooms=2, terrace=1, terrace_area=10, equip_kitch=1, fire=0, Sas_new=1, \n",
    "#                   Sjust_renov=0, Sgood=0, Sto_refresh=0, Sto_renov=0, Sto_restor=0)\n",
    "# house_variables = (cp, house_area=196, surf_land=753, numb_facades=3, numb_rooms=3, garden=1, \n",
    "#                   terrace=0, terrace_area=0, equip_kitch=1, fire=0, pool=0, Sas_new=0, Sjust_renov=0, \n",
    "#                   Sgood=1, Sto_refresh=0, Sto_renov=0, Sto_restor=0)"
   ]
  },
  {
   "cell_type": "code",
   "execution_count": 194,
   "metadata": {},
   "outputs": [],
   "source": [
    "variables = {\"building\":\"house\", \"Postalcode\":7850, \"house_area\":196, \"surf_land\":125,\"numb_facades\":4, \"numb_rooms\":3, \"garden\":1, \n",
    " \"terrace\":0, \"terrace_area\":10, \"equip_kitch\":1, \"fire\":1, \"pool\":1, \"Sas_new\":1, \"Sjust_renov\":0,\n",
    " \"Sgood\":0, \"Sto_refresh\":0, \"Sto_renov\":0, \"Sto_restor\":0}"
   ]
  },
  {
   "cell_type": "code",
   "execution_count": 195,
   "metadata": {},
   "outputs": [
    {
     "data": {
      "text/plain": [
       "True"
      ]
     },
     "execution_count": 195,
     "metadata": {},
     "output_type": "execute_result"
    }
   ],
   "source": [
    "variables[\"building\"] == 'house'"
   ]
  },
  {
   "cell_type": "code",
   "execution_count": 196,
   "metadata": {},
   "outputs": [],
   "source": [
    "del variables[\"building\"]"
   ]
  },
  {
   "cell_type": "code",
   "execution_count": null,
   "metadata": {},
   "outputs": [],
   "source": []
  },
  {
   "cell_type": "code",
   "execution_count": 197,
   "metadata": {},
   "outputs": [],
   "source": [
    "newlist = list(variables.values())"
   ]
  },
  {
   "cell_type": "code",
   "execution_count": 198,
   "metadata": {},
   "outputs": [
    {
     "data": {
      "text/plain": [
       "(1, 15)"
      ]
     },
     "execution_count": 198,
     "metadata": {},
     "output_type": "execute_result"
    }
   ],
   "source": [
    "X_train.iloc[66,:].values.reshape(1,X_train.shape[1]).shape"
   ]
  },
  {
   "cell_type": "code",
   "execution_count": 199,
   "metadata": {},
   "outputs": [
    {
     "data": {
      "text/plain": [
       "[7850, 196, 125, 4, 3, 1, 0, 10, 1, 1, 1, 1, 0]"
      ]
     },
     "execution_count": 199,
     "metadata": {},
     "output_type": "execute_result"
    }
   ],
   "source": [
    "newlist[0:13]\n"
   ]
  },
  {
   "cell_type": "code",
   "execution_count": 78,
   "metadata": {},
   "outputs": [],
   "source": [
    "for n, i in enumerate(newlist):\n",
    "    if i == True:\n",
    "        newlist[n] = 1\n",
    "    elif i == False: \n",
    "        newlist[n] = 0\n"
   ]
  },
  {
   "cell_type": "code",
   "execution_count": 94,
   "metadata": {},
   "outputs": [
    {
     "data": {
      "text/plain": [
       "[7830, 196, 125, 4, 3, 1, 0, 10, 1, 1, 1, 1, 0]"
      ]
     },
     "execution_count": 94,
     "metadata": {},
     "output_type": "execute_result"
    }
   ],
   "source": [
    "newlist[0:13]"
   ]
  },
  {
   "cell_type": "code",
   "execution_count": 95,
   "metadata": {},
   "outputs": [],
   "source": [
    "arr = np.array([newlist[0:13]])\n"
   ]
  },
  {
   "cell_type": "code",
   "execution_count": 96,
   "metadata": {},
   "outputs": [
    {
     "data": {
      "text/plain": [
       "array([[7830,  196,  125,    4,    3,    1,    0,   10,    1,    1,    1,\n",
       "           1,    0]])"
      ]
     },
     "execution_count": 96,
     "metadata": {},
     "output_type": "execute_result"
    }
   ],
   "source": [
    "arr"
   ]
  },
  {
   "cell_type": "code",
   "execution_count": 98,
   "metadata": {},
   "outputs": [
    {
     "data": {
      "text/plain": [
       "(1, 13)"
      ]
     },
     "execution_count": 98,
     "metadata": {},
     "output_type": "execute_result"
    }
   ],
   "source": [
    "arr.shape"
   ]
  },
  {
   "cell_type": "code",
   "execution_count": null,
   "metadata": {},
   "outputs": [],
   "source": [
    "7850, 99, 2, 0, 0, 1, 0, 1,0,0,0,0,0"
   ]
  },
  {
   "cell_type": "code",
   "execution_count": 70,
   "metadata": {},
   "outputs": [
    {
     "ename": "TypeError",
     "evalue": "list indices must be integers or slices, not str",
     "output_type": "error",
     "traceback": [
      "\u001b[1;31m---------------------------------------------------------------------------\u001b[0m",
      "\u001b[1;31mTypeError\u001b[0m                                 Traceback (most recent call last)",
      "\u001b[1;32m<ipython-input-70-880eca36fd21>\u001b[0m in \u001b[0;36m<module>\u001b[1;34m\u001b[0m\n\u001b[1;32m----> 1\u001b[1;33m \u001b[0mnewlist\u001b[0m \u001b[1;33m=\u001b[0m \u001b[0mlist\u001b[0m\u001b[1;33m(\u001b[0m\u001b[0mvariables\u001b[0m\u001b[1;33m.\u001b[0m\u001b[0mvalues\u001b[0m\u001b[1;33m(\u001b[0m\u001b[1;33m)\u001b[0m\u001b[1;33m)\u001b[0m\u001b[1;33m[\u001b[0m\u001b[1;34m\"True\"\u001b[0m\u001b[1;33m]\u001b[0m\u001b[1;33m\u001b[0m\u001b[1;33m\u001b[0m\u001b[0m\n\u001b[0m",
      "\u001b[1;31mTypeError\u001b[0m: list indices must be integers or slices, not str"
     ]
    }
   ],
   "source": [
    "list(variables.values())"
   ]
  },
  {
   "cell_type": "code",
   "execution_count": 85,
   "metadata": {},
   "outputs": [
    {
     "data": {
      "text/plain": [
       "'[7830, 196, 125, 4, 3, 1, 0, 10, 1, 1, 1, 1, 0, 0, 0, 0, 0]'"
      ]
     },
     "execution_count": 85,
     "metadata": {},
     "output_type": "execute_result"
    }
   ],
   "source": [
    "newlist.as"
   ]
  },
  {
   "cell_type": "code",
   "execution_count": 84,
   "metadata": {
    "scrolled": true
   },
   "outputs": [
    {
     "data": {
      "text/plain": [
       "7830"
      ]
     },
     "execution_count": 84,
     "metadata": {},
     "output_type": "execute_result"
    }
   ],
   "source": [
    "newlist[0]"
   ]
  },
  {
   "cell_type": "code",
   "execution_count": 202,
   "metadata": {},
   "outputs": [
    {
     "data": {
      "text/plain": [
       "(array([302349.75025981]), 455.0)"
      ]
     },
     "execution_count": 202,
     "metadata": {},
     "output_type": "execute_result"
    }
   ],
   "source": [
    "make_apart_R(7850, 99, 2, 0, 0, 1, 0, 1,0,0,0,0,0)"
   ]
  },
  {
   "cell_type": "code",
   "execution_count": 187,
   "metadata": {},
   "outputs": [
    {
     "name": "stdout",
     "output_type": "stream",
     "text": [
      "(7850, 196, 125, 4, 3, 1, 0, 10, 1, 1, 1, 1, 0)\n",
      "{}\n"
     ]
    }
   ],
   "source": [
    "make_apart_R(newlist[0], newlist[1], newlist[2], newlist[3], newlist[4], newlist[5], newlist[6], \n",
    "             newlist[7], newlist[8], newlist[9], newlist[10], newlist[11], newlist[12])"
   ]
  },
  {
   "cell_type": "code",
   "execution_count": 180,
   "metadata": {},
   "outputs": [
    {
     "data": {
      "text/plain": [
       "list"
      ]
     },
     "execution_count": 180,
     "metadata": {},
     "output_type": "execute_result"
    }
   ],
   "source": [
    "type(newlist)"
   ]
  },
  {
   "cell_type": "code",
   "execution_count": 188,
   "metadata": {},
   "outputs": [],
   "source": [
    "def make_apart_R(*args):\n",
    "  print(args)\n",
    "  "
   ]
  },
  {
   "cell_type": "code",
   "execution_count": 189,
   "metadata": {},
   "outputs": [
    {
     "name": "stdout",
     "output_type": "stream",
     "text": [
      "([7850, 196, 125, 4, 3, 1, 0, 10, 1, 1, 1, 1, 0],)\n"
     ]
    }
   ],
   "source": [
    "make_apart_R(newlist[0:13])"
   ]
  },
  {
   "cell_type": "code",
   "execution_count": 193,
   "metadata": {},
   "outputs": [
    {
     "ename": "SyntaxError",
     "evalue": "unexpected EOF while parsing (<ipython-input-193-bf2d7a031c3e>, line 1)",
     "output_type": "error",
     "traceback": [
      "\u001b[1;36m  File \u001b[1;32m\"<ipython-input-193-bf2d7a031c3e>\"\u001b[1;36m, line \u001b[1;32m1\u001b[0m\n\u001b[1;33m    @newlist\u001b[0m\n\u001b[1;37m            ^\u001b[0m\n\u001b[1;31mSyntaxError\u001b[0m\u001b[1;31m:\u001b[0m unexpected EOF while parsing\n"
     ]
    }
   ],
   "source": []
  },
  {
   "cell_type": "code",
   "execution_count": null,
   "metadata": {},
   "outputs": [],
   "source": []
  }
 ],
 "metadata": {
  "kernelspec": {
   "display_name": "Python 3",
   "language": "python",
   "name": "python3"
  },
  "language_info": {
   "codemirror_mode": {
    "name": "ipython",
    "version": 3
   },
   "file_extension": ".py",
   "mimetype": "text/x-python",
   "name": "python",
   "nbconvert_exporter": "python",
   "pygments_lexer": "ipython3",
   "version": "3.8.3"
  }
 },
 "nbformat": 4,
 "nbformat_minor": 4
}

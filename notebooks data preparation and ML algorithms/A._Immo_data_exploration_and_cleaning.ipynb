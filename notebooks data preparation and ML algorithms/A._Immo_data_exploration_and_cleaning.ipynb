{
 "cells": [
  {
   "cell_type": "markdown",
   "metadata": {},
   "source": [
    "# A. Data exploration and cleaning  "
   ]
  },
  {
   "cell_type": "code",
   "execution_count": 1,
   "metadata": {},
   "outputs": [],
   "source": [
    "import pandas as pd\n",
    "import numpy as np\n",
    "import matplotlib.pyplot as plt\n",
    "%matplotlib inline\n",
    "plt.style.use('seaborn-whitegrid')"
   ]
  },
  {
   "cell_type": "code",
   "execution_count": 2,
   "metadata": {},
   "outputs": [],
   "source": [
    "# this file is only read here and is saved to a new filename 'filtered_dataset_house_appartment.csv' at the end of this page\n",
    "immo_data = pd.read_csv('Final_dataset_house_apartment.csv', sep=',', na_values=('None', 'no price'), index_col='Unnamed: 0')"
   ]
  },
  {
   "cell_type": "code",
   "execution_count": 3,
   "metadata": {},
   "outputs": [
    {
     "data": {
      "text/html": [
       "<div>\n",
       "<style scoped>\n",
       "    .dataframe tbody tr th:only-of-type {\n",
       "        vertical-align: middle;\n",
       "    }\n",
       "\n",
       "    .dataframe tbody tr th {\n",
       "        vertical-align: top;\n",
       "    }\n",
       "\n",
       "    .dataframe thead th {\n",
       "        text-align: right;\n",
       "    }\n",
       "</style>\n",
       "<table border=\"1\" class=\"dataframe\">\n",
       "  <thead>\n",
       "    <tr style=\"text-align: right;\">\n",
       "      <th></th>\n",
       "      <th>locality</th>\n",
       "      <th>type_of_property</th>\n",
       "      <th>subtype_of_property</th>\n",
       "      <th>price</th>\n",
       "      <th>type_of_sale</th>\n",
       "      <th>number_of_rooms</th>\n",
       "      <th>house_area</th>\n",
       "      <th>fully_equipped_kitchen</th>\n",
       "      <th>furnished</th>\n",
       "      <th>open_fire</th>\n",
       "      <th>terrace</th>\n",
       "      <th>terrace_area</th>\n",
       "      <th>garden</th>\n",
       "      <th>garden_area</th>\n",
       "      <th>surface_of_the_land</th>\n",
       "      <th>surface_of_the_plot_of_land</th>\n",
       "      <th>number_of_facades</th>\n",
       "      <th>swimming_pool</th>\n",
       "      <th>state_of_the_building</th>\n",
       "      <th>construction_year</th>\n",
       "    </tr>\n",
       "  </thead>\n",
       "  <tbody>\n",
       "    <tr>\n",
       "      <th>0</th>\n",
       "      <td>1050</td>\n",
       "      <td>house</td>\n",
       "      <td>house</td>\n",
       "      <td>340000.0</td>\n",
       "      <td>for sale</td>\n",
       "      <td>6.0</td>\n",
       "      <td>203.0</td>\n",
       "      <td>1</td>\n",
       "      <td>NaN</td>\n",
       "      <td>0</td>\n",
       "      <td>1</td>\n",
       "      <td>NaN</td>\n",
       "      <td>0</td>\n",
       "      <td>NaN</td>\n",
       "      <td>95.0</td>\n",
       "      <td>NaN</td>\n",
       "      <td>2.0</td>\n",
       "      <td>0</td>\n",
       "      <td>to be done up</td>\n",
       "      <td>1901.0</td>\n",
       "    </tr>\n",
       "    <tr>\n",
       "      <th>1</th>\n",
       "      <td>1880</td>\n",
       "      <td>house</td>\n",
       "      <td>villa</td>\n",
       "      <td>525000.0</td>\n",
       "      <td>for sale</td>\n",
       "      <td>6.0</td>\n",
       "      <td>250.0</td>\n",
       "      <td>1</td>\n",
       "      <td>NaN</td>\n",
       "      <td>0</td>\n",
       "      <td>1</td>\n",
       "      <td>40.0</td>\n",
       "      <td>1</td>\n",
       "      <td>430.0</td>\n",
       "      <td>826.0</td>\n",
       "      <td>NaN</td>\n",
       "      <td>4.0</td>\n",
       "      <td>0</td>\n",
       "      <td>as new</td>\n",
       "      <td>1992.0</td>\n",
       "    </tr>\n",
       "    <tr>\n",
       "      <th>2</th>\n",
       "      <td>4900</td>\n",
       "      <td>house</td>\n",
       "      <td>exceptional property</td>\n",
       "      <td>550000.0</td>\n",
       "      <td>for sale</td>\n",
       "      <td>11.0</td>\n",
       "      <td>475.0</td>\n",
       "      <td>1</td>\n",
       "      <td>NaN</td>\n",
       "      <td>0</td>\n",
       "      <td>1</td>\n",
       "      <td>NaN</td>\n",
       "      <td>1</td>\n",
       "      <td>1400.0</td>\n",
       "      <td>1543.0</td>\n",
       "      <td>NaN</td>\n",
       "      <td>4.0</td>\n",
       "      <td>0</td>\n",
       "      <td>good</td>\n",
       "      <td>1853.0</td>\n",
       "    </tr>\n",
       "    <tr>\n",
       "      <th>3</th>\n",
       "      <td>7912</td>\n",
       "      <td>house</td>\n",
       "      <td>villa</td>\n",
       "      <td>550000.0</td>\n",
       "      <td>for sale</td>\n",
       "      <td>4.0</td>\n",
       "      <td>325.0</td>\n",
       "      <td>1</td>\n",
       "      <td>NaN</td>\n",
       "      <td>0</td>\n",
       "      <td>1</td>\n",
       "      <td>125.0</td>\n",
       "      <td>1</td>\n",
       "      <td>2333.0</td>\n",
       "      <td>3570.0</td>\n",
       "      <td>NaN</td>\n",
       "      <td>4.0</td>\n",
       "      <td>0</td>\n",
       "      <td>good</td>\n",
       "      <td>1918.0</td>\n",
       "    </tr>\n",
       "    <tr>\n",
       "      <th>4</th>\n",
       "      <td>6032</td>\n",
       "      <td>house</td>\n",
       "      <td>house</td>\n",
       "      <td>550000.0</td>\n",
       "      <td>for sale</td>\n",
       "      <td>5.0</td>\n",
       "      <td>400.0</td>\n",
       "      <td>1</td>\n",
       "      <td>NaN</td>\n",
       "      <td>0</td>\n",
       "      <td>1</td>\n",
       "      <td>80.0</td>\n",
       "      <td>1</td>\n",
       "      <td>500.0</td>\n",
       "      <td>616.0</td>\n",
       "      <td>NaN</td>\n",
       "      <td>3.0</td>\n",
       "      <td>0</td>\n",
       "      <td>as new</td>\n",
       "      <td>1977.0</td>\n",
       "    </tr>\n",
       "    <tr>\n",
       "      <th>...</th>\n",
       "      <td>...</td>\n",
       "      <td>...</td>\n",
       "      <td>...</td>\n",
       "      <td>...</td>\n",
       "      <td>...</td>\n",
       "      <td>...</td>\n",
       "      <td>...</td>\n",
       "      <td>...</td>\n",
       "      <td>...</td>\n",
       "      <td>...</td>\n",
       "      <td>...</td>\n",
       "      <td>...</td>\n",
       "      <td>...</td>\n",
       "      <td>...</td>\n",
       "      <td>...</td>\n",
       "      <td>...</td>\n",
       "      <td>...</td>\n",
       "      <td>...</td>\n",
       "      <td>...</td>\n",
       "      <td>...</td>\n",
       "    </tr>\n",
       "    <tr>\n",
       "      <th>52072</th>\n",
       "      <td>3120</td>\n",
       "      <td>house</td>\n",
       "      <td>house</td>\n",
       "      <td>455496.0</td>\n",
       "      <td>for sale</td>\n",
       "      <td>3.0</td>\n",
       "      <td>NaN</td>\n",
       "      <td>0</td>\n",
       "      <td>NaN</td>\n",
       "      <td>0</td>\n",
       "      <td>0</td>\n",
       "      <td>NaN</td>\n",
       "      <td>0</td>\n",
       "      <td>NaN</td>\n",
       "      <td>695.0</td>\n",
       "      <td>NaN</td>\n",
       "      <td>NaN</td>\n",
       "      <td>0</td>\n",
       "      <td>NaN</td>\n",
       "      <td>NaN</td>\n",
       "    </tr>\n",
       "    <tr>\n",
       "      <th>52073</th>\n",
       "      <td>1800</td>\n",
       "      <td>house</td>\n",
       "      <td>house</td>\n",
       "      <td>451650.0</td>\n",
       "      <td>for sale</td>\n",
       "      <td>3.0</td>\n",
       "      <td>NaN</td>\n",
       "      <td>0</td>\n",
       "      <td>NaN</td>\n",
       "      <td>0</td>\n",
       "      <td>0</td>\n",
       "      <td>NaN</td>\n",
       "      <td>0</td>\n",
       "      <td>NaN</td>\n",
       "      <td>550.0</td>\n",
       "      <td>NaN</td>\n",
       "      <td>3.0</td>\n",
       "      <td>0</td>\n",
       "      <td>NaN</td>\n",
       "      <td>NaN</td>\n",
       "    </tr>\n",
       "    <tr>\n",
       "      <th>52074</th>\n",
       "      <td>2018</td>\n",
       "      <td>house</td>\n",
       "      <td>house</td>\n",
       "      <td>488000.0</td>\n",
       "      <td>for sale</td>\n",
       "      <td>3.0</td>\n",
       "      <td>145.0</td>\n",
       "      <td>0</td>\n",
       "      <td>NaN</td>\n",
       "      <td>0</td>\n",
       "      <td>0</td>\n",
       "      <td>NaN</td>\n",
       "      <td>1</td>\n",
       "      <td>48.0</td>\n",
       "      <td>0.0</td>\n",
       "      <td>NaN</td>\n",
       "      <td>3.0</td>\n",
       "      <td>0</td>\n",
       "      <td>NaN</td>\n",
       "      <td>NaN</td>\n",
       "    </tr>\n",
       "    <tr>\n",
       "      <th>52075</th>\n",
       "      <td>9140</td>\n",
       "      <td>house</td>\n",
       "      <td>house</td>\n",
       "      <td>455000.0</td>\n",
       "      <td>for sale</td>\n",
       "      <td>3.0</td>\n",
       "      <td>NaN</td>\n",
       "      <td>0</td>\n",
       "      <td>NaN</td>\n",
       "      <td>0</td>\n",
       "      <td>0</td>\n",
       "      <td>NaN</td>\n",
       "      <td>0</td>\n",
       "      <td>NaN</td>\n",
       "      <td>1202.0</td>\n",
       "      <td>NaN</td>\n",
       "      <td>4.0</td>\n",
       "      <td>0</td>\n",
       "      <td>NaN</td>\n",
       "      <td>NaN</td>\n",
       "    </tr>\n",
       "    <tr>\n",
       "      <th>52076</th>\n",
       "      <td>9620</td>\n",
       "      <td>house</td>\n",
       "      <td>house</td>\n",
       "      <td>469000.0</td>\n",
       "      <td>for sale</td>\n",
       "      <td>3.0</td>\n",
       "      <td>NaN</td>\n",
       "      <td>0</td>\n",
       "      <td>NaN</td>\n",
       "      <td>0</td>\n",
       "      <td>0</td>\n",
       "      <td>NaN</td>\n",
       "      <td>0</td>\n",
       "      <td>NaN</td>\n",
       "      <td>1500.0</td>\n",
       "      <td>NaN</td>\n",
       "      <td>4.0</td>\n",
       "      <td>0</td>\n",
       "      <td>NaN</td>\n",
       "      <td>NaN</td>\n",
       "    </tr>\n",
       "  </tbody>\n",
       "</table>\n",
       "<p>50842 rows × 20 columns</p>\n",
       "</div>"
      ],
      "text/plain": [
       "       locality type_of_property   subtype_of_property     price type_of_sale  \\\n",
       "0          1050            house                 house  340000.0     for sale   \n",
       "1          1880            house                 villa  525000.0     for sale   \n",
       "2          4900            house  exceptional property  550000.0     for sale   \n",
       "3          7912            house                 villa  550000.0     for sale   \n",
       "4          6032            house                 house  550000.0     for sale   \n",
       "...         ...              ...                   ...       ...          ...   \n",
       "52072      3120            house                 house  455496.0     for sale   \n",
       "52073      1800            house                 house  451650.0     for sale   \n",
       "52074      2018            house                 house  488000.0     for sale   \n",
       "52075      9140            house                 house  455000.0     for sale   \n",
       "52076      9620            house                 house  469000.0     for sale   \n",
       "\n",
       "       number_of_rooms  house_area  fully_equipped_kitchen  furnished  \\\n",
       "0                  6.0       203.0                       1        NaN   \n",
       "1                  6.0       250.0                       1        NaN   \n",
       "2                 11.0       475.0                       1        NaN   \n",
       "3                  4.0       325.0                       1        NaN   \n",
       "4                  5.0       400.0                       1        NaN   \n",
       "...                ...         ...                     ...        ...   \n",
       "52072              3.0         NaN                       0        NaN   \n",
       "52073              3.0         NaN                       0        NaN   \n",
       "52074              3.0       145.0                       0        NaN   \n",
       "52075              3.0         NaN                       0        NaN   \n",
       "52076              3.0         NaN                       0        NaN   \n",
       "\n",
       "       open_fire  terrace  terrace_area  garden  garden_area  \\\n",
       "0              0        1           NaN       0          NaN   \n",
       "1              0        1          40.0       1        430.0   \n",
       "2              0        1           NaN       1       1400.0   \n",
       "3              0        1         125.0       1       2333.0   \n",
       "4              0        1          80.0       1        500.0   \n",
       "...          ...      ...           ...     ...          ...   \n",
       "52072          0        0           NaN       0          NaN   \n",
       "52073          0        0           NaN       0          NaN   \n",
       "52074          0        0           NaN       1         48.0   \n",
       "52075          0        0           NaN       0          NaN   \n",
       "52076          0        0           NaN       0          NaN   \n",
       "\n",
       "       surface_of_the_land  surface_of_the_plot_of_land  number_of_facades  \\\n",
       "0                     95.0                          NaN                2.0   \n",
       "1                    826.0                          NaN                4.0   \n",
       "2                   1543.0                          NaN                4.0   \n",
       "3                   3570.0                          NaN                4.0   \n",
       "4                    616.0                          NaN                3.0   \n",
       "...                    ...                          ...                ...   \n",
       "52072                695.0                          NaN                NaN   \n",
       "52073                550.0                          NaN                3.0   \n",
       "52074                  0.0                          NaN                3.0   \n",
       "52075               1202.0                          NaN                4.0   \n",
       "52076               1500.0                          NaN                4.0   \n",
       "\n",
       "       swimming_pool state_of_the_building  construction_year  \n",
       "0                  0         to be done up             1901.0  \n",
       "1                  0                as new             1992.0  \n",
       "2                  0                  good             1853.0  \n",
       "3                  0                  good             1918.0  \n",
       "4                  0                as new             1977.0  \n",
       "...              ...                   ...                ...  \n",
       "52072              0                   NaN                NaN  \n",
       "52073              0                   NaN                NaN  \n",
       "52074              0                   NaN                NaN  \n",
       "52075              0                   NaN                NaN  \n",
       "52076              0                   NaN                NaN  \n",
       "\n",
       "[50842 rows x 20 columns]"
      ]
     },
     "execution_count": 3,
     "metadata": {},
     "output_type": "execute_result"
    }
   ],
   "source": [
    "immo_data"
   ]
  },
  {
   "cell_type": "code",
   "execution_count": 4,
   "metadata": {},
   "outputs": [
    {
     "name": "stdout",
     "output_type": "stream",
     "text": [
      "<class 'pandas.core.frame.DataFrame'>\n",
      "Int64Index: 50842 entries, 0 to 52076\n",
      "Data columns (total 20 columns):\n",
      " #   Column                       Non-Null Count  Dtype  \n",
      "---  ------                       --------------  -----  \n",
      " 0   locality                     50842 non-null  int64  \n",
      " 1   type_of_property             50842 non-null  object \n",
      " 2   subtype_of_property          50842 non-null  object \n",
      " 3   price                        50772 non-null  float64\n",
      " 4   type_of_sale                 50842 non-null  object \n",
      " 5   number_of_rooms              50842 non-null  float64\n",
      " 6   house_area                   42412 non-null  float64\n",
      " 7   fully_equipped_kitchen       50842 non-null  int64  \n",
      " 8   furnished                    0 non-null      float64\n",
      " 9   open_fire                    50842 non-null  int64  \n",
      " 10  terrace                      50842 non-null  int64  \n",
      " 11  terrace_area                 17096 non-null  float64\n",
      " 12  garden                       50842 non-null  int64  \n",
      " 13  garden_area                  8350 non-null   float64\n",
      " 14  surface_of_the_land          29002 non-null  float64\n",
      " 15  surface_of_the_plot_of_land  0 non-null      float64\n",
      " 16  number_of_facades            37736 non-null  float64\n",
      " 17  swimming_pool                50842 non-null  int64  \n",
      " 18  state_of_the_building        37670 non-null  object \n",
      " 19  construction_year            29883 non-null  float64\n",
      "dtypes: float64(10), int64(6), object(4)\n",
      "memory usage: 8.1+ MB\n"
     ]
    }
   ],
   "source": [
    "immo_data.info()"
   ]
  },
  {
   "cell_type": "code",
   "execution_count": 5,
   "metadata": {},
   "outputs": [
    {
     "data": {
      "text/html": [
       "<div>\n",
       "<style scoped>\n",
       "    .dataframe tbody tr th:only-of-type {\n",
       "        vertical-align: middle;\n",
       "    }\n",
       "\n",
       "    .dataframe tbody tr th {\n",
       "        vertical-align: top;\n",
       "    }\n",
       "\n",
       "    .dataframe thead th {\n",
       "        text-align: right;\n",
       "    }\n",
       "</style>\n",
       "<table border=\"1\" class=\"dataframe\">\n",
       "  <thead>\n",
       "    <tr style=\"text-align: right;\">\n",
       "      <th></th>\n",
       "      <th>locality</th>\n",
       "      <th>type_of_property</th>\n",
       "      <th>subtype_of_property</th>\n",
       "      <th>price</th>\n",
       "      <th>type_of_sale</th>\n",
       "      <th>number_of_rooms</th>\n",
       "      <th>house_area</th>\n",
       "      <th>fully_equipped_kitchen</th>\n",
       "      <th>furnished</th>\n",
       "      <th>open_fire</th>\n",
       "      <th>terrace</th>\n",
       "      <th>terrace_area</th>\n",
       "      <th>garden</th>\n",
       "      <th>garden_area</th>\n",
       "      <th>surface_of_the_land</th>\n",
       "      <th>surface_of_the_plot_of_land</th>\n",
       "      <th>number_of_facades</th>\n",
       "      <th>swimming_pool</th>\n",
       "      <th>state_of_the_building</th>\n",
       "      <th>construction_year</th>\n",
       "    </tr>\n",
       "  </thead>\n",
       "  <tbody>\n",
       "    <tr>\n",
       "      <th>count</th>\n",
       "      <td>50842.000000</td>\n",
       "      <td>50842</td>\n",
       "      <td>50842</td>\n",
       "      <td>50772.000000</td>\n",
       "      <td>50842</td>\n",
       "      <td>50842.000000</td>\n",
       "      <td>42412.000000</td>\n",
       "      <td>50842.000000</td>\n",
       "      <td>0.0</td>\n",
       "      <td>50842.000000</td>\n",
       "      <td>50842.000000</td>\n",
       "      <td>17096.000000</td>\n",
       "      <td>50842.000000</td>\n",
       "      <td>8350.000000</td>\n",
       "      <td>29002.00000</td>\n",
       "      <td>0.0</td>\n",
       "      <td>37736.000000</td>\n",
       "      <td>50842.000000</td>\n",
       "      <td>37670</td>\n",
       "      <td>29883.000000</td>\n",
       "    </tr>\n",
       "    <tr>\n",
       "      <th>unique</th>\n",
       "      <td>NaN</td>\n",
       "      <td>2</td>\n",
       "      <td>24</td>\n",
       "      <td>NaN</td>\n",
       "      <td>1</td>\n",
       "      <td>NaN</td>\n",
       "      <td>NaN</td>\n",
       "      <td>NaN</td>\n",
       "      <td>NaN</td>\n",
       "      <td>NaN</td>\n",
       "      <td>NaN</td>\n",
       "      <td>NaN</td>\n",
       "      <td>NaN</td>\n",
       "      <td>NaN</td>\n",
       "      <td>NaN</td>\n",
       "      <td>NaN</td>\n",
       "      <td>NaN</td>\n",
       "      <td>NaN</td>\n",
       "      <td>6</td>\n",
       "      <td>NaN</td>\n",
       "    </tr>\n",
       "    <tr>\n",
       "      <th>top</th>\n",
       "      <td>NaN</td>\n",
       "      <td>house</td>\n",
       "      <td>house</td>\n",
       "      <td>NaN</td>\n",
       "      <td>for sale</td>\n",
       "      <td>NaN</td>\n",
       "      <td>NaN</td>\n",
       "      <td>NaN</td>\n",
       "      <td>NaN</td>\n",
       "      <td>NaN</td>\n",
       "      <td>NaN</td>\n",
       "      <td>NaN</td>\n",
       "      <td>NaN</td>\n",
       "      <td>NaN</td>\n",
       "      <td>NaN</td>\n",
       "      <td>NaN</td>\n",
       "      <td>NaN</td>\n",
       "      <td>NaN</td>\n",
       "      <td>as new</td>\n",
       "      <td>NaN</td>\n",
       "    </tr>\n",
       "    <tr>\n",
       "      <th>freq</th>\n",
       "      <td>NaN</td>\n",
       "      <td>29002</td>\n",
       "      <td>21810</td>\n",
       "      <td>NaN</td>\n",
       "      <td>50842</td>\n",
       "      <td>NaN</td>\n",
       "      <td>NaN</td>\n",
       "      <td>NaN</td>\n",
       "      <td>NaN</td>\n",
       "      <td>NaN</td>\n",
       "      <td>NaN</td>\n",
       "      <td>NaN</td>\n",
       "      <td>NaN</td>\n",
       "      <td>NaN</td>\n",
       "      <td>NaN</td>\n",
       "      <td>NaN</td>\n",
       "      <td>NaN</td>\n",
       "      <td>NaN</td>\n",
       "      <td>14358</td>\n",
       "      <td>NaN</td>\n",
       "    </tr>\n",
       "    <tr>\n",
       "      <th>mean</th>\n",
       "      <td>5388.526081</td>\n",
       "      <td>NaN</td>\n",
       "      <td>NaN</td>\n",
       "      <td>306427.439396</td>\n",
       "      <td>NaN</td>\n",
       "      <td>2.828252</td>\n",
       "      <td>154.724158</td>\n",
       "      <td>0.654518</td>\n",
       "      <td>NaN</td>\n",
       "      <td>0.047303</td>\n",
       "      <td>0.562960</td>\n",
       "      <td>23.827737</td>\n",
       "      <td>0.291609</td>\n",
       "      <td>715.837006</td>\n",
       "      <td>999.31484</td>\n",
       "      <td>NaN</td>\n",
       "      <td>2.768152</td>\n",
       "      <td>0.015676</td>\n",
       "      <td>NaN</td>\n",
       "      <td>1983.587525</td>\n",
       "    </tr>\n",
       "    <tr>\n",
       "      <th>std</th>\n",
       "      <td>2958.804834</td>\n",
       "      <td>NaN</td>\n",
       "      <td>NaN</td>\n",
       "      <td>168387.952272</td>\n",
       "      <td>NaN</td>\n",
       "      <td>2.221211</td>\n",
       "      <td>185.137627</td>\n",
       "      <td>0.475530</td>\n",
       "      <td>NaN</td>\n",
       "      <td>0.212289</td>\n",
       "      <td>0.496025</td>\n",
       "      <td>30.320098</td>\n",
       "      <td>0.454508</td>\n",
       "      <td>4336.640576</td>\n",
       "      <td>5055.03166</td>\n",
       "      <td>NaN</td>\n",
       "      <td>0.860089</td>\n",
       "      <td>0.124220</td>\n",
       "      <td>NaN</td>\n",
       "      <td>37.456650</td>\n",
       "    </tr>\n",
       "    <tr>\n",
       "      <th>min</th>\n",
       "      <td>1000.000000</td>\n",
       "      <td>NaN</td>\n",
       "      <td>NaN</td>\n",
       "      <td>1000.000000</td>\n",
       "      <td>NaN</td>\n",
       "      <td>0.000000</td>\n",
       "      <td>1.000000</td>\n",
       "      <td>0.000000</td>\n",
       "      <td>NaN</td>\n",
       "      <td>0.000000</td>\n",
       "      <td>0.000000</td>\n",
       "      <td>1.000000</td>\n",
       "      <td>0.000000</td>\n",
       "      <td>1.000000</td>\n",
       "      <td>0.00000</td>\n",
       "      <td>NaN</td>\n",
       "      <td>1.000000</td>\n",
       "      <td>0.000000</td>\n",
       "      <td>NaN</td>\n",
       "      <td>1755.000000</td>\n",
       "    </tr>\n",
       "    <tr>\n",
       "      <th>25%</th>\n",
       "      <td>2600.000000</td>\n",
       "      <td>NaN</td>\n",
       "      <td>NaN</td>\n",
       "      <td>195000.000000</td>\n",
       "      <td>NaN</td>\n",
       "      <td>2.000000</td>\n",
       "      <td>91.000000</td>\n",
       "      <td>0.000000</td>\n",
       "      <td>NaN</td>\n",
       "      <td>0.000000</td>\n",
       "      <td>0.000000</td>\n",
       "      <td>9.000000</td>\n",
       "      <td>0.000000</td>\n",
       "      <td>70.000000</td>\n",
       "      <td>143.00000</td>\n",
       "      <td>NaN</td>\n",
       "      <td>2.000000</td>\n",
       "      <td>0.000000</td>\n",
       "      <td>NaN</td>\n",
       "      <td>1963.000000</td>\n",
       "    </tr>\n",
       "    <tr>\n",
       "      <th>50%</th>\n",
       "      <td>5030.000000</td>\n",
       "      <td>NaN</td>\n",
       "      <td>NaN</td>\n",
       "      <td>268000.000000</td>\n",
       "      <td>NaN</td>\n",
       "      <td>3.000000</td>\n",
       "      <td>130.000000</td>\n",
       "      <td>1.000000</td>\n",
       "      <td>NaN</td>\n",
       "      <td>0.000000</td>\n",
       "      <td>1.000000</td>\n",
       "      <td>16.000000</td>\n",
       "      <td>0.000000</td>\n",
       "      <td>186.000000</td>\n",
       "      <td>351.00000</td>\n",
       "      <td>NaN</td>\n",
       "      <td>3.000000</td>\n",
       "      <td>0.000000</td>\n",
       "      <td>NaN</td>\n",
       "      <td>1992.000000</td>\n",
       "    </tr>\n",
       "    <tr>\n",
       "      <th>75%</th>\n",
       "      <td>8420.000000</td>\n",
       "      <td>NaN</td>\n",
       "      <td>NaN</td>\n",
       "      <td>373365.500000</td>\n",
       "      <td>NaN</td>\n",
       "      <td>3.000000</td>\n",
       "      <td>186.000000</td>\n",
       "      <td>1.000000</td>\n",
       "      <td>NaN</td>\n",
       "      <td>0.000000</td>\n",
       "      <td>1.000000</td>\n",
       "      <td>30.000000</td>\n",
       "      <td>1.000000</td>\n",
       "      <td>540.000000</td>\n",
       "      <td>814.75000</td>\n",
       "      <td>NaN</td>\n",
       "      <td>4.000000</td>\n",
       "      <td>0.000000</td>\n",
       "      <td>NaN</td>\n",
       "      <td>2018.000000</td>\n",
       "    </tr>\n",
       "    <tr>\n",
       "      <th>max</th>\n",
       "      <td>9992.000000</td>\n",
       "      <td>NaN</td>\n",
       "      <td>NaN</td>\n",
       "      <td>950000.000000</td>\n",
       "      <td>NaN</td>\n",
       "      <td>204.000000</td>\n",
       "      <td>31700.000000</td>\n",
       "      <td>1.000000</td>\n",
       "      <td>NaN</td>\n",
       "      <td>1.000000</td>\n",
       "      <td>1.000000</td>\n",
       "      <td>1150.000000</td>\n",
       "      <td>1.000000</td>\n",
       "      <td>312600.000000</td>\n",
       "      <td>400000.00000</td>\n",
       "      <td>NaN</td>\n",
       "      <td>4.000000</td>\n",
       "      <td>1.000000</td>\n",
       "      <td>NaN</td>\n",
       "      <td>2048.000000</td>\n",
       "    </tr>\n",
       "  </tbody>\n",
       "</table>\n",
       "</div>"
      ],
      "text/plain": [
       "            locality type_of_property subtype_of_property          price  \\\n",
       "count   50842.000000            50842               50842   50772.000000   \n",
       "unique           NaN                2                  24            NaN   \n",
       "top              NaN            house               house            NaN   \n",
       "freq             NaN            29002               21810            NaN   \n",
       "mean     5388.526081              NaN                 NaN  306427.439396   \n",
       "std      2958.804834              NaN                 NaN  168387.952272   \n",
       "min      1000.000000              NaN                 NaN    1000.000000   \n",
       "25%      2600.000000              NaN                 NaN  195000.000000   \n",
       "50%      5030.000000              NaN                 NaN  268000.000000   \n",
       "75%      8420.000000              NaN                 NaN  373365.500000   \n",
       "max      9992.000000              NaN                 NaN  950000.000000   \n",
       "\n",
       "       type_of_sale  number_of_rooms    house_area  fully_equipped_kitchen  \\\n",
       "count         50842     50842.000000  42412.000000            50842.000000   \n",
       "unique            1              NaN           NaN                     NaN   \n",
       "top        for sale              NaN           NaN                     NaN   \n",
       "freq          50842              NaN           NaN                     NaN   \n",
       "mean            NaN         2.828252    154.724158                0.654518   \n",
       "std             NaN         2.221211    185.137627                0.475530   \n",
       "min             NaN         0.000000      1.000000                0.000000   \n",
       "25%             NaN         2.000000     91.000000                0.000000   \n",
       "50%             NaN         3.000000    130.000000                1.000000   \n",
       "75%             NaN         3.000000    186.000000                1.000000   \n",
       "max             NaN       204.000000  31700.000000                1.000000   \n",
       "\n",
       "        furnished     open_fire       terrace  terrace_area        garden  \\\n",
       "count         0.0  50842.000000  50842.000000  17096.000000  50842.000000   \n",
       "unique        NaN           NaN           NaN           NaN           NaN   \n",
       "top           NaN           NaN           NaN           NaN           NaN   \n",
       "freq          NaN           NaN           NaN           NaN           NaN   \n",
       "mean          NaN      0.047303      0.562960     23.827737      0.291609   \n",
       "std           NaN      0.212289      0.496025     30.320098      0.454508   \n",
       "min           NaN      0.000000      0.000000      1.000000      0.000000   \n",
       "25%           NaN      0.000000      0.000000      9.000000      0.000000   \n",
       "50%           NaN      0.000000      1.000000     16.000000      0.000000   \n",
       "75%           NaN      0.000000      1.000000     30.000000      1.000000   \n",
       "max           NaN      1.000000      1.000000   1150.000000      1.000000   \n",
       "\n",
       "          garden_area  surface_of_the_land  surface_of_the_plot_of_land  \\\n",
       "count     8350.000000          29002.00000                          0.0   \n",
       "unique            NaN                  NaN                          NaN   \n",
       "top               NaN                  NaN                          NaN   \n",
       "freq              NaN                  NaN                          NaN   \n",
       "mean       715.837006            999.31484                          NaN   \n",
       "std       4336.640576           5055.03166                          NaN   \n",
       "min          1.000000              0.00000                          NaN   \n",
       "25%         70.000000            143.00000                          NaN   \n",
       "50%        186.000000            351.00000                          NaN   \n",
       "75%        540.000000            814.75000                          NaN   \n",
       "max     312600.000000         400000.00000                          NaN   \n",
       "\n",
       "        number_of_facades  swimming_pool state_of_the_building  \\\n",
       "count        37736.000000   50842.000000                 37670   \n",
       "unique                NaN            NaN                     6   \n",
       "top                   NaN            NaN                as new   \n",
       "freq                  NaN            NaN                 14358   \n",
       "mean             2.768152       0.015676                   NaN   \n",
       "std              0.860089       0.124220                   NaN   \n",
       "min              1.000000       0.000000                   NaN   \n",
       "25%              2.000000       0.000000                   NaN   \n",
       "50%              3.000000       0.000000                   NaN   \n",
       "75%              4.000000       0.000000                   NaN   \n",
       "max              4.000000       1.000000                   NaN   \n",
       "\n",
       "        construction_year  \n",
       "count        29883.000000  \n",
       "unique                NaN  \n",
       "top                   NaN  \n",
       "freq                  NaN  \n",
       "mean          1983.587525  \n",
       "std             37.456650  \n",
       "min           1755.000000  \n",
       "25%           1963.000000  \n",
       "50%           1992.000000  \n",
       "75%           2018.000000  \n",
       "max           2048.000000  "
      ]
     },
     "execution_count": 5,
     "metadata": {},
     "output_type": "execute_result"
    }
   ],
   "source": [
    "immo_data.describe(include='all')"
   ]
  },
  {
   "cell_type": "markdown",
   "metadata": {},
   "source": [
    "## Exploratory "
   ]
  },
  {
   "cell_type": "markdown",
   "metadata": {},
   "source": [
    "### Missing values"
   ]
  },
  {
   "cell_type": "code",
   "execution_count": 6,
   "metadata": {},
   "outputs": [
    {
     "data": {
      "text/plain": [
       "locality                           0\n",
       "type_of_property                   0\n",
       "subtype_of_property                0\n",
       "price                             70\n",
       "type_of_sale                       0\n",
       "number_of_rooms                    0\n",
       "house_area                      8430\n",
       "fully_equipped_kitchen             0\n",
       "furnished                      50842\n",
       "open_fire                          0\n",
       "terrace                            0\n",
       "terrace_area                   33746\n",
       "garden                             0\n",
       "garden_area                    42492\n",
       "surface_of_the_land            21840\n",
       "surface_of_the_plot_of_land    50842\n",
       "number_of_facades              13106\n",
       "swimming_pool                      0\n",
       "state_of_the_building          13172\n",
       "construction_year              20959\n",
       "dtype: int64"
      ]
     },
     "execution_count": 6,
     "metadata": {},
     "output_type": "execute_result"
    }
   ],
   "source": [
    "immo_data.isnull().sum()"
   ]
  },
  {
   "cell_type": "code",
   "execution_count": 7,
   "metadata": {},
   "outputs": [
    {
     "data": {
      "text/plain": [
       "locality                           0\n",
       "type_of_property                   0\n",
       "subtype_of_property                0\n",
       "price                              0\n",
       "type_of_sale                       0\n",
       "number_of_rooms                    0\n",
       "house_area                         0\n",
       "fully_equipped_kitchen             0\n",
       "furnished                      42368\n",
       "open_fire                          0\n",
       "terrace                            0\n",
       "terrace_area                   25869\n",
       "garden                             0\n",
       "garden_area                    34403\n",
       "surface_of_the_land            19861\n",
       "surface_of_the_plot_of_land    42368\n",
       "number_of_facades              10650\n",
       "swimming_pool                      0\n",
       "state_of_the_building          10259\n",
       "construction_year              16226\n",
       "dtype: int64"
      ]
     },
     "execution_count": 7,
     "metadata": {},
     "output_type": "execute_result"
    }
   ],
   "source": [
    "immo_data.dropna(axis=0, inplace=True, subset=['house_area'])\n",
    "immo_data.dropna(axis=0, inplace=True, subset=['price'])\n",
    "immo_data.isna().sum()"
   ]
  },
  {
   "cell_type": "markdown",
   "metadata": {},
   "source": [
    "### Variables quantitatives as int"
   ]
  },
  {
   "cell_type": "code",
   "execution_count": 8,
   "metadata": {},
   "outputs": [
    {
     "data": {
      "text/plain": [
       "locality                         int64\n",
       "type_of_property                object\n",
       "subtype_of_property             object\n",
       "price                          float64\n",
       "type_of_sale                    object\n",
       "number_of_rooms                float64\n",
       "house_area                     float64\n",
       "fully_equipped_kitchen           int64\n",
       "furnished                      float64\n",
       "open_fire                        int64\n",
       "terrace                          int64\n",
       "terrace_area                   float64\n",
       "garden                           int64\n",
       "garden_area                    float64\n",
       "surface_of_the_land            float64\n",
       "surface_of_the_plot_of_land    float64\n",
       "number_of_facades              float64\n",
       "swimming_pool                    int64\n",
       "state_of_the_building           object\n",
       "construction_year              float64\n",
       "dtype: object"
      ]
     },
     "execution_count": 8,
     "metadata": {},
     "output_type": "execute_result"
    }
   ],
   "source": [
    "immo_data.dtypes"
   ]
  },
  {
   "cell_type": "code",
   "execution_count": 9,
   "metadata": {},
   "outputs": [],
   "source": [
    "# change type for price/room/house_area columns\n",
    "immo_data['price'] = immo_data['price'].astype('int64')\n",
    "immo_data['number_of_rooms'] = immo_data['number_of_rooms'].astype('int64')\n",
    "immo_data['house_area'] = immo_data['house_area'].astype('int64')\n",
    "# column int including null values\n",
    "immo_data['furnished'] = immo_data['furnished'].astype('Int64')\n",
    "immo_data['terrace_area'] = immo_data['terrace_area'].astype('Int64')\n",
    "immo_data['garden_area'] = immo_data['garden_area'].astype('Int64')\n",
    "immo_data['surface_of_the_land'] = immo_data['surface_of_the_land'].astype('Int64')\n",
    "immo_data['surface_of_the_plot_of_land'] = immo_data['surface_of_the_plot_of_land'].astype('Int64')\n",
    "immo_data['number_of_facades'] = immo_data['number_of_facades'].astype('Int64')\n",
    "immo_data['construction_year'] = immo_data['construction_year'].astype('Int64')"
   ]
  },
  {
   "cell_type": "code",
   "execution_count": 10,
   "metadata": {},
   "outputs": [
    {
     "data": {
      "text/plain": [
       "locality                        int64\n",
       "type_of_property               object\n",
       "subtype_of_property            object\n",
       "price                           int64\n",
       "type_of_sale                   object\n",
       "number_of_rooms                 int64\n",
       "house_area                      int64\n",
       "fully_equipped_kitchen          int64\n",
       "furnished                       Int64\n",
       "open_fire                       int64\n",
       "terrace                         int64\n",
       "terrace_area                    Int64\n",
       "garden                          int64\n",
       "garden_area                     Int64\n",
       "surface_of_the_land             Int64\n",
       "surface_of_the_plot_of_land     Int64\n",
       "number_of_facades               Int64\n",
       "swimming_pool                   int64\n",
       "state_of_the_building          object\n",
       "construction_year               Int64\n",
       "dtype: object"
      ]
     },
     "execution_count": 10,
     "metadata": {},
     "output_type": "execute_result"
    }
   ],
   "source": [
    "immo_data.dtypes"
   ]
  },
  {
   "cell_type": "markdown",
   "metadata": {},
   "source": [
    "### Surface of the land"
   ]
  },
  {
   "cell_type": "code",
   "execution_count": 11,
   "metadata": {},
   "outputs": [
    {
     "data": {
      "text/plain": [
       "19861"
      ]
     },
     "execution_count": 11,
     "metadata": {},
     "output_type": "execute_result"
    }
   ],
   "source": [
    "immo_data.surface_of_the_land.isnull().sum()"
   ]
  },
  {
   "cell_type": "code",
   "execution_count": 12,
   "metadata": {
    "scrolled": true
   },
   "outputs": [
    {
     "data": {
      "text/plain": [
       "count     22507.000000\n",
       "mean       1002.948727\n",
       "std        4839.509243\n",
       "min           0.000000\n",
       "25%         155.000000\n",
       "50%         365.000000\n",
       "75%         847.500000\n",
       "max      400000.000000\n",
       "Name: surface_of_the_land, dtype: float64"
      ]
     },
     "execution_count": 12,
     "metadata": {},
     "output_type": "execute_result"
    }
   ],
   "source": [
    "immo_data.surface_of_the_land.describe()"
   ]
  },
  {
   "cell_type": "code",
   "execution_count": 13,
   "metadata": {},
   "outputs": [],
   "source": [
    "mask_expl_min_surface = immo_data['surface_of_the_land']<10"
   ]
  },
  {
   "cell_type": "code",
   "execution_count": 14,
   "metadata": {},
   "outputs": [
    {
     "data": {
      "text/plain": [
       "0    2028\n",
       "1      23\n",
       "5       3\n",
       "2       2\n",
       "8       2\n",
       "7       2\n",
       "4       1\n",
       "6       1\n",
       "Name: surface_of_the_land, dtype: Int64"
      ]
     },
     "execution_count": 14,
     "metadata": {},
     "output_type": "execute_result"
    }
   ],
   "source": [
    "immo_data['surface_of_the_land'].loc[mask_expl_min_surface].value_counts()"
   ]
  },
  {
   "cell_type": "code",
   "execution_count": 15,
   "metadata": {
    "scrolled": true
   },
   "outputs": [
    {
     "data": {
      "text/plain": [
       "4765     400000\n",
       "3138     264781\n",
       "51433    120300\n",
       "3114     120000\n",
       "3934     120000\n",
       "77       117800\n",
       "47249    100144\n",
       "50290     99148\n",
       "51156     98822\n",
       "41903     88800\n",
       "Name: surface_of_the_land, dtype: Int64"
      ]
     },
     "execution_count": 15,
     "metadata": {},
     "output_type": "execute_result"
    }
   ],
   "source": [
    "immo_data.surface_of_the_land.sort_values(ascending=False)[0:10]"
   ]
  },
  {
   "cell_type": "code",
   "execution_count": 16,
   "metadata": {},
   "outputs": [],
   "source": [
    "mask_limit_max_surface = immo_data['surface_of_the_land']<6000"
   ]
  },
  {
   "cell_type": "code",
   "execution_count": 17,
   "metadata": {
    "scrolled": true
   },
   "outputs": [
    {
     "data": {
      "text/plain": [
       "(array([7026., 4822., 2817., 1803., 1358.,  987.,  678.,  469.,  402.,\n",
       "         271.,  233.,  193.,  157.,  134.,  105.,   90.,   73.,   67.,\n",
       "          38.,   42.,   58.,   32.,   30.,   34.,   18.,   30.,   29.,\n",
       "          16.,   22.,   19.]),\n",
       " array([   0.        ,  199.86666667,  399.73333333,  599.6       ,\n",
       "         799.46666667,  999.33333333, 1199.2       , 1399.06666667,\n",
       "        1598.93333333, 1798.8       , 1998.66666667, 2198.53333333,\n",
       "        2398.4       , 2598.26666667, 2798.13333333, 2998.        ,\n",
       "        3197.86666667, 3397.73333333, 3597.6       , 3797.46666667,\n",
       "        3997.33333333, 4197.2       , 4397.06666667, 4596.93333333,\n",
       "        4796.8       , 4996.66666667, 5196.53333333, 5396.4       ,\n",
       "        5596.26666667, 5796.13333333, 5996.        ]),\n",
       " <BarContainer object of 30 artists>)"
      ]
     },
     "execution_count": 17,
     "metadata": {},
     "output_type": "execute_result"
    },
    {
     "data": {
      "image/png": "[encoded data removed]",
      "text/plain": [
       "<Figure size 432x288 with 1 Axes>"
      ]
     },
     "metadata": {},
     "output_type": "display_data"
    }
   ],
   "source": [
    "plt.hist(immo_data['surface_of_the_land'].loc[mask_limit_max_surface], bins=30)"
   ]
  },
  {
   "cell_type": "markdown",
   "metadata": {},
   "source": [
    "suggestion cleaning :  \n",
    "- max : ok, pas anormal d'avoir terrain de plusieurs hectares\n",
    "- min : 3332 valeurs < 5 m² --> as Nan ? "
   ]
  },
  {
   "cell_type": "markdown",
   "metadata": {},
   "source": [
    "Commande cleaning : "
   ]
  },
  {
   "cell_type": "code",
   "execution_count": 18,
   "metadata": {},
   "outputs": [
    {
     "data": {
      "text/plain": [
       "52074        0\n",
       "34029        0\n",
       "34016        0\n",
       "34015        0\n",
       "34011        0\n",
       "         ...  \n",
       "371      15125\n",
       "3646     15131\n",
       "49706    15222\n",
       "49761    15345\n",
       "1166     15444\n",
       "Name: surface_of_the_land, Length: 22365, dtype: Int64"
      ]
     },
     "execution_count": 18,
     "metadata": {},
     "output_type": "execute_result"
    }
   ],
   "source": [
    "Mean_S_o_L = immo_data.surface_of_the_land.mean()\n",
    "Std_S_o_L = immo_data.surface_of_the_land.std()\n",
    "Drop_out_S_o_L = (immo_data['surface_of_the_land']>=0) & (immo_data['surface_of_the_land']<(Mean_S_o_L + 3 * Std_S_o_L))\n",
    "immo_data['surface_of_the_land'].loc[Drop_out_S_o_L].sort_values(ascending=True)"
   ]
  },
  {
   "cell_type": "code",
   "execution_count": 19,
   "metadata": {},
   "outputs": [],
   "source": [
    "immo_data['surface_of_the_land']=immo_data['surface_of_the_land'].loc[Drop_out_S_o_L].sort_values(ascending=True)"
   ]
  },
  {
   "cell_type": "code",
   "execution_count": 20,
   "metadata": {},
   "outputs": [
    {
     "data": {
      "text/plain": [
       "20003"
      ]
     },
     "execution_count": 20,
     "metadata": {},
     "output_type": "execute_result"
    }
   ],
   "source": [
    "immo_data.surface_of_the_land.isnull().sum()"
   ]
  },
  {
   "cell_type": "markdown",
   "metadata": {},
   "source": [
    "### number of façades"
   ]
  },
  {
   "cell_type": "code",
   "execution_count": 21,
   "metadata": {},
   "outputs": [
    {
     "data": {
      "text/plain": [
       "2    15376\n",
       "4     8265\n",
       "3     7617\n",
       "1      460\n",
       "Name: number_of_facades, dtype: Int64"
      ]
     },
     "execution_count": 21,
     "metadata": {},
     "output_type": "execute_result"
    }
   ],
   "source": [
    "immo_data.number_of_facades.value_counts()"
   ]
  },
  {
   "cell_type": "code",
   "execution_count": 22,
   "metadata": {},
   "outputs": [
    {
     "data": {
      "text/plain": [
       "10650"
      ]
     },
     "execution_count": 22,
     "metadata": {},
     "output_type": "execute_result"
    }
   ],
   "source": [
    "immo_data.number_of_facades.isnull().sum()"
   ]
  },
  {
   "cell_type": "code",
   "execution_count": 23,
   "metadata": {
    "scrolled": true
   },
   "outputs": [
    {
     "data": {
      "text/plain": [
       "(array([  460.,     0.,     0., 15376.,     0.,     0.,  7617.,     0.,\n",
       "            0.,  8265.]),\n",
       " array([1. , 1.3, 1.6, 1.9, 2.2, 2.5, 2.8, 3.1, 3.4, 3.7, 4. ]),\n",
       " <BarContainer object of 10 artists>)"
      ]
     },
     "execution_count": 23,
     "metadata": {},
     "output_type": "execute_result"
    },
    {
     "data": {
      "image/png": "[encoded data removed]",
      "text/plain": [
       "<Figure size 432x288 with 1 Axes>"
      ]
     },
     "metadata": {},
     "output_type": "display_data"
    }
   ],
   "source": [
    "plt.hist(immo_data.number_of_facades[~immo_data.number_of_facades.isna()])"
   ]
  },
  {
   "cell_type": "markdown",
   "metadata": {
    "pycharm": {
     "name": "#%% md\n"
    }
   },
   "source": [
    "suggestion cleaning :  \n",
    "- ok"
   ]
  },
  {
   "cell_type": "markdown",
   "metadata": {},
   "source": [
    "### swimming pool"
   ]
  },
  {
   "cell_type": "code",
   "execution_count": 24,
   "metadata": {
    "pycharm": {
     "name": "#%%\n"
    }
   },
   "outputs": [
    {
     "data": {
      "text/plain": [
       "0    41655\n",
       "1      713\n",
       "Name: swimming_pool, dtype: int64"
      ]
     },
     "execution_count": 24,
     "metadata": {},
     "output_type": "execute_result"
    }
   ],
   "source": [
    "immo_data.swimming_pool.value_counts()"
   ]
  },
  {
   "cell_type": "markdown",
   "metadata": {
    "pycharm": {
     "name": "#%% md\n"
    }
   },
   "source": [
    "suggestion cleaning :  \n",
    "- ok"
   ]
  },
  {
   "cell_type": "markdown",
   "metadata": {},
   "source": [
    "### State of the building"
   ]
  },
  {
   "cell_type": "code",
   "execution_count": 25,
   "metadata": {
    "pycharm": {
     "name": "#%%\n"
    }
   },
   "outputs": [
    {
     "data": {
      "text/plain": [
       "as new            12495\n",
       "good              11606\n",
       "to be done up      2988\n",
       "to renovate        2591\n",
       "just renovated     2271\n",
       "to restore          158\n",
       "Name: state_of_the_building, dtype: int64"
      ]
     },
     "execution_count": 25,
     "metadata": {},
     "output_type": "execute_result"
    }
   ],
   "source": [
    "immo_data.state_of_the_building.value_counts()"
   ]
  },
  {
   "cell_type": "code",
   "execution_count": 26,
   "metadata": {},
   "outputs": [
    {
     "data": {
      "text/plain": [
       "10259"
      ]
     },
     "execution_count": 26,
     "metadata": {},
     "output_type": "execute_result"
    }
   ],
   "source": [
    "immo_data.state_of_the_building.isnull().sum()"
   ]
  },
  {
   "cell_type": "markdown",
   "metadata": {
    "pycharm": {
     "name": "#%% md\n"
    }
   },
   "source": [
    "suggestion cleaning :  \n",
    "- ok"
   ]
  },
  {
   "cell_type": "markdown",
   "metadata": {},
   "source": [
    "### Construction year"
   ]
  },
  {
   "cell_type": "code",
   "execution_count": 27,
   "metadata": {
    "pycharm": {
     "name": "#%%\n"
    }
   },
   "outputs": [
    {
     "data": {
      "text/plain": [
       "2020    3295\n",
       "2019    1956\n",
       "2018     912\n",
       "1930     566\n",
       "1970     525\n",
       "        ... \n",
       "1802       1\n",
       "1786       1\n",
       "1803       1\n",
       "1849       1\n",
       "1760       1\n",
       "Name: construction_year, Length: 216, dtype: Int64"
      ]
     },
     "execution_count": 27,
     "metadata": {},
     "output_type": "execute_result"
    }
   ],
   "source": [
    "immo_data.construction_year.value_counts()"
   ]
  },
  {
   "cell_type": "code",
   "execution_count": 28,
   "metadata": {},
   "outputs": [
    {
     "data": {
      "text/plain": [
       "16226"
      ]
     },
     "execution_count": 28,
     "metadata": {},
     "output_type": "execute_result"
    }
   ],
   "source": [
    "immo_data.construction_year.isnull().sum()"
   ]
  },
  {
   "cell_type": "markdown",
   "metadata": {
    "pycharm": {
     "name": "#%% md\n"
    }
   },
   "source": [
    "suggestion cleaning :  \n",
    "- ok"
   ]
  },
  {
   "cell_type": "markdown",
   "metadata": {},
   "source": [
    "### House area"
   ]
  },
  {
   "cell_type": "code",
   "execution_count": 29,
   "metadata": {
    "pycharm": {
     "name": "#%%\n"
    }
   },
   "outputs": [
    {
     "data": {
      "text/plain": [
       "0"
      ]
     },
     "execution_count": 29,
     "metadata": {},
     "output_type": "execute_result"
    }
   ],
   "source": [
    "immo_data['house_area'].isnull().sum()"
   ]
  },
  {
   "cell_type": "code",
   "execution_count": 30,
   "metadata": {},
   "outputs": [
    {
     "data": {
      "text/html": [
       "<div>\n",
       "<style scoped>\n",
       "    .dataframe tbody tr th:only-of-type {\n",
       "        vertical-align: middle;\n",
       "    }\n",
       "\n",
       "    .dataframe tbody tr th {\n",
       "        vertical-align: top;\n",
       "    }\n",
       "\n",
       "    .dataframe thead th {\n",
       "        text-align: right;\n",
       "    }\n",
       "</style>\n",
       "<table border=\"1\" class=\"dataframe\">\n",
       "  <thead>\n",
       "    <tr style=\"text-align: right;\">\n",
       "      <th></th>\n",
       "      <th>locality</th>\n",
       "      <th>type_of_property</th>\n",
       "      <th>subtype_of_property</th>\n",
       "      <th>price</th>\n",
       "      <th>type_of_sale</th>\n",
       "      <th>number_of_rooms</th>\n",
       "      <th>house_area</th>\n",
       "      <th>fully_equipped_kitchen</th>\n",
       "      <th>furnished</th>\n",
       "      <th>open_fire</th>\n",
       "      <th>terrace</th>\n",
       "      <th>terrace_area</th>\n",
       "      <th>garden</th>\n",
       "      <th>garden_area</th>\n",
       "      <th>surface_of_the_land</th>\n",
       "      <th>surface_of_the_plot_of_land</th>\n",
       "      <th>number_of_facades</th>\n",
       "      <th>swimming_pool</th>\n",
       "      <th>state_of_the_building</th>\n",
       "      <th>construction_year</th>\n",
       "    </tr>\n",
       "  </thead>\n",
       "  <tbody>\n",
       "    <tr>\n",
       "      <th>5920</th>\n",
       "      <td>8840</td>\n",
       "      <td>apartment</td>\n",
       "      <td>apartment</td>\n",
       "      <td>135000</td>\n",
       "      <td>for sale</td>\n",
       "      <td>0</td>\n",
       "      <td>5</td>\n",
       "      <td>0</td>\n",
       "      <td>&lt;NA&gt;</td>\n",
       "      <td>0</td>\n",
       "      <td>0</td>\n",
       "      <td>&lt;NA&gt;</td>\n",
       "      <td>0</td>\n",
       "      <td>&lt;NA&gt;</td>\n",
       "      <td>&lt;NA&gt;</td>\n",
       "      <td>&lt;NA&gt;</td>\n",
       "      <td>&lt;NA&gt;</td>\n",
       "      <td>0</td>\n",
       "      <td>good</td>\n",
       "      <td>&lt;NA&gt;</td>\n",
       "    </tr>\n",
       "    <tr>\n",
       "      <th>7457</th>\n",
       "      <td>8870</td>\n",
       "      <td>apartment</td>\n",
       "      <td>apartment</td>\n",
       "      <td>125000</td>\n",
       "      <td>for sale</td>\n",
       "      <td>4</td>\n",
       "      <td>5</td>\n",
       "      <td>0</td>\n",
       "      <td>&lt;NA&gt;</td>\n",
       "      <td>0</td>\n",
       "      <td>0</td>\n",
       "      <td>&lt;NA&gt;</td>\n",
       "      <td>0</td>\n",
       "      <td>&lt;NA&gt;</td>\n",
       "      <td>&lt;NA&gt;</td>\n",
       "      <td>&lt;NA&gt;</td>\n",
       "      <td>&lt;NA&gt;</td>\n",
       "      <td>0</td>\n",
       "      <td>as new</td>\n",
       "      <td>&lt;NA&gt;</td>\n",
       "    </tr>\n",
       "    <tr>\n",
       "      <th>20734</th>\n",
       "      <td>3290</td>\n",
       "      <td>apartment</td>\n",
       "      <td>apartment</td>\n",
       "      <td>265000</td>\n",
       "      <td>for sale</td>\n",
       "      <td>2</td>\n",
       "      <td>1</td>\n",
       "      <td>0</td>\n",
       "      <td>&lt;NA&gt;</td>\n",
       "      <td>0</td>\n",
       "      <td>0</td>\n",
       "      <td>&lt;NA&gt;</td>\n",
       "      <td>1</td>\n",
       "      <td>&lt;NA&gt;</td>\n",
       "      <td>&lt;NA&gt;</td>\n",
       "      <td>&lt;NA&gt;</td>\n",
       "      <td>&lt;NA&gt;</td>\n",
       "      <td>0</td>\n",
       "      <td>NaN</td>\n",
       "      <td>&lt;NA&gt;</td>\n",
       "    </tr>\n",
       "    <tr>\n",
       "      <th>24912</th>\n",
       "      <td>8400</td>\n",
       "      <td>apartment</td>\n",
       "      <td>apartment</td>\n",
       "      <td>425000</td>\n",
       "      <td>for sale</td>\n",
       "      <td>2</td>\n",
       "      <td>1</td>\n",
       "      <td>0</td>\n",
       "      <td>&lt;NA&gt;</td>\n",
       "      <td>0</td>\n",
       "      <td>1</td>\n",
       "      <td>&lt;NA&gt;</td>\n",
       "      <td>0</td>\n",
       "      <td>&lt;NA&gt;</td>\n",
       "      <td>&lt;NA&gt;</td>\n",
       "      <td>&lt;NA&gt;</td>\n",
       "      <td>2</td>\n",
       "      <td>0</td>\n",
       "      <td>good</td>\n",
       "      <td>1961</td>\n",
       "    </tr>\n",
       "    <tr>\n",
       "      <th>39290</th>\n",
       "      <td>8954</td>\n",
       "      <td>house</td>\n",
       "      <td>house</td>\n",
       "      <td>265500</td>\n",
       "      <td>for sale</td>\n",
       "      <td>3</td>\n",
       "      <td>5</td>\n",
       "      <td>1</td>\n",
       "      <td>&lt;NA&gt;</td>\n",
       "      <td>0</td>\n",
       "      <td>0</td>\n",
       "      <td>&lt;NA&gt;</td>\n",
       "      <td>0</td>\n",
       "      <td>&lt;NA&gt;</td>\n",
       "      <td>373</td>\n",
       "      <td>&lt;NA&gt;</td>\n",
       "      <td>&lt;NA&gt;</td>\n",
       "      <td>0</td>\n",
       "      <td>as new</td>\n",
       "      <td>2019</td>\n",
       "    </tr>\n",
       "    <tr>\n",
       "      <th>45094</th>\n",
       "      <td>4845</td>\n",
       "      <td>house</td>\n",
       "      <td>villa</td>\n",
       "      <td>323000</td>\n",
       "      <td>for sale</td>\n",
       "      <td>4</td>\n",
       "      <td>1</td>\n",
       "      <td>0</td>\n",
       "      <td>&lt;NA&gt;</td>\n",
       "      <td>0</td>\n",
       "      <td>1</td>\n",
       "      <td>&lt;NA&gt;</td>\n",
       "      <td>0</td>\n",
       "      <td>&lt;NA&gt;</td>\n",
       "      <td>913</td>\n",
       "      <td>&lt;NA&gt;</td>\n",
       "      <td>&lt;NA&gt;</td>\n",
       "      <td>0</td>\n",
       "      <td>as new</td>\n",
       "      <td>2013</td>\n",
       "    </tr>\n",
       "    <tr>\n",
       "      <th>45335</th>\n",
       "      <td>4845</td>\n",
       "      <td>house</td>\n",
       "      <td>villa</td>\n",
       "      <td>307000</td>\n",
       "      <td>for sale</td>\n",
       "      <td>3</td>\n",
       "      <td>1</td>\n",
       "      <td>0</td>\n",
       "      <td>&lt;NA&gt;</td>\n",
       "      <td>0</td>\n",
       "      <td>0</td>\n",
       "      <td>&lt;NA&gt;</td>\n",
       "      <td>1</td>\n",
       "      <td>500</td>\n",
       "      <td>0</td>\n",
       "      <td>&lt;NA&gt;</td>\n",
       "      <td>4</td>\n",
       "      <td>0</td>\n",
       "      <td>as new</td>\n",
       "      <td>2019</td>\n",
       "    </tr>\n",
       "    <tr>\n",
       "      <th>45726</th>\n",
       "      <td>8791</td>\n",
       "      <td>house</td>\n",
       "      <td>house</td>\n",
       "      <td>335000</td>\n",
       "      <td>for sale</td>\n",
       "      <td>4</td>\n",
       "      <td>5</td>\n",
       "      <td>1</td>\n",
       "      <td>&lt;NA&gt;</td>\n",
       "      <td>0</td>\n",
       "      <td>0</td>\n",
       "      <td>&lt;NA&gt;</td>\n",
       "      <td>0</td>\n",
       "      <td>&lt;NA&gt;</td>\n",
       "      <td>484</td>\n",
       "      <td>&lt;NA&gt;</td>\n",
       "      <td>&lt;NA&gt;</td>\n",
       "      <td>0</td>\n",
       "      <td>good</td>\n",
       "      <td>1956</td>\n",
       "    </tr>\n",
       "  </tbody>\n",
       "</table>\n",
       "</div>"
      ],
      "text/plain": [
       "       locality type_of_property subtype_of_property   price type_of_sale  \\\n",
       "5920       8840        apartment           apartment  135000     for sale   \n",
       "7457       8870        apartment           apartment  125000     for sale   \n",
       "20734      3290        apartment           apartment  265000     for sale   \n",
       "24912      8400        apartment           apartment  425000     for sale   \n",
       "39290      8954            house               house  265500     for sale   \n",
       "45094      4845            house               villa  323000     for sale   \n",
       "45335      4845            house               villa  307000     for sale   \n",
       "45726      8791            house               house  335000     for sale   \n",
       "\n",
       "       number_of_rooms  house_area  fully_equipped_kitchen  furnished  \\\n",
       "5920                 0           5                       0       <NA>   \n",
       "7457                 4           5                       0       <NA>   \n",
       "20734                2           1                       0       <NA>   \n",
       "24912                2           1                       0       <NA>   \n",
       "39290                3           5                       1       <NA>   \n",
       "45094                4           1                       0       <NA>   \n",
       "45335                3           1                       0       <NA>   \n",
       "45726                4           5                       1       <NA>   \n",
       "\n",
       "       open_fire  terrace  terrace_area  garden  garden_area  \\\n",
       "5920           0        0          <NA>       0         <NA>   \n",
       "7457           0        0          <NA>       0         <NA>   \n",
       "20734          0        0          <NA>       1         <NA>   \n",
       "24912          0        1          <NA>       0         <NA>   \n",
       "39290          0        0          <NA>       0         <NA>   \n",
       "45094          0        1          <NA>       0         <NA>   \n",
       "45335          0        0          <NA>       1          500   \n",
       "45726          0        0          <NA>       0         <NA>   \n",
       "\n",
       "       surface_of_the_land  surface_of_the_plot_of_land  number_of_facades  \\\n",
       "5920                  <NA>                         <NA>               <NA>   \n",
       "7457                  <NA>                         <NA>               <NA>   \n",
       "20734                 <NA>                         <NA>               <NA>   \n",
       "24912                 <NA>                         <NA>                  2   \n",
       "39290                  373                         <NA>               <NA>   \n",
       "45094                  913                         <NA>               <NA>   \n",
       "45335                    0                         <NA>                  4   \n",
       "45726                  484                         <NA>               <NA>   \n",
       "\n",
       "       swimming_pool state_of_the_building  construction_year  \n",
       "5920               0                  good               <NA>  \n",
       "7457               0                as new               <NA>  \n",
       "20734              0                   NaN               <NA>  \n",
       "24912              0                  good               1961  \n",
       "39290              0                as new               2019  \n",
       "45094              0                as new               2013  \n",
       "45335              0                as new               2019  \n",
       "45726              0                  good               1956  "
      ]
     },
     "execution_count": 30,
     "metadata": {},
     "output_type": "execute_result"
    }
   ],
   "source": [
    "immo_data[immo_data['house_area']<=5]"
   ]
  },
  {
   "cell_type": "code",
   "execution_count": 31,
   "metadata": {},
   "outputs": [
    {
     "data": {
      "text/html": [
       "<div>\n",
       "<style scoped>\n",
       "    .dataframe tbody tr th:only-of-type {\n",
       "        vertical-align: middle;\n",
       "    }\n",
       "\n",
       "    .dataframe tbody tr th {\n",
       "        vertical-align: top;\n",
       "    }\n",
       "\n",
       "    .dataframe thead th {\n",
       "        text-align: right;\n",
       "    }\n",
       "</style>\n",
       "<table border=\"1\" class=\"dataframe\">\n",
       "  <thead>\n",
       "    <tr style=\"text-align: right;\">\n",
       "      <th></th>\n",
       "      <th>locality</th>\n",
       "      <th>type_of_property</th>\n",
       "      <th>subtype_of_property</th>\n",
       "      <th>price</th>\n",
       "      <th>type_of_sale</th>\n",
       "      <th>number_of_rooms</th>\n",
       "      <th>house_area</th>\n",
       "      <th>fully_equipped_kitchen</th>\n",
       "      <th>furnished</th>\n",
       "      <th>open_fire</th>\n",
       "      <th>terrace</th>\n",
       "      <th>terrace_area</th>\n",
       "      <th>garden</th>\n",
       "      <th>garden_area</th>\n",
       "      <th>surface_of_the_land</th>\n",
       "      <th>surface_of_the_plot_of_land</th>\n",
       "      <th>number_of_facades</th>\n",
       "      <th>swimming_pool</th>\n",
       "      <th>state_of_the_building</th>\n",
       "      <th>construction_year</th>\n",
       "    </tr>\n",
       "  </thead>\n",
       "  <tbody>\n",
       "    <tr>\n",
       "      <th>1801</th>\n",
       "      <td>4470</td>\n",
       "      <td>house</td>\n",
       "      <td>house</td>\n",
       "      <td>585000</td>\n",
       "      <td>for sale</td>\n",
       "      <td>18</td>\n",
       "      <td>1500</td>\n",
       "      <td>1</td>\n",
       "      <td>&lt;NA&gt;</td>\n",
       "      <td>0</td>\n",
       "      <td>1</td>\n",
       "      <td>&lt;NA&gt;</td>\n",
       "      <td>0</td>\n",
       "      <td>&lt;NA&gt;</td>\n",
       "      <td>2500</td>\n",
       "      <td>&lt;NA&gt;</td>\n",
       "      <td>&lt;NA&gt;</td>\n",
       "      <td>0</td>\n",
       "      <td>to restore</td>\n",
       "      <td>&lt;NA&gt;</td>\n",
       "    </tr>\n",
       "    <tr>\n",
       "      <th>1803</th>\n",
       "      <td>4470</td>\n",
       "      <td>house</td>\n",
       "      <td>apartment block</td>\n",
       "      <td>585000</td>\n",
       "      <td>for sale</td>\n",
       "      <td>18</td>\n",
       "      <td>1500</td>\n",
       "      <td>1</td>\n",
       "      <td>&lt;NA&gt;</td>\n",
       "      <td>0</td>\n",
       "      <td>1</td>\n",
       "      <td>&lt;NA&gt;</td>\n",
       "      <td>0</td>\n",
       "      <td>&lt;NA&gt;</td>\n",
       "      <td>2500</td>\n",
       "      <td>&lt;NA&gt;</td>\n",
       "      <td>&lt;NA&gt;</td>\n",
       "      <td>0</td>\n",
       "      <td>to restore</td>\n",
       "      <td>&lt;NA&gt;</td>\n",
       "    </tr>\n",
       "    <tr>\n",
       "      <th>2497</th>\n",
       "      <td>9600</td>\n",
       "      <td>house</td>\n",
       "      <td>house</td>\n",
       "      <td>650000</td>\n",
       "      <td>for sale</td>\n",
       "      <td>1</td>\n",
       "      <td>1640</td>\n",
       "      <td>0</td>\n",
       "      <td>&lt;NA&gt;</td>\n",
       "      <td>0</td>\n",
       "      <td>0</td>\n",
       "      <td>&lt;NA&gt;</td>\n",
       "      <td>0</td>\n",
       "      <td>&lt;NA&gt;</td>\n",
       "      <td>1640</td>\n",
       "      <td>&lt;NA&gt;</td>\n",
       "      <td>3</td>\n",
       "      <td>0</td>\n",
       "      <td>good</td>\n",
       "      <td>1991</td>\n",
       "    </tr>\n",
       "    <tr>\n",
       "      <th>3563</th>\n",
       "      <td>2880</td>\n",
       "      <td>house</td>\n",
       "      <td>manor house</td>\n",
       "      <td>750000</td>\n",
       "      <td>for sale</td>\n",
       "      <td>3</td>\n",
       "      <td>3560</td>\n",
       "      <td>1</td>\n",
       "      <td>&lt;NA&gt;</td>\n",
       "      <td>1</td>\n",
       "      <td>1</td>\n",
       "      <td>24</td>\n",
       "      <td>1</td>\n",
       "      <td>3560</td>\n",
       "      <td>3560</td>\n",
       "      <td>&lt;NA&gt;</td>\n",
       "      <td>4</td>\n",
       "      <td>0</td>\n",
       "      <td>good</td>\n",
       "      <td>1979</td>\n",
       "    </tr>\n",
       "    <tr>\n",
       "      <th>15938</th>\n",
       "      <td>3000</td>\n",
       "      <td>apartment</td>\n",
       "      <td>kot</td>\n",
       "      <td>250000</td>\n",
       "      <td>for sale</td>\n",
       "      <td>1</td>\n",
       "      <td>31700</td>\n",
       "      <td>1</td>\n",
       "      <td>&lt;NA&gt;</td>\n",
       "      <td>0</td>\n",
       "      <td>1</td>\n",
       "      <td>&lt;NA&gt;</td>\n",
       "      <td>0</td>\n",
       "      <td>&lt;NA&gt;</td>\n",
       "      <td>&lt;NA&gt;</td>\n",
       "      <td>&lt;NA&gt;</td>\n",
       "      <td>&lt;NA&gt;</td>\n",
       "      <td>0</td>\n",
       "      <td>as new</td>\n",
       "      <td>&lt;NA&gt;</td>\n",
       "    </tr>\n",
       "    <tr>\n",
       "      <th>34082</th>\n",
       "      <td>7050</td>\n",
       "      <td>house</td>\n",
       "      <td>mixed use building</td>\n",
       "      <td>175000</td>\n",
       "      <td>for sale</td>\n",
       "      <td>2</td>\n",
       "      <td>1700</td>\n",
       "      <td>0</td>\n",
       "      <td>&lt;NA&gt;</td>\n",
       "      <td>0</td>\n",
       "      <td>0</td>\n",
       "      <td>&lt;NA&gt;</td>\n",
       "      <td>0</td>\n",
       "      <td>&lt;NA&gt;</td>\n",
       "      <td>1700</td>\n",
       "      <td>&lt;NA&gt;</td>\n",
       "      <td>4</td>\n",
       "      <td>0</td>\n",
       "      <td>to renovate</td>\n",
       "      <td>&lt;NA&gt;</td>\n",
       "    </tr>\n",
       "    <tr>\n",
       "      <th>35652</th>\n",
       "      <td>8400</td>\n",
       "      <td>house</td>\n",
       "      <td>house</td>\n",
       "      <td>219000</td>\n",
       "      <td>for sale</td>\n",
       "      <td>4</td>\n",
       "      <td>2019</td>\n",
       "      <td>0</td>\n",
       "      <td>&lt;NA&gt;</td>\n",
       "      <td>0</td>\n",
       "      <td>0</td>\n",
       "      <td>&lt;NA&gt;</td>\n",
       "      <td>0</td>\n",
       "      <td>&lt;NA&gt;</td>\n",
       "      <td>165</td>\n",
       "      <td>&lt;NA&gt;</td>\n",
       "      <td>2</td>\n",
       "      <td>0</td>\n",
       "      <td>NaN</td>\n",
       "      <td>&lt;NA&gt;</td>\n",
       "    </tr>\n",
       "    <tr>\n",
       "      <th>36287</th>\n",
       "      <td>4800</td>\n",
       "      <td>house</td>\n",
       "      <td>apartment block</td>\n",
       "      <td>250000</td>\n",
       "      <td>for sale</td>\n",
       "      <td>20</td>\n",
       "      <td>2400</td>\n",
       "      <td>0</td>\n",
       "      <td>&lt;NA&gt;</td>\n",
       "      <td>0</td>\n",
       "      <td>1</td>\n",
       "      <td>&lt;NA&gt;</td>\n",
       "      <td>0</td>\n",
       "      <td>&lt;NA&gt;</td>\n",
       "      <td>1667</td>\n",
       "      <td>&lt;NA&gt;</td>\n",
       "      <td>2</td>\n",
       "      <td>0</td>\n",
       "      <td>good</td>\n",
       "      <td>&lt;NA&gt;</td>\n",
       "    </tr>\n",
       "    <tr>\n",
       "      <th>39538</th>\n",
       "      <td>5670</td>\n",
       "      <td>house</td>\n",
       "      <td>apartment block</td>\n",
       "      <td>300000</td>\n",
       "      <td>for sale</td>\n",
       "      <td>0</td>\n",
       "      <td>2500</td>\n",
       "      <td>0</td>\n",
       "      <td>&lt;NA&gt;</td>\n",
       "      <td>0</td>\n",
       "      <td>0</td>\n",
       "      <td>&lt;NA&gt;</td>\n",
       "      <td>1</td>\n",
       "      <td>20000</td>\n",
       "      <td>&lt;NA&gt;</td>\n",
       "      <td>&lt;NA&gt;</td>\n",
       "      <td>4</td>\n",
       "      <td>0</td>\n",
       "      <td>NaN</td>\n",
       "      <td>&lt;NA&gt;</td>\n",
       "    </tr>\n",
       "    <tr>\n",
       "      <th>47024</th>\n",
       "      <td>6560</td>\n",
       "      <td>house</td>\n",
       "      <td>mixed use building</td>\n",
       "      <td>395000</td>\n",
       "      <td>for sale</td>\n",
       "      <td>6</td>\n",
       "      <td>1500</td>\n",
       "      <td>0</td>\n",
       "      <td>&lt;NA&gt;</td>\n",
       "      <td>0</td>\n",
       "      <td>0</td>\n",
       "      <td>&lt;NA&gt;</td>\n",
       "      <td>0</td>\n",
       "      <td>&lt;NA&gt;</td>\n",
       "      <td>0</td>\n",
       "      <td>&lt;NA&gt;</td>\n",
       "      <td>3</td>\n",
       "      <td>0</td>\n",
       "      <td>good</td>\n",
       "      <td>&lt;NA&gt;</td>\n",
       "    </tr>\n",
       "    <tr>\n",
       "      <th>47249</th>\n",
       "      <td>6698</td>\n",
       "      <td>house</td>\n",
       "      <td>country cottage</td>\n",
       "      <td>399000</td>\n",
       "      <td>for sale</td>\n",
       "      <td>0</td>\n",
       "      <td>2562</td>\n",
       "      <td>0</td>\n",
       "      <td>&lt;NA&gt;</td>\n",
       "      <td>0</td>\n",
       "      <td>0</td>\n",
       "      <td>&lt;NA&gt;</td>\n",
       "      <td>0</td>\n",
       "      <td>&lt;NA&gt;</td>\n",
       "      <td>&lt;NA&gt;</td>\n",
       "      <td>&lt;NA&gt;</td>\n",
       "      <td>4</td>\n",
       "      <td>0</td>\n",
       "      <td>NaN</td>\n",
       "      <td>&lt;NA&gt;</td>\n",
       "    </tr>\n",
       "    <tr>\n",
       "      <th>48899</th>\n",
       "      <td>7140</td>\n",
       "      <td>house</td>\n",
       "      <td>mixed use building</td>\n",
       "      <td>360000</td>\n",
       "      <td>for sale</td>\n",
       "      <td>0</td>\n",
       "      <td>1900</td>\n",
       "      <td>0</td>\n",
       "      <td>&lt;NA&gt;</td>\n",
       "      <td>0</td>\n",
       "      <td>1</td>\n",
       "      <td>&lt;NA&gt;</td>\n",
       "      <td>0</td>\n",
       "      <td>&lt;NA&gt;</td>\n",
       "      <td>0</td>\n",
       "      <td>&lt;NA&gt;</td>\n",
       "      <td>3</td>\n",
       "      <td>0</td>\n",
       "      <td>NaN</td>\n",
       "      <td>&lt;NA&gt;</td>\n",
       "    </tr>\n",
       "    <tr>\n",
       "      <th>48900</th>\n",
       "      <td>7140</td>\n",
       "      <td>house</td>\n",
       "      <td>apartment block</td>\n",
       "      <td>360000</td>\n",
       "      <td>for sale</td>\n",
       "      <td>0</td>\n",
       "      <td>1900</td>\n",
       "      <td>0</td>\n",
       "      <td>&lt;NA&gt;</td>\n",
       "      <td>0</td>\n",
       "      <td>1</td>\n",
       "      <td>&lt;NA&gt;</td>\n",
       "      <td>0</td>\n",
       "      <td>&lt;NA&gt;</td>\n",
       "      <td>0</td>\n",
       "      <td>&lt;NA&gt;</td>\n",
       "      <td>3</td>\n",
       "      <td>0</td>\n",
       "      <td>NaN</td>\n",
       "      <td>&lt;NA&gt;</td>\n",
       "    </tr>\n",
       "    <tr>\n",
       "      <th>48969</th>\n",
       "      <td>6200</td>\n",
       "      <td>house</td>\n",
       "      <td>mixed use building</td>\n",
       "      <td>399000</td>\n",
       "      <td>for sale</td>\n",
       "      <td>0</td>\n",
       "      <td>1525</td>\n",
       "      <td>0</td>\n",
       "      <td>&lt;NA&gt;</td>\n",
       "      <td>0</td>\n",
       "      <td>0</td>\n",
       "      <td>&lt;NA&gt;</td>\n",
       "      <td>0</td>\n",
       "      <td>&lt;NA&gt;</td>\n",
       "      <td>790</td>\n",
       "      <td>&lt;NA&gt;</td>\n",
       "      <td>2</td>\n",
       "      <td>0</td>\n",
       "      <td>good</td>\n",
       "      <td>&lt;NA&gt;</td>\n",
       "    </tr>\n",
       "  </tbody>\n",
       "</table>\n",
       "</div>"
      ],
      "text/plain": [
       "       locality type_of_property subtype_of_property   price type_of_sale  \\\n",
       "1801       4470            house               house  585000     for sale   \n",
       "1803       4470            house     apartment block  585000     for sale   \n",
       "2497       9600            house               house  650000     for sale   \n",
       "3563       2880            house         manor house  750000     for sale   \n",
       "15938      3000        apartment                 kot  250000     for sale   \n",
       "34082      7050            house  mixed use building  175000     for sale   \n",
       "35652      8400            house               house  219000     for sale   \n",
       "36287      4800            house     apartment block  250000     for sale   \n",
       "39538      5670            house     apartment block  300000     for sale   \n",
       "47024      6560            house  mixed use building  395000     for sale   \n",
       "47249      6698            house     country cottage  399000     for sale   \n",
       "48899      7140            house  mixed use building  360000     for sale   \n",
       "48900      7140            house     apartment block  360000     for sale   \n",
       "48969      6200            house  mixed use building  399000     for sale   \n",
       "\n",
       "       number_of_rooms  house_area  fully_equipped_kitchen  furnished  \\\n",
       "1801                18        1500                       1       <NA>   \n",
       "1803                18        1500                       1       <NA>   \n",
       "2497                 1        1640                       0       <NA>   \n",
       "3563                 3        3560                       1       <NA>   \n",
       "15938                1       31700                       1       <NA>   \n",
       "34082                2        1700                       0       <NA>   \n",
       "35652                4        2019                       0       <NA>   \n",
       "36287               20        2400                       0       <NA>   \n",
       "39538                0        2500                       0       <NA>   \n",
       "47024                6        1500                       0       <NA>   \n",
       "47249                0        2562                       0       <NA>   \n",
       "48899                0        1900                       0       <NA>   \n",
       "48900                0        1900                       0       <NA>   \n",
       "48969                0        1525                       0       <NA>   \n",
       "\n",
       "       open_fire  terrace  terrace_area  garden  garden_area  \\\n",
       "1801           0        1          <NA>       0         <NA>   \n",
       "1803           0        1          <NA>       0         <NA>   \n",
       "2497           0        0          <NA>       0         <NA>   \n",
       "3563           1        1            24       1         3560   \n",
       "15938          0        1          <NA>       0         <NA>   \n",
       "34082          0        0          <NA>       0         <NA>   \n",
       "35652          0        0          <NA>       0         <NA>   \n",
       "36287          0        1          <NA>       0         <NA>   \n",
       "39538          0        0          <NA>       1        20000   \n",
       "47024          0        0          <NA>       0         <NA>   \n",
       "47249          0        0          <NA>       0         <NA>   \n",
       "48899          0        1          <NA>       0         <NA>   \n",
       "48900          0        1          <NA>       0         <NA>   \n",
       "48969          0        0          <NA>       0         <NA>   \n",
       "\n",
       "       surface_of_the_land  surface_of_the_plot_of_land  number_of_facades  \\\n",
       "1801                  2500                         <NA>               <NA>   \n",
       "1803                  2500                         <NA>               <NA>   \n",
       "2497                  1640                         <NA>                  3   \n",
       "3563                  3560                         <NA>                  4   \n",
       "15938                 <NA>                         <NA>               <NA>   \n",
       "34082                 1700                         <NA>                  4   \n",
       "35652                  165                         <NA>                  2   \n",
       "36287                 1667                         <NA>                  2   \n",
       "39538                 <NA>                         <NA>                  4   \n",
       "47024                    0                         <NA>                  3   \n",
       "47249                 <NA>                         <NA>                  4   \n",
       "48899                    0                         <NA>                  3   \n",
       "48900                    0                         <NA>                  3   \n",
       "48969                  790                         <NA>                  2   \n",
       "\n",
       "       swimming_pool state_of_the_building  construction_year  \n",
       "1801               0            to restore               <NA>  \n",
       "1803               0            to restore               <NA>  \n",
       "2497               0                  good               1991  \n",
       "3563               0                  good               1979  \n",
       "15938              0                as new               <NA>  \n",
       "34082              0           to renovate               <NA>  \n",
       "35652              0                   NaN               <NA>  \n",
       "36287              0                  good               <NA>  \n",
       "39538              0                   NaN               <NA>  \n",
       "47024              0                  good               <NA>  \n",
       "47249              0                   NaN               <NA>  \n",
       "48899              0                   NaN               <NA>  \n",
       "48900              0                   NaN               <NA>  \n",
       "48969              0                  good               <NA>  "
      ]
     },
     "execution_count": 31,
     "metadata": {},
     "output_type": "execute_result"
    }
   ],
   "source": [
    "immo_data[immo_data['house_area']>=1500]"
   ]
  },
  {
   "cell_type": "markdown",
   "metadata": {
    "pycharm": {
     "name": "#%% md\n"
    }
   },
   "source": [
    "suggestion cleaning :  \n",
    "- 8 valeurs <= 5 m² --> as NaN ? \n",
    "- 15 valeurs >= 1500 m² --> as Nan ? "
   ]
  },
  {
   "cell_type": "markdown",
   "metadata": {},
   "source": [
    "Commande cleaning : "
   ]
  },
  {
   "cell_type": "code",
   "execution_count": 32,
   "metadata": {
    "pycharm": {
     "name": "#%%\n"
    }
   },
   "outputs": [
    {
     "data": {
      "text/plain": [
       "9280      11\n",
       "27613     13\n",
       "19957     13\n",
       "5343      14\n",
       "7098      14\n",
       "        ... \n",
       "4498     702\n",
       "2243     704\n",
       "4726     704\n",
       "3948     706\n",
       "2804     710\n",
       "Name: house_area, Length: 42225, dtype: int64"
      ]
     },
     "execution_count": 32,
     "metadata": {},
     "output_type": "execute_result"
    }
   ],
   "source": [
    "Mean_H_A = immo_data.house_area.mean()\n",
    "Std_H_A = immo_data.house_area.std()\n",
    "\n",
    "\n",
    "Drop_out_H_A = (immo_data['house_area']>5) & (immo_data['house_area']<(Mean_H_A + 3 * Std_H_A))\n",
    "immo_data['house_area'].loc[Drop_out_H_A].sort_values(ascending=True)"
   ]
  },
  {
   "cell_type": "code",
   "execution_count": 33,
   "metadata": {},
   "outputs": [
    {
     "data": {
      "text/plain": [
       "154.7230929003021"
      ]
     },
     "execution_count": 33,
     "metadata": {},
     "output_type": "execute_result"
    }
   ],
   "source": [
    "Mean_H_A\n"
   ]
  },
  {
   "cell_type": "code",
   "execution_count": 34,
   "metadata": {},
   "outputs": [
    {
     "data": {
      "text/plain": [
       "185.20674017046755"
      ]
     },
     "execution_count": 34,
     "metadata": {},
     "output_type": "execute_result"
    }
   ],
   "source": [
    "Std_H_A\n"
   ]
  },
  {
   "cell_type": "code",
   "execution_count": 35,
   "metadata": {},
   "outputs": [],
   "source": [
    "immo_data['house_area']=immo_data['house_area'].loc[Drop_out_H_A].sort_values(ascending=True)"
   ]
  },
  {
   "cell_type": "code",
   "execution_count": 36,
   "metadata": {},
   "outputs": [
    {
     "data": {
      "text/plain": [
       "143"
      ]
     },
     "execution_count": 36,
     "metadata": {},
     "output_type": "execute_result"
    }
   ],
   "source": [
    "immo_data['house_area'].isnull().sum()"
   ]
  },
  {
   "cell_type": "markdown",
   "metadata": {
    "pycharm": {
     "name": "#%% md\n"
    }
   },
   "source": [
    "### Fully equipped kitchen"
   ]
  },
  {
   "cell_type": "code",
   "execution_count": 37,
   "metadata": {
    "pycharm": {
     "name": "#%%\n"
    }
   },
   "outputs": [
    {
     "data": {
      "text/plain": [
       "1    29414\n",
       "0    12954\n",
       "Name: fully_equipped_kitchen, dtype: int64"
      ]
     },
     "execution_count": 37,
     "metadata": {},
     "output_type": "execute_result"
    }
   ],
   "source": [
    "immo_data.fully_equipped_kitchen.value_counts()"
   ]
  },
  {
   "cell_type": "markdown",
   "metadata": {
    "pycharm": {
     "name": "#%% md\n"
    }
   },
   "source": [
    "cleaning suggestion : \n",
    "- ok"
   ]
  },
  {
   "cell_type": "markdown",
   "metadata": {},
   "source": [
    "### Open fire"
   ]
  },
  {
   "cell_type": "code",
   "execution_count": 38,
   "metadata": {
    "pycharm": {
     "name": "#%%\n"
    }
   },
   "outputs": [
    {
     "data": {
      "text/plain": [
       "0    40168\n",
       "1     2200\n",
       "Name: open_fire, dtype: int64"
      ]
     },
     "execution_count": 38,
     "metadata": {},
     "output_type": "execute_result"
    }
   ],
   "source": [
    "immo_data.open_fire.value_counts()"
   ]
  },
  {
   "cell_type": "markdown",
   "metadata": {
    "pycharm": {
     "name": "#%% md\n"
    }
   },
   "source": [
    "cleaning suggestion :\n",
    "- ok"
   ]
  },
  {
   "cell_type": "markdown",
   "metadata": {},
   "source": [
    "### Terrace "
   ]
  },
  {
   "cell_type": "code",
   "execution_count": 39,
   "metadata": {
    "pycharm": {
     "name": "#%%\n"
    }
   },
   "outputs": [
    {
     "data": {
      "text/plain": [
       "1    25863\n",
       "0    16505\n",
       "Name: terrace, dtype: int64"
      ]
     },
     "execution_count": 39,
     "metadata": {},
     "output_type": "execute_result"
    }
   ],
   "source": [
    "immo_data.terrace.value_counts()"
   ]
  },
  {
   "cell_type": "markdown",
   "metadata": {
    "pycharm": {
     "name": "#%% md\n"
    }
   },
   "source": [
    "#### - Terrace area"
   ]
  },
  {
   "cell_type": "code",
   "execution_count": 40,
   "metadata": {
    "pycharm": {
     "name": "#%%\n"
    }
   },
   "outputs": [
    {
     "name": "stdout",
     "output_type": "stream",
     "text": [
      "max area terrace = 1150 m²\n",
      "min area terrace = 1 m²\n"
     ]
    }
   ],
   "source": [
    "print('max area terrace =',immo_data.terrace_area.max(),'m²')\n",
    "print('min area terrace =',immo_data.terrace_area.min(),'m²')"
   ]
  },
  {
   "cell_type": "code",
   "execution_count": 41,
   "metadata": {},
   "outputs": [
    {
     "data": {
      "text/plain": [
       "True     25869\n",
       "False    16499\n",
       "Name: terrace_area, dtype: int64"
      ]
     },
     "execution_count": 41,
     "metadata": {},
     "output_type": "execute_result"
    }
   ],
   "source": [
    "immo_data.terrace_area.isna().value_counts()"
   ]
  },
  {
   "cell_type": "markdown",
   "metadata": {
    "pycharm": {
     "name": "#%% md\n"
    }
   },
   "source": [
    "- 16499 terrace area out of 28622 terrace entries"
   ]
  },
  {
   "cell_type": "code",
   "execution_count": 42,
   "metadata": {
    "pycharm": {
     "name": "#%%\n"
    }
   },
   "outputs": [
    {
     "data": {
      "text/plain": [
       "253"
      ]
     },
     "execution_count": 42,
     "metadata": {},
     "output_type": "execute_result"
    }
   ],
   "source": [
    "terrace_area_over100 = immo_data[immo_data['terrace_area'] > 100] \n",
    "len(terrace_area_over100)"
   ]
  },
  {
   "cell_type": "code",
   "execution_count": 43,
   "metadata": {},
   "outputs": [
    {
     "name": "stdout",
     "output_type": "stream",
     "text": [
      "74 terraces of 1 m²\n",
      "5 houses with 1 m² terrace\n",
      "69 apparts with 1 m² terrace\n"
     ]
    }
   ],
   "source": [
    "mask = immo_data['terrace_area'] == 1\n",
    "terrace_area_1 = immo_data[mask]\n",
    "print(len(terrace_area_1),'terraces of 1 m²')\n",
    "terrace_area_house = terrace_area_1.query('type_of_property == \"house\"')\n",
    "print(len(terrace_area_house),'houses with 1 m² terrace')\n",
    "terrace_area_appart = terrace_area_1.query('type_of_property == \"apartment\"')\n",
    "print(len(terrace_area_appart),'apparts with 1 m² terrace')"
   ]
  },
  {
   "cell_type": "markdown",
   "metadata": {
    "pycharm": {
     "name": "#%% md\n"
    }
   },
   "source": [
    "cleaning suggestion :\n",
    "- keep the 74 1m² terrace ? "
   ]
  },
  {
   "cell_type": "code",
   "execution_count": 44,
   "metadata": {
    "pycharm": {
     "name": "#%%\n"
    }
   },
   "outputs": [
    {
     "data": {
      "text/plain": [
       "5114       1\n",
       "47852      1\n",
       "15872      1\n",
       "7214       1\n",
       "15653      1\n",
       "        ... \n",
       "25762    114\n",
       "27504    115\n",
       "3318     115\n",
       "2661     115\n",
       "15274    115\n",
       "Name: terrace_area, Length: 16295, dtype: Int64"
      ]
     },
     "execution_count": 44,
     "metadata": {},
     "output_type": "execute_result"
    }
   ],
   "source": [
    "Mean_T_A = immo_data.terrace_area.mean()\n",
    "Std_T_A = immo_data.terrace_area.std()\n",
    "\n",
    "\n",
    "Drop_out_T_A = (immo_data['terrace_area']>0) & (immo_data['terrace_area']<(Mean_T_A + 3 * Std_T_A))\n",
    "immo_data['terrace_area'].loc[Drop_out_T_A].sort_values(ascending=True)"
   ]
  },
  {
   "cell_type": "code",
   "execution_count": 45,
   "metadata": {},
   "outputs": [
    {
     "data": {
      "text/plain": [
       "23.755924601491"
      ]
     },
     "execution_count": 45,
     "metadata": {},
     "output_type": "execute_result"
    }
   ],
   "source": [
    "Mean_T_A"
   ]
  },
  {
   "cell_type": "code",
   "execution_count": 46,
   "metadata": {},
   "outputs": [
    {
     "data": {
      "text/plain": [
       "30.492788743829507"
      ]
     },
     "execution_count": 46,
     "metadata": {},
     "output_type": "execute_result"
    }
   ],
   "source": [
    "Std_T_A"
   ]
  },
  {
   "cell_type": "code",
   "execution_count": 47,
   "metadata": {},
   "outputs": [],
   "source": [
    "immo_data['terrace_area']= immo_data['terrace_area'].loc[Drop_out_T_A].sort_values(ascending=True)"
   ]
  },
  {
   "cell_type": "code",
   "execution_count": 48,
   "metadata": {},
   "outputs": [
    {
     "data": {
      "text/plain": [
       "26073"
      ]
     },
     "execution_count": 48,
     "metadata": {},
     "output_type": "execute_result"
    }
   ],
   "source": [
    "immo_data['terrace_area'].isnull().sum()"
   ]
  },
  {
   "cell_type": "markdown",
   "metadata": {
    "pycharm": {
     "name": "#%% md\n"
    }
   },
   "source": [
    "### Garden"
   ]
  },
  {
   "cell_type": "code",
   "execution_count": 49,
   "metadata": {
    "pycharm": {
     "name": "#%%\n"
    }
   },
   "outputs": [
    {
     "data": {
      "text/plain": [
       "0    28997\n",
       "1    13371\n",
       "Name: garden, dtype: int64"
      ]
     },
     "execution_count": 49,
     "metadata": {},
     "output_type": "execute_result"
    }
   ],
   "source": [
    "immo_data.garden.value_counts()"
   ]
  },
  {
   "cell_type": "markdown",
   "metadata": {
    "pycharm": {
     "name": "#%% md\n"
    }
   },
   "source": [
    "#### - Garden area"
   ]
  },
  {
   "cell_type": "code",
   "execution_count": 50,
   "metadata": {
    "pycharm": {
     "name": "#%%\n"
    }
   },
   "outputs": [
    {
     "data": {
      "text/plain": [
       "True     34403\n",
       "False     7965\n",
       "Name: garden_area, dtype: int64"
      ]
     },
     "execution_count": 50,
     "metadata": {},
     "output_type": "execute_result"
    }
   ],
   "source": [
    "immo_data.garden_area.isna().value_counts()"
   ]
  },
  {
   "cell_type": "markdown",
   "metadata": {
    "pycharm": {
     "name": "#%% md\n"
    }
   },
   "source": [
    "- 7965 gardens area out of 14826 gardens entries"
   ]
  },
  {
   "cell_type": "code",
   "execution_count": 51,
   "metadata": {
    "pycharm": {
     "name": "#%%\n"
    }
   },
   "outputs": [
    {
     "name": "stdout",
     "output_type": "stream",
     "text": [
      "max area garden is 312600 m²\n",
      "min area garden is 1 m²\n"
     ]
    }
   ],
   "source": [
    "print('max area garden is', int(immo_data.garden_area.max()),'m²')\n",
    "print('min area garden is', int(immo_data.garden_area.min()),'m²')"
   ]
  },
  {
   "cell_type": "code",
   "execution_count": 52,
   "metadata": {},
   "outputs": [
    {
     "name": "stdout",
     "output_type": "stream",
     "text": [
      "61 with 1 m² garden area\n"
     ]
    }
   ],
   "source": [
    "garden_area_1 = immo_data[immo_data['garden_area'] == 1]\n",
    "print(len(garden_area_1),'with 1 m² garden area')"
   ]
  },
  {
   "cell_type": "code",
   "execution_count": 53,
   "metadata": {},
   "outputs": [
    {
     "data": {
      "text/plain": [
       "9350         2\n",
       "40228        2\n",
       "31933        2\n",
       "38766        2\n",
       "44928        3\n",
       "         ...  \n",
       "48730    12060\n",
       "1201     12906\n",
       "2901     13000\n",
       "4300     13000\n",
       "39864    13750\n",
       "Name: garden_area, Length: 7866, dtype: Int64"
      ]
     },
     "execution_count": 53,
     "metadata": {},
     "output_type": "execute_result"
    }
   ],
   "source": [
    "Mean_G_A = immo_data.garden_area.mean()\n",
    "Std_G_A = immo_data.garden_area.std()\n",
    "\n",
    "\n",
    "Drop_out_G_A = (immo_data['garden_area']>1) & (immo_data['garden_area']<(Mean_G_A + 3 * Std_G_A))\n",
    "immo_data['garden_area'].loc[Drop_out_G_A].sort_values(ascending=True)"
   ]
  },
  {
   "cell_type": "code",
   "execution_count": 54,
   "metadata": {},
   "outputs": [
    {
     "data": {
      "text/plain": [
       "712.3819209039548"
      ]
     },
     "execution_count": 54,
     "metadata": {},
     "output_type": "execute_result"
    }
   ],
   "source": [
    "Mean_G_A"
   ]
  },
  {
   "cell_type": "code",
   "execution_count": 55,
   "metadata": {},
   "outputs": [
    {
     "data": {
      "text/plain": [
       "4407.118986959401"
      ]
     },
     "execution_count": 55,
     "metadata": {},
     "output_type": "execute_result"
    }
   ],
   "source": [
    "Std_G_A"
   ]
  },
  {
   "cell_type": "code",
   "execution_count": 56,
   "metadata": {},
   "outputs": [],
   "source": [
    "immo_data['garden_area']=immo_data['garden_area'].loc[Drop_out_G_A].sort_values(ascending=True)"
   ]
  },
  {
   "cell_type": "code",
   "execution_count": 57,
   "metadata": {},
   "outputs": [
    {
     "data": {
      "text/plain": [
       "34502"
      ]
     },
     "execution_count": 57,
     "metadata": {},
     "output_type": "execute_result"
    }
   ],
   "source": [
    "immo_data.garden_area.isnull().sum()"
   ]
  },
  {
   "cell_type": "markdown",
   "metadata": {
    "pycharm": {
     "name": "#%% md\n"
    }
   },
   "source": [
    "## Removing the impractical columns"
   ]
  },
  {
   "cell_type": "code",
   "execution_count": 58,
   "metadata": {
    "pycharm": {
     "name": "#%%\n"
    }
   },
   "outputs": [
    {
     "data": {
      "text/html": [
       "<div>\n",
       "<style scoped>\n",
       "    .dataframe tbody tr th:only-of-type {\n",
       "        vertical-align: middle;\n",
       "    }\n",
       "\n",
       "    .dataframe tbody tr th {\n",
       "        vertical-align: top;\n",
       "    }\n",
       "\n",
       "    .dataframe thead th {\n",
       "        text-align: right;\n",
       "    }\n",
       "</style>\n",
       "<table border=\"1\" class=\"dataframe\">\n",
       "  <thead>\n",
       "    <tr style=\"text-align: right;\">\n",
       "      <th></th>\n",
       "      <th>locality</th>\n",
       "      <th>type_of_property</th>\n",
       "      <th>subtype_of_property</th>\n",
       "      <th>price</th>\n",
       "      <th>number_of_rooms</th>\n",
       "      <th>house_area</th>\n",
       "      <th>fully_equipped_kitchen</th>\n",
       "      <th>open_fire</th>\n",
       "      <th>terrace</th>\n",
       "      <th>terrace_area</th>\n",
       "      <th>garden</th>\n",
       "      <th>garden_area</th>\n",
       "      <th>surface_of_the_land</th>\n",
       "      <th>number_of_facades</th>\n",
       "      <th>swimming_pool</th>\n",
       "      <th>state_of_the_building</th>\n",
       "      <th>construction_year</th>\n",
       "    </tr>\n",
       "  </thead>\n",
       "  <tbody>\n",
       "    <tr>\n",
       "      <th>0</th>\n",
       "      <td>1050</td>\n",
       "      <td>house</td>\n",
       "      <td>house</td>\n",
       "      <td>340000</td>\n",
       "      <td>6</td>\n",
       "      <td>203.0</td>\n",
       "      <td>1</td>\n",
       "      <td>0</td>\n",
       "      <td>1</td>\n",
       "      <td>&lt;NA&gt;</td>\n",
       "      <td>0</td>\n",
       "      <td>&lt;NA&gt;</td>\n",
       "      <td>95</td>\n",
       "      <td>2</td>\n",
       "      <td>0</td>\n",
       "      <td>to be done up</td>\n",
       "      <td>1901</td>\n",
       "    </tr>\n",
       "    <tr>\n",
       "      <th>1</th>\n",
       "      <td>1880</td>\n",
       "      <td>house</td>\n",
       "      <td>villa</td>\n",
       "      <td>525000</td>\n",
       "      <td>6</td>\n",
       "      <td>250.0</td>\n",
       "      <td>1</td>\n",
       "      <td>0</td>\n",
       "      <td>1</td>\n",
       "      <td>40</td>\n",
       "      <td>1</td>\n",
       "      <td>430</td>\n",
       "      <td>826</td>\n",
       "      <td>4</td>\n",
       "      <td>0</td>\n",
       "      <td>as new</td>\n",
       "      <td>1992</td>\n",
       "    </tr>\n",
       "    <tr>\n",
       "      <th>2</th>\n",
       "      <td>4900</td>\n",
       "      <td>house</td>\n",
       "      <td>exceptional property</td>\n",
       "      <td>550000</td>\n",
       "      <td>11</td>\n",
       "      <td>475.0</td>\n",
       "      <td>1</td>\n",
       "      <td>0</td>\n",
       "      <td>1</td>\n",
       "      <td>&lt;NA&gt;</td>\n",
       "      <td>1</td>\n",
       "      <td>1400</td>\n",
       "      <td>1543</td>\n",
       "      <td>4</td>\n",
       "      <td>0</td>\n",
       "      <td>good</td>\n",
       "      <td>1853</td>\n",
       "    </tr>\n",
       "    <tr>\n",
       "      <th>3</th>\n",
       "      <td>7912</td>\n",
       "      <td>house</td>\n",
       "      <td>villa</td>\n",
       "      <td>550000</td>\n",
       "      <td>4</td>\n",
       "      <td>325.0</td>\n",
       "      <td>1</td>\n",
       "      <td>0</td>\n",
       "      <td>1</td>\n",
       "      <td>&lt;NA&gt;</td>\n",
       "      <td>1</td>\n",
       "      <td>2333</td>\n",
       "      <td>3570</td>\n",
       "      <td>4</td>\n",
       "      <td>0</td>\n",
       "      <td>good</td>\n",
       "      <td>1918</td>\n",
       "    </tr>\n",
       "    <tr>\n",
       "      <th>4</th>\n",
       "      <td>6032</td>\n",
       "      <td>house</td>\n",
       "      <td>house</td>\n",
       "      <td>550000</td>\n",
       "      <td>5</td>\n",
       "      <td>400.0</td>\n",
       "      <td>1</td>\n",
       "      <td>0</td>\n",
       "      <td>1</td>\n",
       "      <td>80</td>\n",
       "      <td>1</td>\n",
       "      <td>500</td>\n",
       "      <td>616</td>\n",
       "      <td>3</td>\n",
       "      <td>0</td>\n",
       "      <td>as new</td>\n",
       "      <td>1977</td>\n",
       "    </tr>\n",
       "    <tr>\n",
       "      <th>...</th>\n",
       "      <td>...</td>\n",
       "      <td>...</td>\n",
       "      <td>...</td>\n",
       "      <td>...</td>\n",
       "      <td>...</td>\n",
       "      <td>...</td>\n",
       "      <td>...</td>\n",
       "      <td>...</td>\n",
       "      <td>...</td>\n",
       "      <td>...</td>\n",
       "      <td>...</td>\n",
       "      <td>...</td>\n",
       "      <td>...</td>\n",
       "      <td>...</td>\n",
       "      <td>...</td>\n",
       "      <td>...</td>\n",
       "      <td>...</td>\n",
       "    </tr>\n",
       "    <tr>\n",
       "      <th>52058</th>\n",
       "      <td>2310</td>\n",
       "      <td>house</td>\n",
       "      <td>house</td>\n",
       "      <td>468000</td>\n",
       "      <td>3</td>\n",
       "      <td>180.0</td>\n",
       "      <td>1</td>\n",
       "      <td>0</td>\n",
       "      <td>0</td>\n",
       "      <td>&lt;NA&gt;</td>\n",
       "      <td>0</td>\n",
       "      <td>&lt;NA&gt;</td>\n",
       "      <td>0</td>\n",
       "      <td>4</td>\n",
       "      <td>0</td>\n",
       "      <td>NaN</td>\n",
       "      <td>&lt;NA&gt;</td>\n",
       "    </tr>\n",
       "    <tr>\n",
       "      <th>52063</th>\n",
       "      <td>1800</td>\n",
       "      <td>house</td>\n",
       "      <td>house</td>\n",
       "      <td>454993</td>\n",
       "      <td>3</td>\n",
       "      <td>169.0</td>\n",
       "      <td>0</td>\n",
       "      <td>0</td>\n",
       "      <td>0</td>\n",
       "      <td>&lt;NA&gt;</td>\n",
       "      <td>0</td>\n",
       "      <td>&lt;NA&gt;</td>\n",
       "      <td>389</td>\n",
       "      <td>3</td>\n",
       "      <td>0</td>\n",
       "      <td>NaN</td>\n",
       "      <td>&lt;NA&gt;</td>\n",
       "    </tr>\n",
       "    <tr>\n",
       "      <th>52065</th>\n",
       "      <td>3530</td>\n",
       "      <td>house</td>\n",
       "      <td>villa</td>\n",
       "      <td>475000</td>\n",
       "      <td>3</td>\n",
       "      <td>222.0</td>\n",
       "      <td>0</td>\n",
       "      <td>0</td>\n",
       "      <td>0</td>\n",
       "      <td>&lt;NA&gt;</td>\n",
       "      <td>0</td>\n",
       "      <td>&lt;NA&gt;</td>\n",
       "      <td>1124</td>\n",
       "      <td>4</td>\n",
       "      <td>0</td>\n",
       "      <td>NaN</td>\n",
       "      <td>&lt;NA&gt;</td>\n",
       "    </tr>\n",
       "    <tr>\n",
       "      <th>52068</th>\n",
       "      <td>6700</td>\n",
       "      <td>house</td>\n",
       "      <td>mansion</td>\n",
       "      <td>475000</td>\n",
       "      <td>9</td>\n",
       "      <td>240.0</td>\n",
       "      <td>0</td>\n",
       "      <td>0</td>\n",
       "      <td>0</td>\n",
       "      <td>&lt;NA&gt;</td>\n",
       "      <td>0</td>\n",
       "      <td>&lt;NA&gt;</td>\n",
       "      <td>200</td>\n",
       "      <td>2</td>\n",
       "      <td>0</td>\n",
       "      <td>NaN</td>\n",
       "      <td>&lt;NA&gt;</td>\n",
       "    </tr>\n",
       "    <tr>\n",
       "      <th>52074</th>\n",
       "      <td>2018</td>\n",
       "      <td>house</td>\n",
       "      <td>house</td>\n",
       "      <td>488000</td>\n",
       "      <td>3</td>\n",
       "      <td>145.0</td>\n",
       "      <td>0</td>\n",
       "      <td>0</td>\n",
       "      <td>0</td>\n",
       "      <td>&lt;NA&gt;</td>\n",
       "      <td>1</td>\n",
       "      <td>48</td>\n",
       "      <td>0</td>\n",
       "      <td>3</td>\n",
       "      <td>0</td>\n",
       "      <td>NaN</td>\n",
       "      <td>&lt;NA&gt;</td>\n",
       "    </tr>\n",
       "  </tbody>\n",
       "</table>\n",
       "<p>42368 rows × 17 columns</p>\n",
       "</div>"
      ],
      "text/plain": [
       "       locality type_of_property   subtype_of_property   price  \\\n",
       "0          1050            house                 house  340000   \n",
       "1          1880            house                 villa  525000   \n",
       "2          4900            house  exceptional property  550000   \n",
       "3          7912            house                 villa  550000   \n",
       "4          6032            house                 house  550000   \n",
       "...         ...              ...                   ...     ...   \n",
       "52058      2310            house                 house  468000   \n",
       "52063      1800            house                 house  454993   \n",
       "52065      3530            house                 villa  475000   \n",
       "52068      6700            house               mansion  475000   \n",
       "52074      2018            house                 house  488000   \n",
       "\n",
       "       number_of_rooms  house_area  fully_equipped_kitchen  open_fire  \\\n",
       "0                    6       203.0                       1          0   \n",
       "1                    6       250.0                       1          0   \n",
       "2                   11       475.0                       1          0   \n",
       "3                    4       325.0                       1          0   \n",
       "4                    5       400.0                       1          0   \n",
       "...                ...         ...                     ...        ...   \n",
       "52058                3       180.0                       1          0   \n",
       "52063                3       169.0                       0          0   \n",
       "52065                3       222.0                       0          0   \n",
       "52068                9       240.0                       0          0   \n",
       "52074                3       145.0                       0          0   \n",
       "\n",
       "       terrace  terrace_area  garden  garden_area  surface_of_the_land  \\\n",
       "0            1          <NA>       0         <NA>                   95   \n",
       "1            1            40       1          430                  826   \n",
       "2            1          <NA>       1         1400                 1543   \n",
       "3            1          <NA>       1         2333                 3570   \n",
       "4            1            80       1          500                  616   \n",
       "...        ...           ...     ...          ...                  ...   \n",
       "52058        0          <NA>       0         <NA>                    0   \n",
       "52063        0          <NA>       0         <NA>                  389   \n",
       "52065        0          <NA>       0         <NA>                 1124   \n",
       "52068        0          <NA>       0         <NA>                  200   \n",
       "52074        0          <NA>       1           48                    0   \n",
       "\n",
       "       number_of_facades  swimming_pool state_of_the_building  \\\n",
       "0                      2              0         to be done up   \n",
       "1                      4              0                as new   \n",
       "2                      4              0                  good   \n",
       "3                      4              0                  good   \n",
       "4                      3              0                as new   \n",
       "...                  ...            ...                   ...   \n",
       "52058                  4              0                   NaN   \n",
       "52063                  3              0                   NaN   \n",
       "52065                  4              0                   NaN   \n",
       "52068                  2              0                   NaN   \n",
       "52074                  3              0                   NaN   \n",
       "\n",
       "       construction_year  \n",
       "0                   1901  \n",
       "1                   1992  \n",
       "2                   1853  \n",
       "3                   1918  \n",
       "4                   1977  \n",
       "...                  ...  \n",
       "52058               <NA>  \n",
       "52063               <NA>  \n",
       "52065               <NA>  \n",
       "52068               <NA>  \n",
       "52074               <NA>  \n",
       "\n",
       "[42368 rows x 17 columns]"
      ]
     },
     "execution_count": 58,
     "metadata": {},
     "output_type": "execute_result"
    }
   ],
   "source": [
    "immo_data.drop(labels='type_of_sale', axis=1, inplace=True)\n",
    "immo_data.drop(labels='furnished', axis=1, inplace=True)\n",
    "immo_data.drop(labels='surface_of_the_plot_of_land', axis=1, inplace=True)\n",
    "immo_data"
   ]
  },
  {
   "cell_type": "markdown",
   "metadata": {
    "pycharm": {
     "name": "#%% md\n"
    }
   },
   "source": [
    "## Removing houses without house_area AND surface_ofthe_land "
   ]
  },
  {
   "cell_type": "code",
   "execution_count": 59,
   "metadata": {
    "pycharm": {
     "name": "#%%\n"
    }
   },
   "outputs": [
    {
     "data": {
      "text/plain": [
       "42368"
      ]
     },
     "execution_count": 59,
     "metadata": {},
     "output_type": "execute_result"
    }
   ],
   "source": [
    "len(immo_data)"
   ]
  },
  {
   "cell_type": "code",
   "execution_count": 60,
   "metadata": {},
   "outputs": [
    {
     "data": {
      "text/plain": [
       "143"
      ]
     },
     "execution_count": 60,
     "metadata": {},
     "output_type": "execute_result"
    }
   ],
   "source": [
    "immo_data.house_area.isnull().sum()"
   ]
  },
  {
   "cell_type": "code",
   "execution_count": 61,
   "metadata": {},
   "outputs": [
    {
     "data": {
      "text/plain": [
       "20003"
      ]
     },
     "execution_count": 61,
     "metadata": {},
     "output_type": "execute_result"
    }
   ],
   "source": [
    "immo_data.surface_of_the_land.isnull().sum()"
   ]
  },
  {
   "cell_type": "code",
   "execution_count": 62,
   "metadata": {
    "scrolled": true
   },
   "outputs": [
    {
     "data": {
      "text/plain": [
       "0    22238\n",
       "1    20114\n",
       "2       16\n",
       "dtype: int64"
      ]
     },
     "execution_count": 62,
     "metadata": {},
     "output_type": "execute_result"
    }
   ],
   "source": [
    "immo_data[['house_area','surface_of_the_land']].isnull().sum(axis=1).value_counts()"
   ]
  },
  {
   "cell_type": "code",
   "execution_count": 63,
   "metadata": {},
   "outputs": [
    {
     "data": {
      "text/html": [
       "<div>\n",
       "<style scoped>\n",
       "    .dataframe tbody tr th:only-of-type {\n",
       "        vertical-align: middle;\n",
       "    }\n",
       "\n",
       "    .dataframe tbody tr th {\n",
       "        vertical-align: top;\n",
       "    }\n",
       "\n",
       "    .dataframe thead th {\n",
       "        text-align: right;\n",
       "    }\n",
       "</style>\n",
       "<table border=\"1\" class=\"dataframe\">\n",
       "  <thead>\n",
       "    <tr style=\"text-align: right;\">\n",
       "      <th></th>\n",
       "      <th>locality</th>\n",
       "      <th>type_of_property</th>\n",
       "      <th>subtype_of_property</th>\n",
       "      <th>price</th>\n",
       "      <th>number_of_rooms</th>\n",
       "      <th>house_area</th>\n",
       "      <th>fully_equipped_kitchen</th>\n",
       "      <th>open_fire</th>\n",
       "      <th>terrace</th>\n",
       "      <th>terrace_area</th>\n",
       "      <th>garden</th>\n",
       "      <th>garden_area</th>\n",
       "      <th>surface_of_the_land</th>\n",
       "      <th>number_of_facades</th>\n",
       "      <th>swimming_pool</th>\n",
       "      <th>state_of_the_building</th>\n",
       "      <th>construction_year</th>\n",
       "    </tr>\n",
       "  </thead>\n",
       "  <tbody>\n",
       "    <tr>\n",
       "      <th>0</th>\n",
       "      <td>1050</td>\n",
       "      <td>house</td>\n",
       "      <td>house</td>\n",
       "      <td>340000</td>\n",
       "      <td>6</td>\n",
       "      <td>203.0</td>\n",
       "      <td>1</td>\n",
       "      <td>0</td>\n",
       "      <td>1</td>\n",
       "      <td>&lt;NA&gt;</td>\n",
       "      <td>0</td>\n",
       "      <td>&lt;NA&gt;</td>\n",
       "      <td>95</td>\n",
       "      <td>2</td>\n",
       "      <td>0</td>\n",
       "      <td>to be done up</td>\n",
       "      <td>1901</td>\n",
       "    </tr>\n",
       "    <tr>\n",
       "      <th>1</th>\n",
       "      <td>1880</td>\n",
       "      <td>house</td>\n",
       "      <td>villa</td>\n",
       "      <td>525000</td>\n",
       "      <td>6</td>\n",
       "      <td>250.0</td>\n",
       "      <td>1</td>\n",
       "      <td>0</td>\n",
       "      <td>1</td>\n",
       "      <td>40</td>\n",
       "      <td>1</td>\n",
       "      <td>430</td>\n",
       "      <td>826</td>\n",
       "      <td>4</td>\n",
       "      <td>0</td>\n",
       "      <td>as new</td>\n",
       "      <td>1992</td>\n",
       "    </tr>\n",
       "    <tr>\n",
       "      <th>2</th>\n",
       "      <td>4900</td>\n",
       "      <td>house</td>\n",
       "      <td>exceptional property</td>\n",
       "      <td>550000</td>\n",
       "      <td>11</td>\n",
       "      <td>475.0</td>\n",
       "      <td>1</td>\n",
       "      <td>0</td>\n",
       "      <td>1</td>\n",
       "      <td>&lt;NA&gt;</td>\n",
       "      <td>1</td>\n",
       "      <td>1400</td>\n",
       "      <td>1543</td>\n",
       "      <td>4</td>\n",
       "      <td>0</td>\n",
       "      <td>good</td>\n",
       "      <td>1853</td>\n",
       "    </tr>\n",
       "    <tr>\n",
       "      <th>3</th>\n",
       "      <td>7912</td>\n",
       "      <td>house</td>\n",
       "      <td>villa</td>\n",
       "      <td>550000</td>\n",
       "      <td>4</td>\n",
       "      <td>325.0</td>\n",
       "      <td>1</td>\n",
       "      <td>0</td>\n",
       "      <td>1</td>\n",
       "      <td>&lt;NA&gt;</td>\n",
       "      <td>1</td>\n",
       "      <td>2333</td>\n",
       "      <td>3570</td>\n",
       "      <td>4</td>\n",
       "      <td>0</td>\n",
       "      <td>good</td>\n",
       "      <td>1918</td>\n",
       "    </tr>\n",
       "    <tr>\n",
       "      <th>4</th>\n",
       "      <td>6032</td>\n",
       "      <td>house</td>\n",
       "      <td>house</td>\n",
       "      <td>550000</td>\n",
       "      <td>5</td>\n",
       "      <td>400.0</td>\n",
       "      <td>1</td>\n",
       "      <td>0</td>\n",
       "      <td>1</td>\n",
       "      <td>80</td>\n",
       "      <td>1</td>\n",
       "      <td>500</td>\n",
       "      <td>616</td>\n",
       "      <td>3</td>\n",
       "      <td>0</td>\n",
       "      <td>as new</td>\n",
       "      <td>1977</td>\n",
       "    </tr>\n",
       "    <tr>\n",
       "      <th>...</th>\n",
       "      <td>...</td>\n",
       "      <td>...</td>\n",
       "      <td>...</td>\n",
       "      <td>...</td>\n",
       "      <td>...</td>\n",
       "      <td>...</td>\n",
       "      <td>...</td>\n",
       "      <td>...</td>\n",
       "      <td>...</td>\n",
       "      <td>...</td>\n",
       "      <td>...</td>\n",
       "      <td>...</td>\n",
       "      <td>...</td>\n",
       "      <td>...</td>\n",
       "      <td>...</td>\n",
       "      <td>...</td>\n",
       "      <td>...</td>\n",
       "    </tr>\n",
       "    <tr>\n",
       "      <th>52058</th>\n",
       "      <td>2310</td>\n",
       "      <td>house</td>\n",
       "      <td>house</td>\n",
       "      <td>468000</td>\n",
       "      <td>3</td>\n",
       "      <td>180.0</td>\n",
       "      <td>1</td>\n",
       "      <td>0</td>\n",
       "      <td>0</td>\n",
       "      <td>&lt;NA&gt;</td>\n",
       "      <td>0</td>\n",
       "      <td>&lt;NA&gt;</td>\n",
       "      <td>0</td>\n",
       "      <td>4</td>\n",
       "      <td>0</td>\n",
       "      <td>NaN</td>\n",
       "      <td>&lt;NA&gt;</td>\n",
       "    </tr>\n",
       "    <tr>\n",
       "      <th>52063</th>\n",
       "      <td>1800</td>\n",
       "      <td>house</td>\n",
       "      <td>house</td>\n",
       "      <td>454993</td>\n",
       "      <td>3</td>\n",
       "      <td>169.0</td>\n",
       "      <td>0</td>\n",
       "      <td>0</td>\n",
       "      <td>0</td>\n",
       "      <td>&lt;NA&gt;</td>\n",
       "      <td>0</td>\n",
       "      <td>&lt;NA&gt;</td>\n",
       "      <td>389</td>\n",
       "      <td>3</td>\n",
       "      <td>0</td>\n",
       "      <td>NaN</td>\n",
       "      <td>&lt;NA&gt;</td>\n",
       "    </tr>\n",
       "    <tr>\n",
       "      <th>52065</th>\n",
       "      <td>3530</td>\n",
       "      <td>house</td>\n",
       "      <td>villa</td>\n",
       "      <td>475000</td>\n",
       "      <td>3</td>\n",
       "      <td>222.0</td>\n",
       "      <td>0</td>\n",
       "      <td>0</td>\n",
       "      <td>0</td>\n",
       "      <td>&lt;NA&gt;</td>\n",
       "      <td>0</td>\n",
       "      <td>&lt;NA&gt;</td>\n",
       "      <td>1124</td>\n",
       "      <td>4</td>\n",
       "      <td>0</td>\n",
       "      <td>NaN</td>\n",
       "      <td>&lt;NA&gt;</td>\n",
       "    </tr>\n",
       "    <tr>\n",
       "      <th>52068</th>\n",
       "      <td>6700</td>\n",
       "      <td>house</td>\n",
       "      <td>mansion</td>\n",
       "      <td>475000</td>\n",
       "      <td>9</td>\n",
       "      <td>240.0</td>\n",
       "      <td>0</td>\n",
       "      <td>0</td>\n",
       "      <td>0</td>\n",
       "      <td>&lt;NA&gt;</td>\n",
       "      <td>0</td>\n",
       "      <td>&lt;NA&gt;</td>\n",
       "      <td>200</td>\n",
       "      <td>2</td>\n",
       "      <td>0</td>\n",
       "      <td>NaN</td>\n",
       "      <td>&lt;NA&gt;</td>\n",
       "    </tr>\n",
       "    <tr>\n",
       "      <th>52074</th>\n",
       "      <td>2018</td>\n",
       "      <td>house</td>\n",
       "      <td>house</td>\n",
       "      <td>488000</td>\n",
       "      <td>3</td>\n",
       "      <td>145.0</td>\n",
       "      <td>0</td>\n",
       "      <td>0</td>\n",
       "      <td>0</td>\n",
       "      <td>&lt;NA&gt;</td>\n",
       "      <td>1</td>\n",
       "      <td>48</td>\n",
       "      <td>0</td>\n",
       "      <td>3</td>\n",
       "      <td>0</td>\n",
       "      <td>NaN</td>\n",
       "      <td>&lt;NA&gt;</td>\n",
       "    </tr>\n",
       "  </tbody>\n",
       "</table>\n",
       "<p>42352 rows × 17 columns</p>\n",
       "</div>"
      ],
      "text/plain": [
       "       locality type_of_property   subtype_of_property   price  \\\n",
       "0          1050            house                 house  340000   \n",
       "1          1880            house                 villa  525000   \n",
       "2          4900            house  exceptional property  550000   \n",
       "3          7912            house                 villa  550000   \n",
       "4          6032            house                 house  550000   \n",
       "...         ...              ...                   ...     ...   \n",
       "52058      2310            house                 house  468000   \n",
       "52063      1800            house                 house  454993   \n",
       "52065      3530            house                 villa  475000   \n",
       "52068      6700            house               mansion  475000   \n",
       "52074      2018            house                 house  488000   \n",
       "\n",
       "       number_of_rooms  house_area  fully_equipped_kitchen  open_fire  \\\n",
       "0                    6       203.0                       1          0   \n",
       "1                    6       250.0                       1          0   \n",
       "2                   11       475.0                       1          0   \n",
       "3                    4       325.0                       1          0   \n",
       "4                    5       400.0                       1          0   \n",
       "...                ...         ...                     ...        ...   \n",
       "52058                3       180.0                       1          0   \n",
       "52063                3       169.0                       0          0   \n",
       "52065                3       222.0                       0          0   \n",
       "52068                9       240.0                       0          0   \n",
       "52074                3       145.0                       0          0   \n",
       "\n",
       "       terrace  terrace_area  garden  garden_area  surface_of_the_land  \\\n",
       "0            1          <NA>       0         <NA>                   95   \n",
       "1            1            40       1          430                  826   \n",
       "2            1          <NA>       1         1400                 1543   \n",
       "3            1          <NA>       1         2333                 3570   \n",
       "4            1            80       1          500                  616   \n",
       "...        ...           ...     ...          ...                  ...   \n",
       "52058        0          <NA>       0         <NA>                    0   \n",
       "52063        0          <NA>       0         <NA>                  389   \n",
       "52065        0          <NA>       0         <NA>                 1124   \n",
       "52068        0          <NA>       0         <NA>                  200   \n",
       "52074        0          <NA>       1           48                    0   \n",
       "\n",
       "       number_of_facades  swimming_pool state_of_the_building  \\\n",
       "0                      2              0         to be done up   \n",
       "1                      4              0                as new   \n",
       "2                      4              0                  good   \n",
       "3                      4              0                  good   \n",
       "4                      3              0                as new   \n",
       "...                  ...            ...                   ...   \n",
       "52058                  4              0                   NaN   \n",
       "52063                  3              0                   NaN   \n",
       "52065                  4              0                   NaN   \n",
       "52068                  2              0                   NaN   \n",
       "52074                  3              0                   NaN   \n",
       "\n",
       "       construction_year  \n",
       "0                   1901  \n",
       "1                   1992  \n",
       "2                   1853  \n",
       "3                   1918  \n",
       "4                   1977  \n",
       "...                  ...  \n",
       "52058               <NA>  \n",
       "52063               <NA>  \n",
       "52065               <NA>  \n",
       "52068               <NA>  \n",
       "52074               <NA>  \n",
       "\n",
       "[42352 rows x 17 columns]"
      ]
     },
     "execution_count": 63,
     "metadata": {},
     "output_type": "execute_result"
    }
   ],
   "source": [
    "immo_data[immo_data[['house_area','surface_of_the_land']].isnull().sum(axis=1)!=2]"
   ]
  },
  {
   "cell_type": "code",
   "execution_count": 64,
   "metadata": {},
   "outputs": [],
   "source": [
    "immo_data=immo_data[immo_data[['house_area','surface_of_the_land']].isnull().sum(axis=1)!=2]"
   ]
  },
  {
   "cell_type": "code",
   "execution_count": 65,
   "metadata": {},
   "outputs": [
    {
     "data": {
      "text/plain": [
       "42352"
      ]
     },
     "execution_count": 65,
     "metadata": {},
     "output_type": "execute_result"
    }
   ],
   "source": [
    "len(immo_data)"
   ]
  },
  {
   "cell_type": "code",
   "execution_count": 66,
   "metadata": {},
   "outputs": [
    {
     "data": {
      "text/html": [
       "<div>\n",
       "<style scoped>\n",
       "    .dataframe tbody tr th:only-of-type {\n",
       "        vertical-align: middle;\n",
       "    }\n",
       "\n",
       "    .dataframe tbody tr th {\n",
       "        vertical-align: top;\n",
       "    }\n",
       "\n",
       "    .dataframe thead th {\n",
       "        text-align: right;\n",
       "    }\n",
       "</style>\n",
       "<table border=\"1\" class=\"dataframe\">\n",
       "  <thead>\n",
       "    <tr style=\"text-align: right;\">\n",
       "      <th></th>\n",
       "      <th>locality</th>\n",
       "      <th>type_of_property</th>\n",
       "      <th>subtype_of_property</th>\n",
       "      <th>price</th>\n",
       "      <th>number_of_rooms</th>\n",
       "      <th>house_area</th>\n",
       "      <th>fully_equipped_kitchen</th>\n",
       "      <th>open_fire</th>\n",
       "      <th>terrace</th>\n",
       "      <th>terrace_area</th>\n",
       "      <th>garden</th>\n",
       "      <th>garden_area</th>\n",
       "      <th>surface_of_the_land</th>\n",
       "      <th>number_of_facades</th>\n",
       "      <th>swimming_pool</th>\n",
       "      <th>state_of_the_building</th>\n",
       "      <th>construction_year</th>\n",
       "    </tr>\n",
       "  </thead>\n",
       "  <tbody>\n",
       "    <tr>\n",
       "      <th>0</th>\n",
       "      <td>1050</td>\n",
       "      <td>house</td>\n",
       "      <td>house</td>\n",
       "      <td>340000</td>\n",
       "      <td>6</td>\n",
       "      <td>203.0</td>\n",
       "      <td>1</td>\n",
       "      <td>0</td>\n",
       "      <td>1</td>\n",
       "      <td>&lt;NA&gt;</td>\n",
       "      <td>0</td>\n",
       "      <td>&lt;NA&gt;</td>\n",
       "      <td>95</td>\n",
       "      <td>2</td>\n",
       "      <td>0</td>\n",
       "      <td>to be done up</td>\n",
       "      <td>1901</td>\n",
       "    </tr>\n",
       "    <tr>\n",
       "      <th>1</th>\n",
       "      <td>1880</td>\n",
       "      <td>house</td>\n",
       "      <td>villa</td>\n",
       "      <td>525000</td>\n",
       "      <td>6</td>\n",
       "      <td>250.0</td>\n",
       "      <td>1</td>\n",
       "      <td>0</td>\n",
       "      <td>1</td>\n",
       "      <td>40</td>\n",
       "      <td>1</td>\n",
       "      <td>430</td>\n",
       "      <td>826</td>\n",
       "      <td>4</td>\n",
       "      <td>0</td>\n",
       "      <td>as new</td>\n",
       "      <td>1992</td>\n",
       "    </tr>\n",
       "    <tr>\n",
       "      <th>2</th>\n",
       "      <td>4900</td>\n",
       "      <td>house</td>\n",
       "      <td>exceptional property</td>\n",
       "      <td>550000</td>\n",
       "      <td>11</td>\n",
       "      <td>475.0</td>\n",
       "      <td>1</td>\n",
       "      <td>0</td>\n",
       "      <td>1</td>\n",
       "      <td>&lt;NA&gt;</td>\n",
       "      <td>1</td>\n",
       "      <td>1400</td>\n",
       "      <td>1543</td>\n",
       "      <td>4</td>\n",
       "      <td>0</td>\n",
       "      <td>good</td>\n",
       "      <td>1853</td>\n",
       "    </tr>\n",
       "    <tr>\n",
       "      <th>3</th>\n",
       "      <td>7912</td>\n",
       "      <td>house</td>\n",
       "      <td>villa</td>\n",
       "      <td>550000</td>\n",
       "      <td>4</td>\n",
       "      <td>325.0</td>\n",
       "      <td>1</td>\n",
       "      <td>0</td>\n",
       "      <td>1</td>\n",
       "      <td>&lt;NA&gt;</td>\n",
       "      <td>1</td>\n",
       "      <td>2333</td>\n",
       "      <td>3570</td>\n",
       "      <td>4</td>\n",
       "      <td>0</td>\n",
       "      <td>good</td>\n",
       "      <td>1918</td>\n",
       "    </tr>\n",
       "    <tr>\n",
       "      <th>4</th>\n",
       "      <td>6032</td>\n",
       "      <td>house</td>\n",
       "      <td>house</td>\n",
       "      <td>550000</td>\n",
       "      <td>5</td>\n",
       "      <td>400.0</td>\n",
       "      <td>1</td>\n",
       "      <td>0</td>\n",
       "      <td>1</td>\n",
       "      <td>80</td>\n",
       "      <td>1</td>\n",
       "      <td>500</td>\n",
       "      <td>616</td>\n",
       "      <td>3</td>\n",
       "      <td>0</td>\n",
       "      <td>as new</td>\n",
       "      <td>1977</td>\n",
       "    </tr>\n",
       "    <tr>\n",
       "      <th>...</th>\n",
       "      <td>...</td>\n",
       "      <td>...</td>\n",
       "      <td>...</td>\n",
       "      <td>...</td>\n",
       "      <td>...</td>\n",
       "      <td>...</td>\n",
       "      <td>...</td>\n",
       "      <td>...</td>\n",
       "      <td>...</td>\n",
       "      <td>...</td>\n",
       "      <td>...</td>\n",
       "      <td>...</td>\n",
       "      <td>...</td>\n",
       "      <td>...</td>\n",
       "      <td>...</td>\n",
       "      <td>...</td>\n",
       "      <td>...</td>\n",
       "    </tr>\n",
       "    <tr>\n",
       "      <th>52058</th>\n",
       "      <td>2310</td>\n",
       "      <td>house</td>\n",
       "      <td>house</td>\n",
       "      <td>468000</td>\n",
       "      <td>3</td>\n",
       "      <td>180.0</td>\n",
       "      <td>1</td>\n",
       "      <td>0</td>\n",
       "      <td>0</td>\n",
       "      <td>&lt;NA&gt;</td>\n",
       "      <td>0</td>\n",
       "      <td>&lt;NA&gt;</td>\n",
       "      <td>0</td>\n",
       "      <td>4</td>\n",
       "      <td>0</td>\n",
       "      <td>NaN</td>\n",
       "      <td>&lt;NA&gt;</td>\n",
       "    </tr>\n",
       "    <tr>\n",
       "      <th>52063</th>\n",
       "      <td>1800</td>\n",
       "      <td>house</td>\n",
       "      <td>house</td>\n",
       "      <td>454993</td>\n",
       "      <td>3</td>\n",
       "      <td>169.0</td>\n",
       "      <td>0</td>\n",
       "      <td>0</td>\n",
       "      <td>0</td>\n",
       "      <td>&lt;NA&gt;</td>\n",
       "      <td>0</td>\n",
       "      <td>&lt;NA&gt;</td>\n",
       "      <td>389</td>\n",
       "      <td>3</td>\n",
       "      <td>0</td>\n",
       "      <td>NaN</td>\n",
       "      <td>&lt;NA&gt;</td>\n",
       "    </tr>\n",
       "    <tr>\n",
       "      <th>52065</th>\n",
       "      <td>3530</td>\n",
       "      <td>house</td>\n",
       "      <td>villa</td>\n",
       "      <td>475000</td>\n",
       "      <td>3</td>\n",
       "      <td>222.0</td>\n",
       "      <td>0</td>\n",
       "      <td>0</td>\n",
       "      <td>0</td>\n",
       "      <td>&lt;NA&gt;</td>\n",
       "      <td>0</td>\n",
       "      <td>&lt;NA&gt;</td>\n",
       "      <td>1124</td>\n",
       "      <td>4</td>\n",
       "      <td>0</td>\n",
       "      <td>NaN</td>\n",
       "      <td>&lt;NA&gt;</td>\n",
       "    </tr>\n",
       "    <tr>\n",
       "      <th>52068</th>\n",
       "      <td>6700</td>\n",
       "      <td>house</td>\n",
       "      <td>mansion</td>\n",
       "      <td>475000</td>\n",
       "      <td>9</td>\n",
       "      <td>240.0</td>\n",
       "      <td>0</td>\n",
       "      <td>0</td>\n",
       "      <td>0</td>\n",
       "      <td>&lt;NA&gt;</td>\n",
       "      <td>0</td>\n",
       "      <td>&lt;NA&gt;</td>\n",
       "      <td>200</td>\n",
       "      <td>2</td>\n",
       "      <td>0</td>\n",
       "      <td>NaN</td>\n",
       "      <td>&lt;NA&gt;</td>\n",
       "    </tr>\n",
       "    <tr>\n",
       "      <th>52074</th>\n",
       "      <td>2018</td>\n",
       "      <td>house</td>\n",
       "      <td>house</td>\n",
       "      <td>488000</td>\n",
       "      <td>3</td>\n",
       "      <td>145.0</td>\n",
       "      <td>0</td>\n",
       "      <td>0</td>\n",
       "      <td>0</td>\n",
       "      <td>&lt;NA&gt;</td>\n",
       "      <td>1</td>\n",
       "      <td>48</td>\n",
       "      <td>0</td>\n",
       "      <td>3</td>\n",
       "      <td>0</td>\n",
       "      <td>NaN</td>\n",
       "      <td>&lt;NA&gt;</td>\n",
       "    </tr>\n",
       "  </tbody>\n",
       "</table>\n",
       "<p>42352 rows × 17 columns</p>\n",
       "</div>"
      ],
      "text/plain": [
       "       locality type_of_property   subtype_of_property   price  \\\n",
       "0          1050            house                 house  340000   \n",
       "1          1880            house                 villa  525000   \n",
       "2          4900            house  exceptional property  550000   \n",
       "3          7912            house                 villa  550000   \n",
       "4          6032            house                 house  550000   \n",
       "...         ...              ...                   ...     ...   \n",
       "52058      2310            house                 house  468000   \n",
       "52063      1800            house                 house  454993   \n",
       "52065      3530            house                 villa  475000   \n",
       "52068      6700            house               mansion  475000   \n",
       "52074      2018            house                 house  488000   \n",
       "\n",
       "       number_of_rooms  house_area  fully_equipped_kitchen  open_fire  \\\n",
       "0                    6       203.0                       1          0   \n",
       "1                    6       250.0                       1          0   \n",
       "2                   11       475.0                       1          0   \n",
       "3                    4       325.0                       1          0   \n",
       "4                    5       400.0                       1          0   \n",
       "...                ...         ...                     ...        ...   \n",
       "52058                3       180.0                       1          0   \n",
       "52063                3       169.0                       0          0   \n",
       "52065                3       222.0                       0          0   \n",
       "52068                9       240.0                       0          0   \n",
       "52074                3       145.0                       0          0   \n",
       "\n",
       "       terrace  terrace_area  garden  garden_area  surface_of_the_land  \\\n",
       "0            1          <NA>       0         <NA>                   95   \n",
       "1            1            40       1          430                  826   \n",
       "2            1          <NA>       1         1400                 1543   \n",
       "3            1          <NA>       1         2333                 3570   \n",
       "4            1            80       1          500                  616   \n",
       "...        ...           ...     ...          ...                  ...   \n",
       "52058        0          <NA>       0         <NA>                    0   \n",
       "52063        0          <NA>       0         <NA>                  389   \n",
       "52065        0          <NA>       0         <NA>                 1124   \n",
       "52068        0          <NA>       0         <NA>                  200   \n",
       "52074        0          <NA>       1           48                    0   \n",
       "\n",
       "       number_of_facades  swimming_pool state_of_the_building  \\\n",
       "0                      2              0         to be done up   \n",
       "1                      4              0                as new   \n",
       "2                      4              0                  good   \n",
       "3                      4              0                  good   \n",
       "4                      3              0                as new   \n",
       "...                  ...            ...                   ...   \n",
       "52058                  4              0                   NaN   \n",
       "52063                  3              0                   NaN   \n",
       "52065                  4              0                   NaN   \n",
       "52068                  2              0                   NaN   \n",
       "52074                  3              0                   NaN   \n",
       "\n",
       "       construction_year  \n",
       "0                   1901  \n",
       "1                   1992  \n",
       "2                   1853  \n",
       "3                   1918  \n",
       "4                   1977  \n",
       "...                  ...  \n",
       "52058               <NA>  \n",
       "52063               <NA>  \n",
       "52065               <NA>  \n",
       "52068               <NA>  \n",
       "52074               <NA>  \n",
       "\n",
       "[42352 rows x 17 columns]"
      ]
     },
     "execution_count": 66,
     "metadata": {},
     "output_type": "execute_result"
    }
   ],
   "source": [
    "immo_data"
   ]
  },
  {
   "cell_type": "markdown",
   "metadata": {
    "pycharm": {
     "name": "#%% md\n"
    }
   },
   "source": [
    "## Reset index"
   ]
  },
  {
   "cell_type": "code",
   "execution_count": 67,
   "metadata": {},
   "outputs": [],
   "source": [
    "immo_data.reset_index(drop=True, inplace=True)"
   ]
  },
  {
   "cell_type": "code",
   "execution_count": 68,
   "metadata": {},
   "outputs": [
    {
     "data": {
      "text/html": [
       "<div>\n",
       "<style scoped>\n",
       "    .dataframe tbody tr th:only-of-type {\n",
       "        vertical-align: middle;\n",
       "    }\n",
       "\n",
       "    .dataframe tbody tr th {\n",
       "        vertical-align: top;\n",
       "    }\n",
       "\n",
       "    .dataframe thead th {\n",
       "        text-align: right;\n",
       "    }\n",
       "</style>\n",
       "<table border=\"1\" class=\"dataframe\">\n",
       "  <thead>\n",
       "    <tr style=\"text-align: right;\">\n",
       "      <th></th>\n",
       "      <th>locality</th>\n",
       "      <th>type_of_property</th>\n",
       "      <th>subtype_of_property</th>\n",
       "      <th>price</th>\n",
       "      <th>number_of_rooms</th>\n",
       "      <th>house_area</th>\n",
       "      <th>fully_equipped_kitchen</th>\n",
       "      <th>open_fire</th>\n",
       "      <th>terrace</th>\n",
       "      <th>terrace_area</th>\n",
       "      <th>garden</th>\n",
       "      <th>garden_area</th>\n",
       "      <th>surface_of_the_land</th>\n",
       "      <th>number_of_facades</th>\n",
       "      <th>swimming_pool</th>\n",
       "      <th>state_of_the_building</th>\n",
       "      <th>construction_year</th>\n",
       "    </tr>\n",
       "  </thead>\n",
       "  <tbody>\n",
       "    <tr>\n",
       "      <th>0</th>\n",
       "      <td>1050</td>\n",
       "      <td>house</td>\n",
       "      <td>house</td>\n",
       "      <td>340000</td>\n",
       "      <td>6</td>\n",
       "      <td>203.0</td>\n",
       "      <td>1</td>\n",
       "      <td>0</td>\n",
       "      <td>1</td>\n",
       "      <td>&lt;NA&gt;</td>\n",
       "      <td>0</td>\n",
       "      <td>&lt;NA&gt;</td>\n",
       "      <td>95</td>\n",
       "      <td>2</td>\n",
       "      <td>0</td>\n",
       "      <td>to be done up</td>\n",
       "      <td>1901</td>\n",
       "    </tr>\n",
       "    <tr>\n",
       "      <th>1</th>\n",
       "      <td>1880</td>\n",
       "      <td>house</td>\n",
       "      <td>villa</td>\n",
       "      <td>525000</td>\n",
       "      <td>6</td>\n",
       "      <td>250.0</td>\n",
       "      <td>1</td>\n",
       "      <td>0</td>\n",
       "      <td>1</td>\n",
       "      <td>40</td>\n",
       "      <td>1</td>\n",
       "      <td>430</td>\n",
       "      <td>826</td>\n",
       "      <td>4</td>\n",
       "      <td>0</td>\n",
       "      <td>as new</td>\n",
       "      <td>1992</td>\n",
       "    </tr>\n",
       "    <tr>\n",
       "      <th>2</th>\n",
       "      <td>4900</td>\n",
       "      <td>house</td>\n",
       "      <td>exceptional property</td>\n",
       "      <td>550000</td>\n",
       "      <td>11</td>\n",
       "      <td>475.0</td>\n",
       "      <td>1</td>\n",
       "      <td>0</td>\n",
       "      <td>1</td>\n",
       "      <td>&lt;NA&gt;</td>\n",
       "      <td>1</td>\n",
       "      <td>1400</td>\n",
       "      <td>1543</td>\n",
       "      <td>4</td>\n",
       "      <td>0</td>\n",
       "      <td>good</td>\n",
       "      <td>1853</td>\n",
       "    </tr>\n",
       "    <tr>\n",
       "      <th>3</th>\n",
       "      <td>7912</td>\n",
       "      <td>house</td>\n",
       "      <td>villa</td>\n",
       "      <td>550000</td>\n",
       "      <td>4</td>\n",
       "      <td>325.0</td>\n",
       "      <td>1</td>\n",
       "      <td>0</td>\n",
       "      <td>1</td>\n",
       "      <td>&lt;NA&gt;</td>\n",
       "      <td>1</td>\n",
       "      <td>2333</td>\n",
       "      <td>3570</td>\n",
       "      <td>4</td>\n",
       "      <td>0</td>\n",
       "      <td>good</td>\n",
       "      <td>1918</td>\n",
       "    </tr>\n",
       "    <tr>\n",
       "      <th>4</th>\n",
       "      <td>6032</td>\n",
       "      <td>house</td>\n",
       "      <td>house</td>\n",
       "      <td>550000</td>\n",
       "      <td>5</td>\n",
       "      <td>400.0</td>\n",
       "      <td>1</td>\n",
       "      <td>0</td>\n",
       "      <td>1</td>\n",
       "      <td>80</td>\n",
       "      <td>1</td>\n",
       "      <td>500</td>\n",
       "      <td>616</td>\n",
       "      <td>3</td>\n",
       "      <td>0</td>\n",
       "      <td>as new</td>\n",
       "      <td>1977</td>\n",
       "    </tr>\n",
       "    <tr>\n",
       "      <th>...</th>\n",
       "      <td>...</td>\n",
       "      <td>...</td>\n",
       "      <td>...</td>\n",
       "      <td>...</td>\n",
       "      <td>...</td>\n",
       "      <td>...</td>\n",
       "      <td>...</td>\n",
       "      <td>...</td>\n",
       "      <td>...</td>\n",
       "      <td>...</td>\n",
       "      <td>...</td>\n",
       "      <td>...</td>\n",
       "      <td>...</td>\n",
       "      <td>...</td>\n",
       "      <td>...</td>\n",
       "      <td>...</td>\n",
       "      <td>...</td>\n",
       "    </tr>\n",
       "    <tr>\n",
       "      <th>42347</th>\n",
       "      <td>2310</td>\n",
       "      <td>house</td>\n",
       "      <td>house</td>\n",
       "      <td>468000</td>\n",
       "      <td>3</td>\n",
       "      <td>180.0</td>\n",
       "      <td>1</td>\n",
       "      <td>0</td>\n",
       "      <td>0</td>\n",
       "      <td>&lt;NA&gt;</td>\n",
       "      <td>0</td>\n",
       "      <td>&lt;NA&gt;</td>\n",
       "      <td>0</td>\n",
       "      <td>4</td>\n",
       "      <td>0</td>\n",
       "      <td>NaN</td>\n",
       "      <td>&lt;NA&gt;</td>\n",
       "    </tr>\n",
       "    <tr>\n",
       "      <th>42348</th>\n",
       "      <td>1800</td>\n",
       "      <td>house</td>\n",
       "      <td>house</td>\n",
       "      <td>454993</td>\n",
       "      <td>3</td>\n",
       "      <td>169.0</td>\n",
       "      <td>0</td>\n",
       "      <td>0</td>\n",
       "      <td>0</td>\n",
       "      <td>&lt;NA&gt;</td>\n",
       "      <td>0</td>\n",
       "      <td>&lt;NA&gt;</td>\n",
       "      <td>389</td>\n",
       "      <td>3</td>\n",
       "      <td>0</td>\n",
       "      <td>NaN</td>\n",
       "      <td>&lt;NA&gt;</td>\n",
       "    </tr>\n",
       "    <tr>\n",
       "      <th>42349</th>\n",
       "      <td>3530</td>\n",
       "      <td>house</td>\n",
       "      <td>villa</td>\n",
       "      <td>475000</td>\n",
       "      <td>3</td>\n",
       "      <td>222.0</td>\n",
       "      <td>0</td>\n",
       "      <td>0</td>\n",
       "      <td>0</td>\n",
       "      <td>&lt;NA&gt;</td>\n",
       "      <td>0</td>\n",
       "      <td>&lt;NA&gt;</td>\n",
       "      <td>1124</td>\n",
       "      <td>4</td>\n",
       "      <td>0</td>\n",
       "      <td>NaN</td>\n",
       "      <td>&lt;NA&gt;</td>\n",
       "    </tr>\n",
       "    <tr>\n",
       "      <th>42350</th>\n",
       "      <td>6700</td>\n",
       "      <td>house</td>\n",
       "      <td>mansion</td>\n",
       "      <td>475000</td>\n",
       "      <td>9</td>\n",
       "      <td>240.0</td>\n",
       "      <td>0</td>\n",
       "      <td>0</td>\n",
       "      <td>0</td>\n",
       "      <td>&lt;NA&gt;</td>\n",
       "      <td>0</td>\n",
       "      <td>&lt;NA&gt;</td>\n",
       "      <td>200</td>\n",
       "      <td>2</td>\n",
       "      <td>0</td>\n",
       "      <td>NaN</td>\n",
       "      <td>&lt;NA&gt;</td>\n",
       "    </tr>\n",
       "    <tr>\n",
       "      <th>42351</th>\n",
       "      <td>2018</td>\n",
       "      <td>house</td>\n",
       "      <td>house</td>\n",
       "      <td>488000</td>\n",
       "      <td>3</td>\n",
       "      <td>145.0</td>\n",
       "      <td>0</td>\n",
       "      <td>0</td>\n",
       "      <td>0</td>\n",
       "      <td>&lt;NA&gt;</td>\n",
       "      <td>1</td>\n",
       "      <td>48</td>\n",
       "      <td>0</td>\n",
       "      <td>3</td>\n",
       "      <td>0</td>\n",
       "      <td>NaN</td>\n",
       "      <td>&lt;NA&gt;</td>\n",
       "    </tr>\n",
       "  </tbody>\n",
       "</table>\n",
       "<p>42352 rows × 17 columns</p>\n",
       "</div>"
      ],
      "text/plain": [
       "       locality type_of_property   subtype_of_property   price  \\\n",
       "0          1050            house                 house  340000   \n",
       "1          1880            house                 villa  525000   \n",
       "2          4900            house  exceptional property  550000   \n",
       "3          7912            house                 villa  550000   \n",
       "4          6032            house                 house  550000   \n",
       "...         ...              ...                   ...     ...   \n",
       "42347      2310            house                 house  468000   \n",
       "42348      1800            house                 house  454993   \n",
       "42349      3530            house                 villa  475000   \n",
       "42350      6700            house               mansion  475000   \n",
       "42351      2018            house                 house  488000   \n",
       "\n",
       "       number_of_rooms  house_area  fully_equipped_kitchen  open_fire  \\\n",
       "0                    6       203.0                       1          0   \n",
       "1                    6       250.0                       1          0   \n",
       "2                   11       475.0                       1          0   \n",
       "3                    4       325.0                       1          0   \n",
       "4                    5       400.0                       1          0   \n",
       "...                ...         ...                     ...        ...   \n",
       "42347                3       180.0                       1          0   \n",
       "42348                3       169.0                       0          0   \n",
       "42349                3       222.0                       0          0   \n",
       "42350                9       240.0                       0          0   \n",
       "42351                3       145.0                       0          0   \n",
       "\n",
       "       terrace  terrace_area  garden  garden_area  surface_of_the_land  \\\n",
       "0            1          <NA>       0         <NA>                   95   \n",
       "1            1            40       1          430                  826   \n",
       "2            1          <NA>       1         1400                 1543   \n",
       "3            1          <NA>       1         2333                 3570   \n",
       "4            1            80       1          500                  616   \n",
       "...        ...           ...     ...          ...                  ...   \n",
       "42347        0          <NA>       0         <NA>                    0   \n",
       "42348        0          <NA>       0         <NA>                  389   \n",
       "42349        0          <NA>       0         <NA>                 1124   \n",
       "42350        0          <NA>       0         <NA>                  200   \n",
       "42351        0          <NA>       1           48                    0   \n",
       "\n",
       "       number_of_facades  swimming_pool state_of_the_building  \\\n",
       "0                      2              0         to be done up   \n",
       "1                      4              0                as new   \n",
       "2                      4              0                  good   \n",
       "3                      4              0                  good   \n",
       "4                      3              0                as new   \n",
       "...                  ...            ...                   ...   \n",
       "42347                  4              0                   NaN   \n",
       "42348                  3              0                   NaN   \n",
       "42349                  4              0                   NaN   \n",
       "42350                  2              0                   NaN   \n",
       "42351                  3              0                   NaN   \n",
       "\n",
       "       construction_year  \n",
       "0                   1901  \n",
       "1                   1992  \n",
       "2                   1853  \n",
       "3                   1918  \n",
       "4                   1977  \n",
       "...                  ...  \n",
       "42347               <NA>  \n",
       "42348               <NA>  \n",
       "42349               <NA>  \n",
       "42350               <NA>  \n",
       "42351               <NA>  \n",
       "\n",
       "[42352 rows x 17 columns]"
      ]
     },
     "execution_count": 68,
     "metadata": {},
     "output_type": "execute_result"
    }
   ],
   "source": [
    "immo_data"
   ]
  },
  {
   "cell_type": "code",
   "execution_count": 70,
   "metadata": {},
   "outputs": [
    {
     "data": {
      "text/html": [
       "<div>\n",
       "<style scoped>\n",
       "    .dataframe tbody tr th:only-of-type {\n",
       "        vertical-align: middle;\n",
       "    }\n",
       "\n",
       "    .dataframe tbody tr th {\n",
       "        vertical-align: top;\n",
       "    }\n",
       "\n",
       "    .dataframe thead th {\n",
       "        text-align: right;\n",
       "    }\n",
       "</style>\n",
       "<table border=\"1\" class=\"dataframe\">\n",
       "  <thead>\n",
       "    <tr style=\"text-align: right;\">\n",
       "      <th></th>\n",
       "      <th>locality</th>\n",
       "      <th>type_of_property</th>\n",
       "      <th>subtype_of_property</th>\n",
       "      <th>price</th>\n",
       "      <th>number_of_rooms</th>\n",
       "      <th>house_area</th>\n",
       "      <th>fully_equipped_kitchen</th>\n",
       "      <th>open_fire</th>\n",
       "      <th>terrace</th>\n",
       "      <th>terrace_area</th>\n",
       "      <th>garden</th>\n",
       "      <th>garden_area</th>\n",
       "      <th>surface_of_the_land</th>\n",
       "      <th>number_of_facades</th>\n",
       "      <th>swimming_pool</th>\n",
       "      <th>state_of_the_building</th>\n",
       "      <th>construction_year</th>\n",
       "    </tr>\n",
       "  </thead>\n",
       "  <tbody>\n",
       "    <tr>\n",
       "      <th>0</th>\n",
       "      <td>1050</td>\n",
       "      <td>house</td>\n",
       "      <td>house</td>\n",
       "      <td>340000</td>\n",
       "      <td>6</td>\n",
       "      <td>203.0</td>\n",
       "      <td>1</td>\n",
       "      <td>0</td>\n",
       "      <td>1</td>\n",
       "      <td>&lt;NA&gt;</td>\n",
       "      <td>0</td>\n",
       "      <td>&lt;NA&gt;</td>\n",
       "      <td>95</td>\n",
       "      <td>2</td>\n",
       "      <td>0</td>\n",
       "      <td>to be done up</td>\n",
       "      <td>1901</td>\n",
       "    </tr>\n",
       "    <tr>\n",
       "      <th>1</th>\n",
       "      <td>1880</td>\n",
       "      <td>house</td>\n",
       "      <td>villa</td>\n",
       "      <td>525000</td>\n",
       "      <td>6</td>\n",
       "      <td>250.0</td>\n",
       "      <td>1</td>\n",
       "      <td>0</td>\n",
       "      <td>1</td>\n",
       "      <td>40</td>\n",
       "      <td>1</td>\n",
       "      <td>430</td>\n",
       "      <td>826</td>\n",
       "      <td>4</td>\n",
       "      <td>0</td>\n",
       "      <td>as new</td>\n",
       "      <td>1992</td>\n",
       "    </tr>\n",
       "    <tr>\n",
       "      <th>2</th>\n",
       "      <td>4900</td>\n",
       "      <td>house</td>\n",
       "      <td>exceptional property</td>\n",
       "      <td>550000</td>\n",
       "      <td>11</td>\n",
       "      <td>475.0</td>\n",
       "      <td>1</td>\n",
       "      <td>0</td>\n",
       "      <td>1</td>\n",
       "      <td>&lt;NA&gt;</td>\n",
       "      <td>1</td>\n",
       "      <td>1400</td>\n",
       "      <td>1543</td>\n",
       "      <td>4</td>\n",
       "      <td>0</td>\n",
       "      <td>good</td>\n",
       "      <td>1853</td>\n",
       "    </tr>\n",
       "    <tr>\n",
       "      <th>3</th>\n",
       "      <td>7912</td>\n",
       "      <td>house</td>\n",
       "      <td>villa</td>\n",
       "      <td>550000</td>\n",
       "      <td>4</td>\n",
       "      <td>325.0</td>\n",
       "      <td>1</td>\n",
       "      <td>0</td>\n",
       "      <td>1</td>\n",
       "      <td>&lt;NA&gt;</td>\n",
       "      <td>1</td>\n",
       "      <td>2333</td>\n",
       "      <td>3570</td>\n",
       "      <td>4</td>\n",
       "      <td>0</td>\n",
       "      <td>good</td>\n",
       "      <td>1918</td>\n",
       "    </tr>\n",
       "    <tr>\n",
       "      <th>4</th>\n",
       "      <td>6032</td>\n",
       "      <td>house</td>\n",
       "      <td>house</td>\n",
       "      <td>550000</td>\n",
       "      <td>5</td>\n",
       "      <td>400.0</td>\n",
       "      <td>1</td>\n",
       "      <td>0</td>\n",
       "      <td>1</td>\n",
       "      <td>80</td>\n",
       "      <td>1</td>\n",
       "      <td>500</td>\n",
       "      <td>616</td>\n",
       "      <td>3</td>\n",
       "      <td>0</td>\n",
       "      <td>as new</td>\n",
       "      <td>1977</td>\n",
       "    </tr>\n",
       "    <tr>\n",
       "      <th>...</th>\n",
       "      <td>...</td>\n",
       "      <td>...</td>\n",
       "      <td>...</td>\n",
       "      <td>...</td>\n",
       "      <td>...</td>\n",
       "      <td>...</td>\n",
       "      <td>...</td>\n",
       "      <td>...</td>\n",
       "      <td>...</td>\n",
       "      <td>...</td>\n",
       "      <td>...</td>\n",
       "      <td>...</td>\n",
       "      <td>...</td>\n",
       "      <td>...</td>\n",
       "      <td>...</td>\n",
       "      <td>...</td>\n",
       "      <td>...</td>\n",
       "    </tr>\n",
       "    <tr>\n",
       "      <th>42347</th>\n",
       "      <td>2310</td>\n",
       "      <td>house</td>\n",
       "      <td>house</td>\n",
       "      <td>468000</td>\n",
       "      <td>3</td>\n",
       "      <td>180.0</td>\n",
       "      <td>1</td>\n",
       "      <td>0</td>\n",
       "      <td>0</td>\n",
       "      <td>&lt;NA&gt;</td>\n",
       "      <td>0</td>\n",
       "      <td>&lt;NA&gt;</td>\n",
       "      <td>0</td>\n",
       "      <td>4</td>\n",
       "      <td>0</td>\n",
       "      <td>NaN</td>\n",
       "      <td>&lt;NA&gt;</td>\n",
       "    </tr>\n",
       "    <tr>\n",
       "      <th>42348</th>\n",
       "      <td>1800</td>\n",
       "      <td>house</td>\n",
       "      <td>house</td>\n",
       "      <td>454993</td>\n",
       "      <td>3</td>\n",
       "      <td>169.0</td>\n",
       "      <td>0</td>\n",
       "      <td>0</td>\n",
       "      <td>0</td>\n",
       "      <td>&lt;NA&gt;</td>\n",
       "      <td>0</td>\n",
       "      <td>&lt;NA&gt;</td>\n",
       "      <td>389</td>\n",
       "      <td>3</td>\n",
       "      <td>0</td>\n",
       "      <td>NaN</td>\n",
       "      <td>&lt;NA&gt;</td>\n",
       "    </tr>\n",
       "    <tr>\n",
       "      <th>42349</th>\n",
       "      <td>3530</td>\n",
       "      <td>house</td>\n",
       "      <td>villa</td>\n",
       "      <td>475000</td>\n",
       "      <td>3</td>\n",
       "      <td>222.0</td>\n",
       "      <td>0</td>\n",
       "      <td>0</td>\n",
       "      <td>0</td>\n",
       "      <td>&lt;NA&gt;</td>\n",
       "      <td>0</td>\n",
       "      <td>&lt;NA&gt;</td>\n",
       "      <td>1124</td>\n",
       "      <td>4</td>\n",
       "      <td>0</td>\n",
       "      <td>NaN</td>\n",
       "      <td>&lt;NA&gt;</td>\n",
       "    </tr>\n",
       "    <tr>\n",
       "      <th>42350</th>\n",
       "      <td>6700</td>\n",
       "      <td>house</td>\n",
       "      <td>mansion</td>\n",
       "      <td>475000</td>\n",
       "      <td>9</td>\n",
       "      <td>240.0</td>\n",
       "      <td>0</td>\n",
       "      <td>0</td>\n",
       "      <td>0</td>\n",
       "      <td>&lt;NA&gt;</td>\n",
       "      <td>0</td>\n",
       "      <td>&lt;NA&gt;</td>\n",
       "      <td>200</td>\n",
       "      <td>2</td>\n",
       "      <td>0</td>\n",
       "      <td>NaN</td>\n",
       "      <td>&lt;NA&gt;</td>\n",
       "    </tr>\n",
       "    <tr>\n",
       "      <th>42351</th>\n",
       "      <td>2018</td>\n",
       "      <td>house</td>\n",
       "      <td>house</td>\n",
       "      <td>488000</td>\n",
       "      <td>3</td>\n",
       "      <td>145.0</td>\n",
       "      <td>0</td>\n",
       "      <td>0</td>\n",
       "      <td>0</td>\n",
       "      <td>&lt;NA&gt;</td>\n",
       "      <td>1</td>\n",
       "      <td>48</td>\n",
       "      <td>0</td>\n",
       "      <td>3</td>\n",
       "      <td>0</td>\n",
       "      <td>NaN</td>\n",
       "      <td>&lt;NA&gt;</td>\n",
       "    </tr>\n",
       "  </tbody>\n",
       "</table>\n",
       "<p>42352 rows × 17 columns</p>\n",
       "</div>"
      ],
      "text/plain": [
       "       locality type_of_property   subtype_of_property   price  \\\n",
       "0          1050            house                 house  340000   \n",
       "1          1880            house                 villa  525000   \n",
       "2          4900            house  exceptional property  550000   \n",
       "3          7912            house                 villa  550000   \n",
       "4          6032            house                 house  550000   \n",
       "...         ...              ...                   ...     ...   \n",
       "42347      2310            house                 house  468000   \n",
       "42348      1800            house                 house  454993   \n",
       "42349      3530            house                 villa  475000   \n",
       "42350      6700            house               mansion  475000   \n",
       "42351      2018            house                 house  488000   \n",
       "\n",
       "       number_of_rooms  house_area  fully_equipped_kitchen  open_fire  \\\n",
       "0                    6       203.0                       1          0   \n",
       "1                    6       250.0                       1          0   \n",
       "2                   11       475.0                       1          0   \n",
       "3                    4       325.0                       1          0   \n",
       "4                    5       400.0                       1          0   \n",
       "...                ...         ...                     ...        ...   \n",
       "42347                3       180.0                       1          0   \n",
       "42348                3       169.0                       0          0   \n",
       "42349                3       222.0                       0          0   \n",
       "42350                9       240.0                       0          0   \n",
       "42351                3       145.0                       0          0   \n",
       "\n",
       "       terrace  terrace_area  garden  garden_area  surface_of_the_land  \\\n",
       "0            1          <NA>       0         <NA>                   95   \n",
       "1            1            40       1          430                  826   \n",
       "2            1          <NA>       1         1400                 1543   \n",
       "3            1          <NA>       1         2333                 3570   \n",
       "4            1            80       1          500                  616   \n",
       "...        ...           ...     ...          ...                  ...   \n",
       "42347        0          <NA>       0         <NA>                    0   \n",
       "42348        0          <NA>       0         <NA>                  389   \n",
       "42349        0          <NA>       0         <NA>                 1124   \n",
       "42350        0          <NA>       0         <NA>                  200   \n",
       "42351        0          <NA>       1           48                    0   \n",
       "\n",
       "       number_of_facades  swimming_pool state_of_the_building  \\\n",
       "0                      2              0         to be done up   \n",
       "1                      4              0                as new   \n",
       "2                      4              0                  good   \n",
       "3                      4              0                  good   \n",
       "4                      3              0                as new   \n",
       "...                  ...            ...                   ...   \n",
       "42347                  4              0                   NaN   \n",
       "42348                  3              0                   NaN   \n",
       "42349                  4              0                   NaN   \n",
       "42350                  2              0                   NaN   \n",
       "42351                  3              0                   NaN   \n",
       "\n",
       "       construction_year  \n",
       "0                   1901  \n",
       "1                   1992  \n",
       "2                   1853  \n",
       "3                   1918  \n",
       "4                   1977  \n",
       "...                  ...  \n",
       "42347               <NA>  \n",
       "42348               <NA>  \n",
       "42349               <NA>  \n",
       "42350               <NA>  \n",
       "42351               <NA>  \n",
       "\n",
       "[42352 rows x 17 columns]"
      ]
     },
     "execution_count": 70,
     "metadata": {},
     "output_type": "execute_result"
    }
   ],
   "source": [
    "immo_data"
   ]
  },
  {
   "cell_type": "code",
   "execution_count": 69,
   "metadata": {},
   "outputs": [],
   "source": [
    "immo_data.to_csv('filtered_dataset_house_appartment.csv')"
   ]
  },
  {
   "cell_type": "code",
   "execution_count": null,
   "metadata": {},
   "outputs": [],
   "source": []
  }
 ],
 "metadata": {
  "kernelspec": {
   "display_name": "Python 3",
   "language": "python",
   "name": "python3"
  },
  "language_info": {
   "codemirror_mode": {
    "name": "ipython",
    "version": 3
   },
   "file_extension": ".py",
   "mimetype": "text/x-python",
   "name": "python",
   "nbconvert_exporter": "python",
   "pygments_lexer": "ipython3",
   "version": "3.8.3"
  }
 },
 "nbformat": 4,
 "nbformat_minor": 4
}
